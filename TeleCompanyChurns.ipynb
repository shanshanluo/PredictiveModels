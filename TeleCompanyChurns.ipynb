{
 "cells": [
  {
   "cell_type": "markdown",
   "metadata": {},
   "source": [
    "## Telecom Company Account Churns"
   ]
  },
  {
   "cell_type": "markdown",
   "metadata": {},
   "source": [
    "### Description"
   ]
  },
  {
   "cell_type": "markdown",
   "metadata": {},
   "source": [
    "Customer attrition is one of the problems that effect business of a Telecom Company. The company needs to find solution to address this problem. One of the most effective ways is to make prediction on potential customer churns, and then conduct some follow-ups or inquiries with these customers, in the aim at solving the problem preactively.\n",
    "<br>Telecom company has customer account data that contains both customer demographic and account information. The data has total 7043 rows, each row contains a customer information presented in 21 columns shown below. \n",
    "<br>We'll perform data preprocessing and analysis before building predictive models. In model build stage, several basic predictive models and ensembled models are built and evaluated with given dataset. Model that has highest predictive accuracy score on evaluation data will be selected as the final predictive model for house evaluation. In addition, features that impact the house price the most will be extracted and analyzed."
   ]
  },
  {
   "cell_type": "markdown",
   "metadata": {},
   "source": [
    "|No|Variables|Description|\n",
    "|:--|:--------|:-----------|\n",
    "|1|customerID|Customer ID|\n",
    "|2|gender|Whether the customer is a male or a female|\n",
    "|3|SeniorCitizen|senior citizen or not (1, 0)|\n",
    "|4|Partner|Whether the customer has a partner or not (Yes, No)|\n",
    "|5|Dependents|Whether the customer has a dependent or not (Yes, No)|\n",
    "|6|tenure|Number of months the customer has stayed with the company|\n",
    "|7|PhoneService| Whether the customer has a phone service or not (Yes, No)|\n",
    "|8|MultipleLines|Whether the customer has multiple lines or not (Yes, No, No phone service)|\n",
    "|9| InternetService|Customer’s internet service provider (DSL, Fiber optic, No)|\n",
    "|0| OnlineSecurity|Whether the customer has online security or not (Yes, No, No internet service)|\n",
    "|11| OnlineBackup|Whether the customer has online backup or not (Yes, No, No internet service)|\n",
    "|12| DeviceProtection|Whether the customer has device protection or not (Yes, No, No internet service)|\n",
    "|13|TechSupport|Whether the customer has tech support or not (Yes, No, No internet service)|\n",
    "|14|StreamingTV|Whether the customer has streaming TV or not (Yes, No, No internet service)|\n",
    "|15|StreamingMovies|Whether the customer has streaming movies or not (Yes, No, No internet service)|\n",
    "|16|Contract|The contract term of the customer (Month-to-month, One year, Two year)|\n",
    "|17|PaperlessBilling|Whether the customer has paperless billing or not (Yes, No)|\n",
    "|18|PaymentMethod|The customer’s payment method (Electronic check, Mailed check, Bank transfer (automatic), Credit card (automatic))|\n",
    "|19|MonthlyCharges|The amount charged to the customer monthly|\n",
    "|20|TotalCharges|The total amount charged to the customer|\n",
    "|21|Churn |Whether the customer churned or not (Yes or No)|"
   ]
  },
  {
   "cell_type": "markdown",
   "metadata": {},
   "source": [
    "### Data Preprocessing"
   ]
  },
  {
   "cell_type": "markdown",
   "metadata": {},
   "source": [
    "Data file 'telco_o.csv' was read in as input pandas DataFrame for analysis. The dataset has 7043 records and 21 columns. Each column presents attributes of the one telecom company customer account.\n",
    "<br>Data preprocessing stage involves handling missing values in dataset, creating new features and removing irrelevant and duplicated features. <br>Missing values occurs in columns 'DeviceProtection' and 'TechSupport'. We replaced missing values with most frequetly occured value in the group. <br>Categorical variables that have 2 levels or have implicit order are mapped to numeric values. For other categorical variables, we created dummy variables for each such column. <br>Columns 'customerID', 'Unnamed: 0' were removed to clean irelevance and duplicates. <br>After all above process, we got a clean dataset for analysis and model building."
   ]
  },
  {
   "cell_type": "markdown",
   "metadata": {},
   "source": [
    "### Predictive Models"
   ]
  },
  {
   "cell_type": "markdown",
   "metadata": {},
   "source": [
    "Three types of ensembled model techinques and Neural Network model were exercised to fit predictive models. \n",
    "- Voting: Hard Voting and Soft Voting with Logistic Regression, KNN, LinearSVC, SVC_poly, SVC_rbf and Decision Tree as base models  \n",
    "- Bagging: Bagging with KNN, Decision Tree as base models. Pasting with Logistic Regression and LinearSVC as base models\n",
    "- Boosting: AdaBoosting with Decision Tree and Logistic Regression as base models. GradientBoosting model was also fitted to find the best models.\n",
    "- Neural Network: A sequential deep learning model\n",
    "\n",
    "<br>Model selection was performed by calling GridSearchCV API with specified tuning paramter grid. 5-fold Cross Validation was performed on training dataset to fit each model. Accuracy score is the performance metrics for model selection. Final predictive model is the model that generates highest prediction accuracy score on test dataset."
   ]
  },
  {
   "cell_type": "markdown",
   "metadata": {},
   "source": [
    "### Results"
   ]
  },
  {
   "cell_type": "markdown",
   "metadata": {},
   "source": [
    "[Predictive Model Results](#Predictive-Model-Results)\n",
    "<br>[Feature Importance](#Feature-Importance)"
   ]
  },
  {
   "cell_type": "markdown",
   "metadata": {},
   "source": [
    "- Final Model\n",
    "<br>Among all the fitted models, Gradient Boosting classifier performs the best on given test dataset. The model generates highest test accuracy score of 0.807. Hyperparamter for the model is 'learning_rate': 0.3, 'max_depth': 1, 'n_estimators': 100.\n"
   ]
  },
  {
   "cell_type": "markdown",
   "metadata": {},
   "source": [
    "- Feature Importance\n",
    "<br>From our feature importance analysis result shown in attached link, customer contract type has the most significant influence on customer churn status. Influence from tenure of customer staying with telecom company follows contract type. Whether or not a customer using ITS_Fiber optic rank 3rd in significance."
   ]
  },
  {
   "cell_type": "markdown",
   "metadata": {},
   "source": [
    "### Code"
   ]
  },
  {
   "cell_type": "markdown",
   "metadata": {},
   "source": [
    "#### Data Preprocessing"
   ]
  },
  {
   "cell_type": "code",
   "execution_count": 1,
   "metadata": {},
   "outputs": [],
   "source": [
    "import numpy as np\n",
    "import pandas as pd\n",
    "from sklearn.preprocessing import StandardScaler\n",
    "from sklearn.preprocessing import MinMaxScaler\n",
    "from sklearn.neighbors import KNeighborsClassifier\n",
    "import matplotlib.pyplot as plt"
   ]
  },
  {
   "cell_type": "code",
   "execution_count": 2,
   "metadata": {
    "scrolled": true
   },
   "outputs": [
    {
     "name": "stdout",
     "output_type": "stream",
     "text": [
      "<class 'pandas.core.frame.DataFrame'>\n",
      "RangeIndex: 7043 entries, 0 to 7042\n",
      "Data columns (total 22 columns):\n",
      " #   Column            Non-Null Count  Dtype  \n",
      "---  ------            --------------  -----  \n",
      " 0   Unnamed: 0        7043 non-null   int64  \n",
      " 1   customerID        7043 non-null   object \n",
      " 2   gender            7043 non-null   object \n",
      " 3   SeniorCitizen     7043 non-null   int64  \n",
      " 4   Partner           7043 non-null   object \n",
      " 5   Dependents        6845 non-null   object \n",
      " 6   tenure            7043 non-null   int64  \n",
      " 7   PhoneService      7043 non-null   object \n",
      " 8   MultipleLines     7043 non-null   object \n",
      " 9   InternetService   7043 non-null   object \n",
      " 10  OnlineSecurity    7043 non-null   object \n",
      " 11  OnlineBackup      7043 non-null   object \n",
      " 12  DeviceProtection  6761 non-null   object \n",
      " 13  TechSupport       6722 non-null   object \n",
      " 14  StreamingTV       7043 non-null   object \n",
      " 15  StreamingMovies   7043 non-null   object \n",
      " 16  Contract          7043 non-null   object \n",
      " 17  PaperlessBilling  7043 non-null   object \n",
      " 18  PaymentMethod     7043 non-null   object \n",
      " 19  MonthlyCharges    7043 non-null   float64\n",
      " 20  TotalCharges      7032 non-null   float64\n",
      " 21  Churn             7043 non-null   object \n",
      "dtypes: float64(2), int64(3), object(17)\n",
      "memory usage: 1.2+ MB\n"
     ]
    },
    {
     "data": {
      "text/html": [
       "<div>\n",
       "<style scoped>\n",
       "    .dataframe tbody tr th:only-of-type {\n",
       "        vertical-align: middle;\n",
       "    }\n",
       "\n",
       "    .dataframe tbody tr th {\n",
       "        vertical-align: top;\n",
       "    }\n",
       "\n",
       "    .dataframe thead th {\n",
       "        text-align: right;\n",
       "    }\n",
       "</style>\n",
       "<table border=\"1\" class=\"dataframe\">\n",
       "  <thead>\n",
       "    <tr style=\"text-align: right;\">\n",
       "      <th></th>\n",
       "      <th>Unnamed: 0</th>\n",
       "      <th>SeniorCitizen</th>\n",
       "      <th>tenure</th>\n",
       "      <th>MonthlyCharges</th>\n",
       "      <th>TotalCharges</th>\n",
       "    </tr>\n",
       "  </thead>\n",
       "  <tbody>\n",
       "    <tr>\n",
       "      <th>count</th>\n",
       "      <td>7043.000000</td>\n",
       "      <td>7043.000000</td>\n",
       "      <td>7043.000000</td>\n",
       "      <td>7043.000000</td>\n",
       "      <td>7032.000000</td>\n",
       "    </tr>\n",
       "    <tr>\n",
       "      <th>mean</th>\n",
       "      <td>3521.000000</td>\n",
       "      <td>0.162147</td>\n",
       "      <td>32.371149</td>\n",
       "      <td>64.761692</td>\n",
       "      <td>2283.300441</td>\n",
       "    </tr>\n",
       "    <tr>\n",
       "      <th>std</th>\n",
       "      <td>2033.283305</td>\n",
       "      <td>0.368612</td>\n",
       "      <td>24.559481</td>\n",
       "      <td>30.090047</td>\n",
       "      <td>2266.771362</td>\n",
       "    </tr>\n",
       "    <tr>\n",
       "      <th>min</th>\n",
       "      <td>0.000000</td>\n",
       "      <td>0.000000</td>\n",
       "      <td>0.000000</td>\n",
       "      <td>18.250000</td>\n",
       "      <td>18.800000</td>\n",
       "    </tr>\n",
       "    <tr>\n",
       "      <th>25%</th>\n",
       "      <td>1760.500000</td>\n",
       "      <td>0.000000</td>\n",
       "      <td>9.000000</td>\n",
       "      <td>35.500000</td>\n",
       "      <td>401.450000</td>\n",
       "    </tr>\n",
       "    <tr>\n",
       "      <th>50%</th>\n",
       "      <td>3521.000000</td>\n",
       "      <td>0.000000</td>\n",
       "      <td>29.000000</td>\n",
       "      <td>70.350000</td>\n",
       "      <td>1397.475000</td>\n",
       "    </tr>\n",
       "    <tr>\n",
       "      <th>75%</th>\n",
       "      <td>5281.500000</td>\n",
       "      <td>0.000000</td>\n",
       "      <td>55.000000</td>\n",
       "      <td>89.850000</td>\n",
       "      <td>3794.737500</td>\n",
       "    </tr>\n",
       "    <tr>\n",
       "      <th>max</th>\n",
       "      <td>7042.000000</td>\n",
       "      <td>1.000000</td>\n",
       "      <td>72.000000</td>\n",
       "      <td>118.750000</td>\n",
       "      <td>8684.800000</td>\n",
       "    </tr>\n",
       "  </tbody>\n",
       "</table>\n",
       "</div>"
      ],
      "text/plain": [
       "        Unnamed: 0  SeniorCitizen       tenure  MonthlyCharges  TotalCharges\n",
       "count  7043.000000    7043.000000  7043.000000     7043.000000   7032.000000\n",
       "mean   3521.000000       0.162147    32.371149       64.761692   2283.300441\n",
       "std    2033.283305       0.368612    24.559481       30.090047   2266.771362\n",
       "min       0.000000       0.000000     0.000000       18.250000     18.800000\n",
       "25%    1760.500000       0.000000     9.000000       35.500000    401.450000\n",
       "50%    3521.000000       0.000000    29.000000       70.350000   1397.475000\n",
       "75%    5281.500000       0.000000    55.000000       89.850000   3794.737500\n",
       "max    7042.000000       1.000000    72.000000      118.750000   8684.800000"
      ]
     },
     "execution_count": 2,
     "metadata": {},
     "output_type": "execute_result"
    }
   ],
   "source": [
    "telco = pd.read_csv(\"data/telco_o.csv\", na_values=['?', ' '])\n",
    "telco.info()\n",
    "telco.describe()\n",
    "#telco.head"
   ]
  },
  {
   "cell_type": "markdown",
   "metadata": {},
   "source": [
    "#### - Check and handle missing values\n",
    "- Fill missing values in 'DeviceProtection' and 'TechSupport' with value occurs the most in each group of the column"
   ]
  },
  {
   "cell_type": "code",
   "execution_count": 3,
   "metadata": {},
   "outputs": [
    {
     "data": {
      "text/plain": [
       "Index(['Dependents', 'DeviceProtection', 'TechSupport', 'TotalCharges'], dtype='object')"
      ]
     },
     "execution_count": 3,
     "metadata": {},
     "output_type": "execute_result"
    }
   ],
   "source": [
    "telco.columns[telco.isnull().sum()>0]"
   ]
  },
  {
   "cell_type": "code",
   "execution_count": 4,
   "metadata": {},
   "outputs": [],
   "source": [
    "telco.drop(['customerID', 'Unnamed: 0'], axis=1, inplace=True)\n",
    "\n",
    "\n",
    "grps = telco.groupby(['Contract', 'MultipleLines'])\n",
    "telco['DeviceProtection'] = grps['DeviceProtection'].transform(lambda grp: grp.fillna(grp.value_counts().index[0]))\n",
    "\n",
    "grps = telco.groupby(['MultipleLines'])\n",
    "telco['TechSupport'] = grps['TechSupport'].transform(lambda grp: grp.fillna(grp.value_counts().index[0]))\n",
    "\n",
    "telco.dropna(inplace=True)"
   ]
  },
  {
   "cell_type": "markdown",
   "metadata": {},
   "source": [
    "#### Convert categorical features to numerics\n",
    "1. For category columns having 2 levels, binary mapping columns\n",
    "2. For category columns with 3 levels having implict orders, mapping columns to numbers 0, 1, 2\n",
    "3. For Nominal category columns, generate dummy variables for each column"
   ]
  },
  {
   "cell_type": "code",
   "execution_count": 5,
   "metadata": {},
   "outputs": [],
   "source": [
    "telco[\"Churn\"] = telco[\"Churn\"].map({\"No\":0, \"Yes\":1}).astype(int)\n",
    "telco['gender'] = telco['gender'].map({\"Female\": 0, \"Male\":1}).astype(int)\n",
    "telco[\"Partner\"] = telco[\"Partner\"].map({\"Yes\": 1, \"No\": 0}).astype(int)\n",
    "telco['PhoneService'] = telco['PhoneService'].map({\"Yes\":1, \"No\":0}).astype(int)\n",
    "telco[\"Dependents\"] = telco[\"Dependents\"].map({\"Yes\": 1, \"No\": 0}, na_action='ignore').astype(int)"
   ]
  },
  {
   "cell_type": "code",
   "execution_count": 6,
   "metadata": {},
   "outputs": [],
   "source": [
    "telco[\"MultipleLines\"] = telco[\"MultipleLines\"].map({\"No phone service\":0, \"No\":1, \"Yes\":2}).astype(int)\n",
    "telco[\"OnlineSecurity\"] = telco[\"OnlineSecurity\"].map({\"No internet service\":0, \"No\":1, \"Yes\":2}).astype(int)\n",
    "telco[\"OnlineBackup\"] = telco[\"OnlineBackup\"].map({\"No internet service\":0, \"No\":1, \"Yes\":2}).astype(int)\n",
    "telco[\"StreamingMovies\"] = telco[\"StreamingMovies\"].map({\"No internet service\":0, \"No\":1, \"Yes\":2}).astype(int)\n",
    "telco['StreamingTV'] = telco['StreamingTV'].map({\"No internet service\":0, \"No\":1, \"Yes\":2}).astype(int)\n",
    "telco[\"PaperlessBilling\"] = telco[\"PaperlessBilling\"].map({\"No\":0, \"Yes\":1}).astype(int)\n",
    "telco['DeviceProtection'] = telco['DeviceProtection'].map({'No internet service':0, \"No\":1, \"Yes\":2}).astype(int)\n",
    "telco['TechSupport'] = telco['TechSupport'].map({'No internet service':0, 'No':1, 'Yes':2}).astype(int)\n",
    "telco['Contract'] = telco['Contract'].map({'Month-to-month':0, 'One year':1, 'Two year':2}).astype(int)"
   ]
  },
  {
   "cell_type": "code",
   "execution_count": 7,
   "metadata": {},
   "outputs": [],
   "source": [
    "its_dummy = pd.get_dummies(telco['InternetService'], columns='InternetService', prefix='ITS') \n",
    "telco = pd.concat([telco, its_dummy], axis=1)\n",
    "telco.drop(['InternetService'], axis=1, inplace=True)\n",
    "\n",
    "payment_dummy = pd.get_dummies(telco['PaymentMethod'], columns='PaymentMethod', prefix='Payment')\n",
    "telco = pd.concat([telco, payment_dummy], axis=1)\n",
    "telco.drop(['PaymentMethod'], axis=1, inplace=True)"
   ]
  },
  {
   "cell_type": "markdown",
   "metadata": {},
   "source": [
    "#### Now we have a clean data frame without missing values and all features have numeric value type"
   ]
  },
  {
   "cell_type": "code",
   "execution_count": 8,
   "metadata": {},
   "outputs": [
    {
     "name": "stdout",
     "output_type": "stream",
     "text": [
      "<class 'pandas.core.frame.DataFrame'>\n",
      "Int64Index: 6834 entries, 0 to 7042\n",
      "Data columns (total 25 columns):\n",
      " #   Column                             Non-Null Count  Dtype  \n",
      "---  ------                             --------------  -----  \n",
      " 0   gender                             6834 non-null   int32  \n",
      " 1   SeniorCitizen                      6834 non-null   int64  \n",
      " 2   Partner                            6834 non-null   int32  \n",
      " 3   Dependents                         6834 non-null   int32  \n",
      " 4   tenure                             6834 non-null   int64  \n",
      " 5   PhoneService                       6834 non-null   int32  \n",
      " 6   MultipleLines                      6834 non-null   int32  \n",
      " 7   OnlineSecurity                     6834 non-null   int32  \n",
      " 8   OnlineBackup                       6834 non-null   int32  \n",
      " 9   DeviceProtection                   6834 non-null   int32  \n",
      " 10  TechSupport                        6834 non-null   int32  \n",
      " 11  StreamingTV                        6834 non-null   int32  \n",
      " 12  StreamingMovies                    6834 non-null   int32  \n",
      " 13  Contract                           6834 non-null   int32  \n",
      " 14  PaperlessBilling                   6834 non-null   int32  \n",
      " 15  MonthlyCharges                     6834 non-null   float64\n",
      " 16  TotalCharges                       6834 non-null   float64\n",
      " 17  Churn                              6834 non-null   int32  \n",
      " 18  ITS_DSL                            6834 non-null   uint8  \n",
      " 19  ITS_Fiber optic                    6834 non-null   uint8  \n",
      " 20  ITS_No                             6834 non-null   uint8  \n",
      " 21  Payment_Bank transfer (automatic)  6834 non-null   uint8  \n",
      " 22  Payment_Credit card (automatic)    6834 non-null   uint8  \n",
      " 23  Payment_Electronic check           6834 non-null   uint8  \n",
      " 24  Payment_Mailed check               6834 non-null   uint8  \n",
      "dtypes: float64(2), int32(14), int64(2), uint8(7)\n",
      "memory usage: 687.4 KB\n"
     ]
    }
   ],
   "source": [
    "telco.info()"
   ]
  },
  {
   "cell_type": "markdown",
   "metadata": {},
   "source": [
    "###  Data Partition to Train and Test Datasets"
   ]
  },
  {
   "cell_type": "code",
   "execution_count": 9,
   "metadata": {},
   "outputs": [],
   "source": [
    "from sklearn.model_selection import train_test_split"
   ]
  },
  {
   "cell_type": "code",
   "execution_count": 10,
   "metadata": {},
   "outputs": [],
   "source": [
    "y = telco['Churn']\n",
    "X = telco.drop(['Churn'], axis = 1)"
   ]
  },
  {
   "cell_type": "code",
   "execution_count": 11,
   "metadata": {},
   "outputs": [],
   "source": [
    "X_train_full, X_test_org, y_train, y_test = train_test_split(X, y, test_size = 0.2, random_state=0)"
   ]
  },
  {
   "cell_type": "code",
   "execution_count": 12,
   "metadata": {},
   "outputs": [
    {
     "name": "stdout",
     "output_type": "stream",
     "text": [
      "train dataset size:  (5467, 24) \n",
      "test dataset size:  (1367, 24)\n"
     ]
    }
   ],
   "source": [
    "scaler = MinMaxScaler()\n",
    "X_train = scaler.fit_transform(X_train_full)\n",
    "X_test = scaler.transform(X_test_org)\n",
    "print(\"train dataset size: \", X_train.shape, \"\\ntest dataset size: \", X_test.shape)"
   ]
  },
  {
   "cell_type": "code",
   "execution_count": 13,
   "metadata": {},
   "outputs": [],
   "source": [
    "model_Scores = []"
   ]
  },
  {
   "cell_type": "markdown",
   "metadata": {},
   "source": [
    "## Basic Classification Models"
   ]
  },
  {
   "cell_type": "code",
   "execution_count": 23,
   "metadata": {},
   "outputs": [],
   "source": [
    "from sklearn.linear_model import LogisticRegression\n",
    "from sklearn.neighbors import KNeighborsClassifier\n",
    "from sklearn.svm import LinearSVC\n",
    "from sklearn.svm import SVC\n",
    "from sklearn.tree import DecisionTreeClassifier\n",
    "from sklearn.ensemble import VotingClassifier\n",
    "from sklearn.metrics import accuracy_score\n",
    "from sklearn.model_selection import GridSearchCV"
   ]
  },
  {
   "cell_type": "code",
   "execution_count": 24,
   "metadata": {},
   "outputs": [
    {
     "name": "stdout",
     "output_type": "stream",
     "text": [
      "Best model: LogisticRegression(C=1) with params: {'C': 1} \n",
      "train score: 0.8032\n",
      "Test score: 0.8010\n",
      "Best model: KNeighborsClassifier(n_neighbors=10) with params: {'n_neighbors': 10} \n",
      "train score: 0.7759\n",
      "Test score: 0.7652\n",
      "Best model: SVC(C=0.1, kernel='linear', probability=True) with params: {'C': 0.1} \n",
      "train score: 0.8006\n",
      "Test score: 0.7922\n",
      "Best model: SVC(C=1, degree=1, kernel='poly', probability=True) with params: {'C': 1, 'degree': 1} \n",
      "train score: 0.8006\n",
      "Test score: 0.7922\n",
      "Best model: SVC(C=1, gamma=0.3, probability=True) with params: {'C': 1, 'gamma': 0.3} \n",
      "train score: 0.7984\n",
      "Test score: 0.7871\n",
      "Best model: DecisionTreeClassifier(max_depth=3) with params: {'max_depth': 3} \n",
      "train score: 0.7911\n",
      "Test score: 0.7805\n"
     ]
    },
    {
     "data": {
      "text/plain": [
       "[('lr', LogisticRegression(C=1)),\n",
       " ('knn', KNeighborsClassifier(n_neighbors=10)),\n",
       " ('lsvc', SVC(C=0.1, kernel='linear', probability=True)),\n",
       " ('psvc', SVC(C=1, degree=1, kernel='poly', probability=True)),\n",
       " ('rsvc', SVC(C=1, gamma=0.3, probability=True)),\n",
       " ('dtree', DecisionTreeClassifier(max_depth=3))]"
      ]
     },
     "execution_count": 24,
     "metadata": {},
     "output_type": "execute_result"
    }
   ],
   "source": [
    "# Logistic Regression\n",
    "lgr_clf = LogisticRegression(penalty='l2')\n",
    "param_lgr = {'C': [0.1, 0.5, 1, 10]}\n",
    "# KNN\n",
    "knn_clf = KNeighborsClassifier()\n",
    "param_knn = {'n_neighbors': [1, 3, 5, 7, 10]}\n",
    "# Linear SVM\n",
    "lsvc_clf = SVC(kernel='linear', probability=True)\n",
    "param_lsvc = {'C': [0.01, 0.1, 1, 10]}\n",
    "# PolynomialSVC\n",
    "psvc_clf = SVC(kernel='poly', probability=True)\n",
    "param_psvc = {'C': [0.01, 0.1, 1], 'degree':[1, 2, 3]}\n",
    "# rbfSVC\n",
    "rsvc_clf = SVC(kernel='rbf', probability=True)\n",
    "param_rsvc = {'C': [0.01, 0.1, 1], 'gamma':[0.001, 0.01, 0.1, 0.3]}\n",
    "# Decsion Tree\n",
    "dt_clf = DecisionTreeClassifier()\n",
    "param_dt = {'max_depth': [1, 3, 5, 7, 9]}\n",
    "\n",
    "best_models = []\n",
    "for clf, param, label in zip([lgr_clf, knn_clf, lsvc_clf, psvc_clf, rsvc_clf, dt_clf],\n",
    "                       [param_lgr, param_knn, param_lsvc, param_psvc, param_rsvc, param_dt],\n",
    "                             ['lr', 'knn', 'lsvc', 'psvc', 'rsvc', 'dtree']):\n",
    "    grid = GridSearchCV(clf, param_grid=param, n_jobs=-1)\n",
    "    grid.fit(X_train, y_train)\n",
    "    best_models.append((label, grid.best_estimator_))\n",
    "    print('Best model: {} with params: {} \\ntrain score: {:.4f}'.format(grid.best_estimator_, grid.best_params_, grid.best_score_))\n",
    "    print('Test score: {:.4f}'.format(grid.best_estimator_.score(X_test, y_test)))\n",
    "best_models"
   ]
  },
  {
   "cell_type": "markdown",
   "metadata": {},
   "source": [
    "## Apply two voting classifiers (Hard & Soft)"
   ]
  },
  {
   "cell_type": "markdown",
   "metadata": {},
   "source": [
    "### 1. Voting Classifiers (Hard)"
   ]
  },
  {
   "cell_type": "code",
   "execution_count": 25,
   "metadata": {},
   "outputs": [
    {
     "name": "stdout",
     "output_type": "stream",
     "text": [
      "VotingClassifier\n",
      "Train score: 0.8083\n",
      "Test score: 0.7937\n"
     ]
    }
   ],
   "source": [
    "voting_hard = VotingClassifier(estimators=best_models,\n",
    "                               voting='hard')\n",
    "voting_hard.fit(X_train, y_train)\n",
    "print(voting_hard.__class__.__name__)\n",
    "print('Train score: {:.4f}'.format(voting_hard.score(X_train, y_train)))\n",
    "print('Test score: {:.4f}'.format(voting_hard.score(X_test, y_test)))"
   ]
  },
  {
   "cell_type": "code",
   "execution_count": 26,
   "metadata": {},
   "outputs": [],
   "source": [
    "model_Scores.append({'Model Type':'Classification',\n",
    "                    'Model Name': 'Hard Voting Classifiers',\n",
    "                    'Best Parameters': voting_hard.get_params(),\n",
    "                    'Train Score': voting_hard.score(X_train, y_train),\n",
    "                    'Test Score': voting_hard.score(X_test, y_test)})"
   ]
  },
  {
   "cell_type": "markdown",
   "metadata": {},
   "source": [
    "### 2. Voting Classifier (Soft)"
   ]
  },
  {
   "cell_type": "code",
   "execution_count": 27,
   "metadata": {
    "scrolled": true
   },
   "outputs": [
    {
     "name": "stdout",
     "output_type": "stream",
     "text": [
      "VotingClassifier\n",
      "Train score: 0.8125\n",
      "Test score: 0.7922\n"
     ]
    }
   ],
   "source": [
    "voting_soft = VotingClassifier(estimators=best_models, voting='soft')\n",
    "voting_soft.fit(X_train, y_train)\n",
    "\n",
    "print(voting_soft.__class__.__name__)\n",
    "print('Train score: {:.4f}'.format(voting_soft.score(X_train, y_train)))\n",
    "print('Test score: {:.4f}'.format(voting_soft.score(X_test, y_test)))"
   ]
  },
  {
   "cell_type": "code",
   "execution_count": 28,
   "metadata": {},
   "outputs": [],
   "source": [
    "model_Scores.append({'Model Type':'Classification',\n",
    "                    'Model Name': 'Soft Voting Classifiers',\n",
    "                    'Best Parameters': voting_soft.get_params(),\n",
    "                    'Train Score': voting_soft.score(X_train, y_train),\n",
    "                    'Test Score': voting_soft.score(X_test, y_test)})"
   ]
  },
  {
   "cell_type": "markdown",
   "metadata": {},
   "source": [
    "## Apply two models with bagging and two models with pasting."
   ]
  },
  {
   "cell_type": "markdown",
   "metadata": {},
   "source": [
    "### 1. Bagging with KNN as base model(k=5)"
   ]
  },
  {
   "cell_type": "code",
   "execution_count": 29,
   "metadata": {},
   "outputs": [],
   "source": [
    "from sklearn.ensemble import BaggingClassifier\n",
    "from sklearn.model_selection import GridSearchCV\n",
    "from sklearn.neighbors import KNeighborsClassifier\n",
    "from  sklearn.metrics import accuracy_score"
   ]
  },
  {
   "cell_type": "code",
   "execution_count": 30,
   "metadata": {
    "scrolled": true
   },
   "outputs": [
    {
     "data": {
      "text/plain": [
       "GridSearchCV(cv=5,\n",
       "             estimator=BaggingClassifier(base_estimator=KNeighborsClassifier(n_neighbors=10),\n",
       "                                         random_state=0),\n",
       "             n_jobs=-1,\n",
       "             param_grid={'max_samples': [0.5, 0.7],\n",
       "                         'n_estimators': [50, 100, 200]},\n",
       "             return_train_score=True)"
      ]
     },
     "execution_count": 30,
     "metadata": {},
     "output_type": "execute_result"
    }
   ],
   "source": [
    "knn_clf = KNeighborsClassifier(10)\n",
    "knn_clf.fit(X_train, y_train)\n",
    "\n",
    "param1 = {\n",
    "    'n_estimators': [50, 100, 200], \n",
    "    'max_samples':[0.5, 0.7]\n",
    "}\n",
    "\n",
    "bag_knn = BaggingClassifier(knn_clf, bootstrap=True, random_state=0)\n",
    "grid_bagKNN = GridSearchCV(bag_knn, param1, cv = 5, n_jobs = -1, return_train_score= True)\n",
    "grid_bagKNN.fit(X_train, y_train)"
   ]
  },
  {
   "cell_type": "code",
   "execution_count": 31,
   "metadata": {},
   "outputs": [
    {
     "name": "stdout",
     "output_type": "stream",
     "text": [
      "Best model parameters : {'max_samples': 0.5, 'n_estimators': 50}\n",
      "Best train score : 0.78\n",
      "Test score : 0.78\n"
     ]
    }
   ],
   "source": [
    "print('Best model parameters : ' + str(grid_bagKNN.best_params_))\n",
    "print('Best train score : {:.2f}'.format(grid_bagKNN.best_score_))\n",
    "print('Test score : {:.2f}'.format(grid_bagKNN.best_estimator_.score(X_test, y_test)))"
   ]
  },
  {
   "cell_type": "code",
   "execution_count": 32,
   "metadata": {},
   "outputs": [],
   "source": [
    "model_Scores.append({'Model Type':'Classification',\n",
    "                    'Model Name': 'Bagging with KNeighbor Classifier',\n",
    "                    'Best Parameters': grid_bagKNN.best_params_,\n",
    "                    'Train Score': grid_bagKNN.score(X_train, y_train),\n",
    "                    'Test Score': grid_bagKNN.score(X_test, y_test)})"
   ]
  },
  {
   "cell_type": "markdown",
   "metadata": {},
   "source": [
    "### 2. Bagging with Decision Tree as base model"
   ]
  },
  {
   "cell_type": "code",
   "execution_count": 33,
   "metadata": {},
   "outputs": [],
   "source": [
    "from sklearn.tree import DecisionTreeClassifier"
   ]
  },
  {
   "cell_type": "code",
   "execution_count": 34,
   "metadata": {},
   "outputs": [
    {
     "data": {
      "text/plain": [
       "GridSearchCV(cv=5,\n",
       "             estimator=BaggingClassifier(base_estimator=DecisionTreeClassifier(max_depth=3,\n",
       "                                                                               random_state=0),\n",
       "                                         random_state=0),\n",
       "             n_jobs=-1,\n",
       "             param_grid={'max_samples': [0.5, 0.7],\n",
       "                         'n_estimators': [50, 100, 200]},\n",
       "             return_train_score=True)"
      ]
     },
     "execution_count": 34,
     "metadata": {},
     "output_type": "execute_result"
    }
   ],
   "source": [
    "dt_clf = DecisionTreeClassifier(max_depth=3, random_state=0)\n",
    "\n",
    "param2 = {'n_estimators': [50, 100, 200], 'max_samples': [0.5, 0.7]}\n",
    "\n",
    "bag_dt = BaggingClassifier(dt_clf, bootstrap=True, random_state=0)\n",
    "grid_bagDT = GridSearchCV(bag_dt, param2, cv=5, n_jobs = -1, return_train_score= True)\n",
    "grid_bagDT.fit(X_train, y_train)"
   ]
  },
  {
   "cell_type": "code",
   "execution_count": 35,
   "metadata": {},
   "outputs": [
    {
     "name": "stdout",
     "output_type": "stream",
     "text": [
      "Best model parameters : {'max_samples': 0.7, 'n_estimators': 100}\n",
      "Best score with the parameters : 0.79\n",
      "Test score : 0.78\n"
     ]
    }
   ],
   "source": [
    "print('Best model parameters : ' + str(grid_bagDT.best_params_))\n",
    "print('Best score with the parameters : {:.2f}'.format(grid_bagDT.best_score_))\n",
    "#bag_dt = grid2.best_estimator_\n",
    "print('Test score : {:.2f}'.format(grid_bagDT.best_estimator_.score(X_test, y_test)))"
   ]
  },
  {
   "cell_type": "code",
   "execution_count": 36,
   "metadata": {},
   "outputs": [],
   "source": [
    "model_Scores.append({'Model Type':'Classification',\n",
    "                    'Model Name': 'Bagging with Decision Tree',\n",
    "                    'Best Parameters': grid_bagDT.best_params_,\n",
    "                    'Train Score': grid_bagDT.score(X_train, y_train),\n",
    "                    'Test Score': grid_bagDT.score(X_test, y_test)})"
   ]
  },
  {
   "cell_type": "markdown",
   "metadata": {},
   "source": [
    "### 3. Pasting with Logistic Regression as base model"
   ]
  },
  {
   "cell_type": "code",
   "execution_count": 37,
   "metadata": {},
   "outputs": [
    {
     "data": {
      "text/plain": [
       "GridSearchCV(cv=5,\n",
       "             estimator=BaggingClassifier(base_estimator=LogisticRegression(),\n",
       "                                         bootstrap=False, random_state=0),\n",
       "             n_jobs=-1,\n",
       "             param_grid={'max_samples': [0.5, 0.7], 'n_estimators': [50, 100]},\n",
       "             return_train_score=True)"
      ]
     },
     "execution_count": 37,
     "metadata": {},
     "output_type": "execute_result"
    }
   ],
   "source": [
    "param3  = {'n_estimators': [50, 100], 'max_samples': [0.5, 0.7]}\n",
    "\n",
    "bag_log = BaggingClassifier(lgr_clf, bootstrap=False, random_state=0)\n",
    "grid3 = GridSearchCV(bag_log, param3, cv=5, n_jobs = -1, return_train_score= True)\n",
    "grid3.fit(X_train, y_train)"
   ]
  },
  {
   "cell_type": "code",
   "execution_count": 38,
   "metadata": {},
   "outputs": [
    {
     "name": "stdout",
     "output_type": "stream",
     "text": [
      "Best model parameters : {'max_samples': 0.5, 'n_estimators': 100}\n",
      "Best train score with the parameters : 0.80\n",
      "Test score with the parameters : 0.80\n"
     ]
    }
   ],
   "source": [
    "print('Best model parameters : ' + str(grid3.best_params_))\n",
    "print('Best train score with the parameters : {:.2f}'.format(grid3.best_score_))\n",
    "print('Test score with the parameters : {:.2f}'.format(grid3.best_estimator_.score(X_test, y_test)))"
   ]
  },
  {
   "cell_type": "code",
   "execution_count": 39,
   "metadata": {},
   "outputs": [],
   "source": [
    "model_Scores.append({'Model Type':'Classification',\n",
    "                    'Model Name': 'Pasting with Logistic Regression',\n",
    "                    'Best Parameters': grid3.best_params_,\n",
    "                    'Train Score': grid3.score(X_train, y_train),\n",
    "                    'Test Score': grid3.score(X_test, y_test)})"
   ]
  },
  {
   "cell_type": "markdown",
   "metadata": {},
   "source": [
    "### 4. Pasting with Linear SVM as base model"
   ]
  },
  {
   "cell_type": "code",
   "execution_count": 40,
   "metadata": {},
   "outputs": [
    {
     "data": {
      "text/plain": [
       "GridSearchCV(cv=5,\n",
       "             estimator=BaggingClassifier(base_estimator=SVC(kernel='linear',\n",
       "                                                            probability=True),\n",
       "                                         bootstrap=False, random_state=0),\n",
       "             n_jobs=-1,\n",
       "             param_grid={'max_samples': [0.5, 0.7], 'n_estimators': [50, 100]},\n",
       "             return_train_score=True)"
      ]
     },
     "execution_count": 40,
     "metadata": {},
     "output_type": "execute_result"
    }
   ],
   "source": [
    "param4  = {'n_estimators': [50, 100], 'max_samples': [0.5, 0.7]}\n",
    "\n",
    "bag_lsvm = BaggingClassifier(lsvc_clf, bootstrap=False, random_state=0)\n",
    "grid4 = GridSearchCV(bag_lsvm, param4, cv=5, n_jobs = -1, return_train_score= True)\n",
    "grid4.fit(X_train, y_train)"
   ]
  },
  {
   "cell_type": "code",
   "execution_count": 41,
   "metadata": {},
   "outputs": [
    {
     "name": "stdout",
     "output_type": "stream",
     "text": [
      "Best model parameters : {'max_samples': 0.5, 'n_estimators': 50}\n",
      "Best score with the parameters : 0.80\n",
      "Test score with the parameters : 0.79\n"
     ]
    }
   ],
   "source": [
    "print('Best model parameters : ' + str(grid4.best_params_))\n",
    "print('Best score with the parameters : {:.2f}'.format(grid4.best_score_))\n",
    "print('Test score with the parameters : {:.2f}'.format(grid4.best_estimator_.score(X_test, y_test)))"
   ]
  },
  {
   "cell_type": "code",
   "execution_count": 42,
   "metadata": {},
   "outputs": [],
   "source": [
    "model_Scores.append({'Model Type':'Classification',\n",
    "                    'Model Name': 'Pasting with Linear SVM',\n",
    "                    'Best Parameters': grid4.best_params_,\n",
    "                    'Train Score': grid4.score(X_train, y_train),\n",
    "                    'Test Score': grid4.score(X_test, y_test)})"
   ]
  },
  {
   "cell_type": "markdown",
   "metadata": {},
   "source": [
    "## Adaboost boosting"
   ]
  },
  {
   "cell_type": "markdown",
   "metadata": {},
   "source": [
    "### 1. Adaboost with Decision Tree"
   ]
  },
  {
   "cell_type": "code",
   "execution_count": 43,
   "metadata": {},
   "outputs": [],
   "source": [
    "from sklearn.ensemble import AdaBoostClassifier"
   ]
  },
  {
   "cell_type": "code",
   "execution_count": 44,
   "metadata": {},
   "outputs": [
    {
     "data": {
      "text/plain": [
       "GridSearchCV(cv=5,\n",
       "             estimator=AdaBoostClassifier(base_estimator=DecisionTreeClassifier(max_depth=3,\n",
       "                                                                                random_state=0)),\n",
       "             n_jobs=-1,\n",
       "             param_grid={'learning_rate': [0.5, 0.6, 0.7],\n",
       "                         'n_estimators': [50, 100, 200]})"
      ]
     },
     "execution_count": 44,
     "metadata": {},
     "output_type": "execute_result"
    }
   ],
   "source": [
    "ada_dt = AdaBoostClassifier(dt_clf)\n",
    "param5 = { \n",
    "    'n_estimators': [50, 100, 200],\n",
    "    'learning_rate': [0.5, 0.6, 0.7]\n",
    "}\n",
    "\n",
    "grid5 = GridSearchCV(ada_dt, param5, cv= 5, n_jobs=-1)\n",
    "grid5.fit(X_train, y_train)"
   ]
  },
  {
   "cell_type": "code",
   "execution_count": 45,
   "metadata": {},
   "outputs": [
    {
     "name": "stdout",
     "output_type": "stream",
     "text": [
      "Best model parameters : {'learning_rate': 0.5, 'n_estimators': 50}\n",
      "Best score with the parameters : 0.7818\n",
      "Test score with the parameters : 0.7871\n"
     ]
    }
   ],
   "source": [
    "print('Best model parameters : ' + str(grid5.best_params_))\n",
    "print('Best score with the parameters : {:.4f}'.format(grid5.best_score_))\n",
    "print('Test score with the parameters : {:.4f}'.format(grid5.best_estimator_.score(X_test, y_test)))"
   ]
  },
  {
   "cell_type": "code",
   "execution_count": 46,
   "metadata": {},
   "outputs": [],
   "source": [
    "model_Scores.append({'Model Type':'Classification',\n",
    "                    'Model Name': 'Adaboosting with Decision Tree',\n",
    "                    'Best Parameters': grid5.best_params_,\n",
    "                    'Train Score': grid5.score(X_train, y_train),\n",
    "                    'Test Score': grid5.score(X_test, y_test)})"
   ]
  },
  {
   "cell_type": "markdown",
   "metadata": {},
   "source": [
    "### 2. Adaboost with Logistic Regression"
   ]
  },
  {
   "cell_type": "code",
   "execution_count": 47,
   "metadata": {},
   "outputs": [
    {
     "data": {
      "text/plain": [
       "GridSearchCV(cv=5,\n",
       "             estimator=AdaBoostClassifier(base_estimator=LogisticRegression()),\n",
       "             n_jobs=-1,\n",
       "             param_grid={'learning_rate': [0.3, 0.5, 0.7],\n",
       "                         'n_estimators': [100, 200, 300]})"
      ]
     },
     "execution_count": 47,
     "metadata": {},
     "output_type": "execute_result"
    }
   ],
   "source": [
    "ada_lgr = AdaBoostClassifier(lgr_clf)\n",
    "param6 = { \n",
    "    'n_estimators': [100, 200, 300],\n",
    "    'learning_rate': [0.3, 0.5, 0.7]\n",
    "}\n",
    "\n",
    "grid6 = GridSearchCV(ada_lgr, param6, cv= 5, n_jobs=-1)\n",
    "grid6.fit(X_train, y_train)"
   ]
  },
  {
   "cell_type": "code",
   "execution_count": 48,
   "metadata": {},
   "outputs": [
    {
     "name": "stdout",
     "output_type": "stream",
     "text": [
      "Best model parameters : {'learning_rate': 0.5, 'n_estimators': 300}\n",
      "Best score with the parameters : 0.8025\n",
      "Test score with the parameters : 0.7966\n"
     ]
    }
   ],
   "source": [
    "print('Best model parameters : ' + str(grid6.best_params_))\n",
    "print('Best score with the parameters : {:.4f}'.format(grid6.best_score_))\n",
    "print('Test score with the parameters : {:.4f}'.format(grid6.best_estimator_.score(X_test, y_test)))"
   ]
  },
  {
   "cell_type": "code",
   "execution_count": 49,
   "metadata": {},
   "outputs": [],
   "source": [
    "model_Scores.append({'Model Type':'Classification',\n",
    "                    'Model Name': 'Adaboosting with SVM with Kernel Linear',\n",
    "                    'Best Parameters': grid6.best_params_,\n",
    "                    'Train Score': grid6.score(X_train, y_train),\n",
    "                    'Test Score': grid6.score(X_test, y_test)})"
   ]
  },
  {
   "cell_type": "markdown",
   "metadata": {},
   "source": [
    "## Gradient Boosting Classifier"
   ]
  },
  {
   "cell_type": "code",
   "execution_count": 50,
   "metadata": {},
   "outputs": [],
   "source": [
    "from sklearn.ensemble import GradientBoostingClassifier"
   ]
  },
  {
   "cell_type": "code",
   "execution_count": 51,
   "metadata": {},
   "outputs": [
    {
     "data": {
      "text/plain": [
       "GridSearchCV(cv=5, estimator=GradientBoostingClassifier(), n_jobs=-1,\n",
       "             param_grid={'learning_rate': [0.1, 0.3, 0.5],\n",
       "                         'max_depth': [1, 3, 5, 8],\n",
       "                         'n_estimators': [10, 50, 100]})"
      ]
     },
     "execution_count": 51,
     "metadata": {},
     "output_type": "execute_result"
    }
   ],
   "source": [
    "param7 = {\n",
    "    \"learning_rate\": [0.1, 0.3, 0.5],\n",
    "    \"max_depth\":[1,3,5,8],\n",
    "    \"n_estimators\":[10, 50, 100]\n",
    "    }\n",
    "\n",
    "grid7 = GridSearchCV(GradientBoostingClassifier(), param7, cv=5, n_jobs=-1)\n",
    "grid7.fit(X_train, y_train)"
   ]
  },
  {
   "cell_type": "code",
   "execution_count": 52,
   "metadata": {},
   "outputs": [
    {
     "name": "stdout",
     "output_type": "stream",
     "text": [
      "Best model parameters : {'learning_rate': 0.3, 'max_depth': 1, 'n_estimators': 100}\n",
      "Best score with the parameters : 0.8065\n",
      "Test score with the parameters : 0.8069\n"
     ]
    }
   ],
   "source": [
    "print('Best model parameters : ' + str(grid7.best_params_))\n",
    "print('Best score with the parameters : {:.4f}'.format(grid7.best_score_))\n",
    "print('Test score with the parameters : {:.4f}'.format(grid7.best_estimator_.score(X_test, y_test)))"
   ]
  },
  {
   "cell_type": "code",
   "execution_count": 53,
   "metadata": {},
   "outputs": [],
   "source": [
    "model_Scores.append({'Model Type':'Classification',\n",
    "                    'Model Name': 'Gradient Boosting',\n",
    "                    'Best Parameters': grid7.best_params_,\n",
    "                    'Train Score': grid7.score(X_train, y_train),\n",
    "                    'Test Score': grid7.score(X_test, y_test)})"
   ]
  },
  {
   "cell_type": "markdown",
   "metadata": {},
   "source": [
    "## Deep Learning"
   ]
  },
  {
   "cell_type": "code",
   "execution_count": 54,
   "metadata": {},
   "outputs": [],
   "source": [
    "from keras.models import Sequential\n",
    "from keras.layers import Dense\n",
    "from keras.wrappers.scikit_learn import KerasClassifier"
   ]
  },
  {
   "cell_type": "code",
   "execution_count": 55,
   "metadata": {},
   "outputs": [
    {
     "name": "stdout",
     "output_type": "stream",
     "text": [
      "(5467, 24)\n"
     ]
    }
   ],
   "source": [
    "print(X_train.shape)"
   ]
  },
  {
   "cell_type": "code",
   "execution_count": 56,
   "metadata": {},
   "outputs": [],
   "source": [
    "def create_model():\n",
    "    model = Sequential()\n",
    "    model.add(Dense(30, input_dim=24, activation=\"relu\"))\n",
    "    model.add(Dense(15, activation=\"relu\"))\n",
    "    model.add(Dense(5, activation=\"relu\"))\n",
    "    model.add(Dense(1, activation='sigmoid'))\n",
    "    \n",
    "    model.compile(loss=\"BinaryCrossentropy\", optimizer='adam', metrics=[\"accuracy\"])\n",
    "    return model"
   ]
  },
  {
   "cell_type": "code",
   "execution_count": 57,
   "metadata": {},
   "outputs": [],
   "source": [
    "np.random.seed(10)\n",
    "model = KerasClassifier(build_fn=create_model, verbose=0)\n",
    "\n",
    "params = {'batch_size':[10, 20, 30, 40], 'epochs':[5, 10, 20, 50]}\n",
    "grid_search = GridSearchCV(estimator=model, param_grid=params, scoring='accuracy', cv=5)"
   ]
  },
  {
   "cell_type": "code",
   "execution_count": 58,
   "metadata": {},
   "outputs": [
    {
     "name": "stderr",
     "output_type": "stream",
     "text": [
      "C:\\Users\\shans\\AppData\\Roaming\\Python\\Python38\\site-packages\\keras\\engine\\sequential.py:450: UserWarning: `model.predict_classes()` is deprecated and will be removed after 2021-01-01. Please use instead:* `np.argmax(model.predict(x), axis=-1)`,   if your model does multi-class classification   (e.g. if it uses a `softmax` last-layer activation).* `(model.predict(x) > 0.5).astype(\"int32\")`,   if your model does binary classification   (e.g. if it uses a `sigmoid` last-layer activation).\n",
      "  warnings.warn('`model.predict_classes()` is deprecated and '\n",
      "C:\\Users\\shans\\AppData\\Roaming\\Python\\Python38\\site-packages\\keras\\engine\\sequential.py:450: UserWarning: `model.predict_classes()` is deprecated and will be removed after 2021-01-01. Please use instead:* `np.argmax(model.predict(x), axis=-1)`,   if your model does multi-class classification   (e.g. if it uses a `softmax` last-layer activation).* `(model.predict(x) > 0.5).astype(\"int32\")`,   if your model does binary classification   (e.g. if it uses a `sigmoid` last-layer activation).\n",
      "  warnings.warn('`model.predict_classes()` is deprecated and '\n",
      "C:\\Users\\shans\\AppData\\Roaming\\Python\\Python38\\site-packages\\keras\\engine\\sequential.py:450: UserWarning: `model.predict_classes()` is deprecated and will be removed after 2021-01-01. Please use instead:* `np.argmax(model.predict(x), axis=-1)`,   if your model does multi-class classification   (e.g. if it uses a `softmax` last-layer activation).* `(model.predict(x) > 0.5).astype(\"int32\")`,   if your model does binary classification   (e.g. if it uses a `sigmoid` last-layer activation).\n",
      "  warnings.warn('`model.predict_classes()` is deprecated and '\n",
      "C:\\Users\\shans\\AppData\\Roaming\\Python\\Python38\\site-packages\\keras\\engine\\sequential.py:450: UserWarning: `model.predict_classes()` is deprecated and will be removed after 2021-01-01. Please use instead:* `np.argmax(model.predict(x), axis=-1)`,   if your model does multi-class classification   (e.g. if it uses a `softmax` last-layer activation).* `(model.predict(x) > 0.5).astype(\"int32\")`,   if your model does binary classification   (e.g. if it uses a `sigmoid` last-layer activation).\n",
      "  warnings.warn('`model.predict_classes()` is deprecated and '\n",
      "C:\\Users\\shans\\AppData\\Roaming\\Python\\Python38\\site-packages\\keras\\engine\\sequential.py:450: UserWarning: `model.predict_classes()` is deprecated and will be removed after 2021-01-01. Please use instead:* `np.argmax(model.predict(x), axis=-1)`,   if your model does multi-class classification   (e.g. if it uses a `softmax` last-layer activation).* `(model.predict(x) > 0.5).astype(\"int32\")`,   if your model does binary classification   (e.g. if it uses a `sigmoid` last-layer activation).\n",
      "  warnings.warn('`model.predict_classes()` is deprecated and '\n",
      "C:\\Users\\shans\\AppData\\Roaming\\Python\\Python38\\site-packages\\keras\\engine\\sequential.py:450: UserWarning: `model.predict_classes()` is deprecated and will be removed after 2021-01-01. Please use instead:* `np.argmax(model.predict(x), axis=-1)`,   if your model does multi-class classification   (e.g. if it uses a `softmax` last-layer activation).* `(model.predict(x) > 0.5).astype(\"int32\")`,   if your model does binary classification   (e.g. if it uses a `sigmoid` last-layer activation).\n",
      "  warnings.warn('`model.predict_classes()` is deprecated and '\n",
      "C:\\Users\\shans\\AppData\\Roaming\\Python\\Python38\\site-packages\\keras\\engine\\sequential.py:450: UserWarning: `model.predict_classes()` is deprecated and will be removed after 2021-01-01. Please use instead:* `np.argmax(model.predict(x), axis=-1)`,   if your model does multi-class classification   (e.g. if it uses a `softmax` last-layer activation).* `(model.predict(x) > 0.5).astype(\"int32\")`,   if your model does binary classification   (e.g. if it uses a `sigmoid` last-layer activation).\n",
      "  warnings.warn('`model.predict_classes()` is deprecated and '\n",
      "C:\\Users\\shans\\AppData\\Roaming\\Python\\Python38\\site-packages\\keras\\engine\\sequential.py:450: UserWarning: `model.predict_classes()` is deprecated and will be removed after 2021-01-01. Please use instead:* `np.argmax(model.predict(x), axis=-1)`,   if your model does multi-class classification   (e.g. if it uses a `softmax` last-layer activation).* `(model.predict(x) > 0.5).astype(\"int32\")`,   if your model does binary classification   (e.g. if it uses a `sigmoid` last-layer activation).\n",
      "  warnings.warn('`model.predict_classes()` is deprecated and '\n",
      "C:\\Users\\shans\\AppData\\Roaming\\Python\\Python38\\site-packages\\keras\\engine\\sequential.py:450: UserWarning: `model.predict_classes()` is deprecated and will be removed after 2021-01-01. Please use instead:* `np.argmax(model.predict(x), axis=-1)`,   if your model does multi-class classification   (e.g. if it uses a `softmax` last-layer activation).* `(model.predict(x) > 0.5).astype(\"int32\")`,   if your model does binary classification   (e.g. if it uses a `sigmoid` last-layer activation).\n",
      "  warnings.warn('`model.predict_classes()` is deprecated and '\n",
      "C:\\Users\\shans\\AppData\\Roaming\\Python\\Python38\\site-packages\\keras\\engine\\sequential.py:450: UserWarning: `model.predict_classes()` is deprecated and will be removed after 2021-01-01. Please use instead:* `np.argmax(model.predict(x), axis=-1)`,   if your model does multi-class classification   (e.g. if it uses a `softmax` last-layer activation).* `(model.predict(x) > 0.5).astype(\"int32\")`,   if your model does binary classification   (e.g. if it uses a `sigmoid` last-layer activation).\n",
      "  warnings.warn('`model.predict_classes()` is deprecated and '\n",
      "C:\\Users\\shans\\AppData\\Roaming\\Python\\Python38\\site-packages\\keras\\engine\\sequential.py:450: UserWarning: `model.predict_classes()` is deprecated and will be removed after 2021-01-01. Please use instead:* `np.argmax(model.predict(x), axis=-1)`,   if your model does multi-class classification   (e.g. if it uses a `softmax` last-layer activation).* `(model.predict(x) > 0.5).astype(\"int32\")`,   if your model does binary classification   (e.g. if it uses a `sigmoid` last-layer activation).\n",
      "  warnings.warn('`model.predict_classes()` is deprecated and '\n",
      "C:\\Users\\shans\\AppData\\Roaming\\Python\\Python38\\site-packages\\keras\\engine\\sequential.py:450: UserWarning: `model.predict_classes()` is deprecated and will be removed after 2021-01-01. Please use instead:* `np.argmax(model.predict(x), axis=-1)`,   if your model does multi-class classification   (e.g. if it uses a `softmax` last-layer activation).* `(model.predict(x) > 0.5).astype(\"int32\")`,   if your model does binary classification   (e.g. if it uses a `sigmoid` last-layer activation).\n",
      "  warnings.warn('`model.predict_classes()` is deprecated and '\n",
      "C:\\Users\\shans\\AppData\\Roaming\\Python\\Python38\\site-packages\\keras\\engine\\sequential.py:450: UserWarning: `model.predict_classes()` is deprecated and will be removed after 2021-01-01. Please use instead:* `np.argmax(model.predict(x), axis=-1)`,   if your model does multi-class classification   (e.g. if it uses a `softmax` last-layer activation).* `(model.predict(x) > 0.5).astype(\"int32\")`,   if your model does binary classification   (e.g. if it uses a `sigmoid` last-layer activation).\n",
      "  warnings.warn('`model.predict_classes()` is deprecated and '\n",
      "C:\\Users\\shans\\AppData\\Roaming\\Python\\Python38\\site-packages\\keras\\engine\\sequential.py:450: UserWarning: `model.predict_classes()` is deprecated and will be removed after 2021-01-01. Please use instead:* `np.argmax(model.predict(x), axis=-1)`,   if your model does multi-class classification   (e.g. if it uses a `softmax` last-layer activation).* `(model.predict(x) > 0.5).astype(\"int32\")`,   if your model does binary classification   (e.g. if it uses a `sigmoid` last-layer activation).\n",
      "  warnings.warn('`model.predict_classes()` is deprecated and '\n",
      "C:\\Users\\shans\\AppData\\Roaming\\Python\\Python38\\site-packages\\keras\\engine\\sequential.py:450: UserWarning: `model.predict_classes()` is deprecated and will be removed after 2021-01-01. Please use instead:* `np.argmax(model.predict(x), axis=-1)`,   if your model does multi-class classification   (e.g. if it uses a `softmax` last-layer activation).* `(model.predict(x) > 0.5).astype(\"int32\")`,   if your model does binary classification   (e.g. if it uses a `sigmoid` last-layer activation).\n",
      "  warnings.warn('`model.predict_classes()` is deprecated and '\n"
     ]
    },
    {
     "name": "stderr",
     "output_type": "stream",
     "text": [
      "C:\\Users\\shans\\AppData\\Roaming\\Python\\Python38\\site-packages\\keras\\engine\\sequential.py:450: UserWarning: `model.predict_classes()` is deprecated and will be removed after 2021-01-01. Please use instead:* `np.argmax(model.predict(x), axis=-1)`,   if your model does multi-class classification   (e.g. if it uses a `softmax` last-layer activation).* `(model.predict(x) > 0.5).astype(\"int32\")`,   if your model does binary classification   (e.g. if it uses a `sigmoid` last-layer activation).\n",
      "  warnings.warn('`model.predict_classes()` is deprecated and '\n",
      "C:\\Users\\shans\\AppData\\Roaming\\Python\\Python38\\site-packages\\keras\\engine\\sequential.py:450: UserWarning: `model.predict_classes()` is deprecated and will be removed after 2021-01-01. Please use instead:* `np.argmax(model.predict(x), axis=-1)`,   if your model does multi-class classification   (e.g. if it uses a `softmax` last-layer activation).* `(model.predict(x) > 0.5).astype(\"int32\")`,   if your model does binary classification   (e.g. if it uses a `sigmoid` last-layer activation).\n",
      "  warnings.warn('`model.predict_classes()` is deprecated and '\n",
      "C:\\Users\\shans\\AppData\\Roaming\\Python\\Python38\\site-packages\\keras\\engine\\sequential.py:450: UserWarning: `model.predict_classes()` is deprecated and will be removed after 2021-01-01. Please use instead:* `np.argmax(model.predict(x), axis=-1)`,   if your model does multi-class classification   (e.g. if it uses a `softmax` last-layer activation).* `(model.predict(x) > 0.5).astype(\"int32\")`,   if your model does binary classification   (e.g. if it uses a `sigmoid` last-layer activation).\n",
      "  warnings.warn('`model.predict_classes()` is deprecated and '\n",
      "C:\\Users\\shans\\AppData\\Roaming\\Python\\Python38\\site-packages\\keras\\engine\\sequential.py:450: UserWarning: `model.predict_classes()` is deprecated and will be removed after 2021-01-01. Please use instead:* `np.argmax(model.predict(x), axis=-1)`,   if your model does multi-class classification   (e.g. if it uses a `softmax` last-layer activation).* `(model.predict(x) > 0.5).astype(\"int32\")`,   if your model does binary classification   (e.g. if it uses a `sigmoid` last-layer activation).\n",
      "  warnings.warn('`model.predict_classes()` is deprecated and '\n",
      "C:\\Users\\shans\\AppData\\Roaming\\Python\\Python38\\site-packages\\keras\\engine\\sequential.py:450: UserWarning: `model.predict_classes()` is deprecated and will be removed after 2021-01-01. Please use instead:* `np.argmax(model.predict(x), axis=-1)`,   if your model does multi-class classification   (e.g. if it uses a `softmax` last-layer activation).* `(model.predict(x) > 0.5).astype(\"int32\")`,   if your model does binary classification   (e.g. if it uses a `sigmoid` last-layer activation).\n",
      "  warnings.warn('`model.predict_classes()` is deprecated and '\n",
      "C:\\Users\\shans\\AppData\\Roaming\\Python\\Python38\\site-packages\\keras\\engine\\sequential.py:450: UserWarning: `model.predict_classes()` is deprecated and will be removed after 2021-01-01. Please use instead:* `np.argmax(model.predict(x), axis=-1)`,   if your model does multi-class classification   (e.g. if it uses a `softmax` last-layer activation).* `(model.predict(x) > 0.5).astype(\"int32\")`,   if your model does binary classification   (e.g. if it uses a `sigmoid` last-layer activation).\n",
      "  warnings.warn('`model.predict_classes()` is deprecated and '\n",
      "C:\\Users\\shans\\AppData\\Roaming\\Python\\Python38\\site-packages\\keras\\engine\\sequential.py:450: UserWarning: `model.predict_classes()` is deprecated and will be removed after 2021-01-01. Please use instead:* `np.argmax(model.predict(x), axis=-1)`,   if your model does multi-class classification   (e.g. if it uses a `softmax` last-layer activation).* `(model.predict(x) > 0.5).astype(\"int32\")`,   if your model does binary classification   (e.g. if it uses a `sigmoid` last-layer activation).\n",
      "  warnings.warn('`model.predict_classes()` is deprecated and '\n",
      "C:\\Users\\shans\\AppData\\Roaming\\Python\\Python38\\site-packages\\keras\\engine\\sequential.py:450: UserWarning: `model.predict_classes()` is deprecated and will be removed after 2021-01-01. Please use instead:* `np.argmax(model.predict(x), axis=-1)`,   if your model does multi-class classification   (e.g. if it uses a `softmax` last-layer activation).* `(model.predict(x) > 0.5).astype(\"int32\")`,   if your model does binary classification   (e.g. if it uses a `sigmoid` last-layer activation).\n",
      "  warnings.warn('`model.predict_classes()` is deprecated and '\n",
      "C:\\Users\\shans\\AppData\\Roaming\\Python\\Python38\\site-packages\\keras\\engine\\sequential.py:450: UserWarning: `model.predict_classes()` is deprecated and will be removed after 2021-01-01. Please use instead:* `np.argmax(model.predict(x), axis=-1)`,   if your model does multi-class classification   (e.g. if it uses a `softmax` last-layer activation).* `(model.predict(x) > 0.5).astype(\"int32\")`,   if your model does binary classification   (e.g. if it uses a `sigmoid` last-layer activation).\n",
      "  warnings.warn('`model.predict_classes()` is deprecated and '\n",
      "C:\\Users\\shans\\AppData\\Roaming\\Python\\Python38\\site-packages\\keras\\engine\\sequential.py:450: UserWarning: `model.predict_classes()` is deprecated and will be removed after 2021-01-01. Please use instead:* `np.argmax(model.predict(x), axis=-1)`,   if your model does multi-class classification   (e.g. if it uses a `softmax` last-layer activation).* `(model.predict(x) > 0.5).astype(\"int32\")`,   if your model does binary classification   (e.g. if it uses a `sigmoid` last-layer activation).\n",
      "  warnings.warn('`model.predict_classes()` is deprecated and '\n",
      "C:\\Users\\shans\\AppData\\Roaming\\Python\\Python38\\site-packages\\keras\\engine\\sequential.py:450: UserWarning: `model.predict_classes()` is deprecated and will be removed after 2021-01-01. Please use instead:* `np.argmax(model.predict(x), axis=-1)`,   if your model does multi-class classification   (e.g. if it uses a `softmax` last-layer activation).* `(model.predict(x) > 0.5).astype(\"int32\")`,   if your model does binary classification   (e.g. if it uses a `sigmoid` last-layer activation).\n",
      "  warnings.warn('`model.predict_classes()` is deprecated and '\n",
      "C:\\Users\\shans\\AppData\\Roaming\\Python\\Python38\\site-packages\\keras\\engine\\sequential.py:450: UserWarning: `model.predict_classes()` is deprecated and will be removed after 2021-01-01. Please use instead:* `np.argmax(model.predict(x), axis=-1)`,   if your model does multi-class classification   (e.g. if it uses a `softmax` last-layer activation).* `(model.predict(x) > 0.5).astype(\"int32\")`,   if your model does binary classification   (e.g. if it uses a `sigmoid` last-layer activation).\n",
      "  warnings.warn('`model.predict_classes()` is deprecated and '\n",
      "C:\\Users\\shans\\AppData\\Roaming\\Python\\Python38\\site-packages\\keras\\engine\\sequential.py:450: UserWarning: `model.predict_classes()` is deprecated and will be removed after 2021-01-01. Please use instead:* `np.argmax(model.predict(x), axis=-1)`,   if your model does multi-class classification   (e.g. if it uses a `softmax` last-layer activation).* `(model.predict(x) > 0.5).astype(\"int32\")`,   if your model does binary classification   (e.g. if it uses a `sigmoid` last-layer activation).\n",
      "  warnings.warn('`model.predict_classes()` is deprecated and '\n",
      "C:\\Users\\shans\\AppData\\Roaming\\Python\\Python38\\site-packages\\keras\\engine\\sequential.py:450: UserWarning: `model.predict_classes()` is deprecated and will be removed after 2021-01-01. Please use instead:* `np.argmax(model.predict(x), axis=-1)`,   if your model does multi-class classification   (e.g. if it uses a `softmax` last-layer activation).* `(model.predict(x) > 0.5).astype(\"int32\")`,   if your model does binary classification   (e.g. if it uses a `sigmoid` last-layer activation).\n",
      "  warnings.warn('`model.predict_classes()` is deprecated and '\n",
      "C:\\Users\\shans\\AppData\\Roaming\\Python\\Python38\\site-packages\\keras\\engine\\sequential.py:450: UserWarning: `model.predict_classes()` is deprecated and will be removed after 2021-01-01. Please use instead:* `np.argmax(model.predict(x), axis=-1)`,   if your model does multi-class classification   (e.g. if it uses a `softmax` last-layer activation).* `(model.predict(x) > 0.5).astype(\"int32\")`,   if your model does binary classification   (e.g. if it uses a `sigmoid` last-layer activation).\n",
      "  warnings.warn('`model.predict_classes()` is deprecated and '\n"
     ]
    },
    {
     "name": "stderr",
     "output_type": "stream",
     "text": [
      "C:\\Users\\shans\\AppData\\Roaming\\Python\\Python38\\site-packages\\keras\\engine\\sequential.py:450: UserWarning: `model.predict_classes()` is deprecated and will be removed after 2021-01-01. Please use instead:* `np.argmax(model.predict(x), axis=-1)`,   if your model does multi-class classification   (e.g. if it uses a `softmax` last-layer activation).* `(model.predict(x) > 0.5).astype(\"int32\")`,   if your model does binary classification   (e.g. if it uses a `sigmoid` last-layer activation).\n",
      "  warnings.warn('`model.predict_classes()` is deprecated and '\n",
      "C:\\Users\\shans\\AppData\\Roaming\\Python\\Python38\\site-packages\\keras\\engine\\sequential.py:450: UserWarning: `model.predict_classes()` is deprecated and will be removed after 2021-01-01. Please use instead:* `np.argmax(model.predict(x), axis=-1)`,   if your model does multi-class classification   (e.g. if it uses a `softmax` last-layer activation).* `(model.predict(x) > 0.5).astype(\"int32\")`,   if your model does binary classification   (e.g. if it uses a `sigmoid` last-layer activation).\n",
      "  warnings.warn('`model.predict_classes()` is deprecated and '\n",
      "C:\\Users\\shans\\AppData\\Roaming\\Python\\Python38\\site-packages\\keras\\engine\\sequential.py:450: UserWarning: `model.predict_classes()` is deprecated and will be removed after 2021-01-01. Please use instead:* `np.argmax(model.predict(x), axis=-1)`,   if your model does multi-class classification   (e.g. if it uses a `softmax` last-layer activation).* `(model.predict(x) > 0.5).astype(\"int32\")`,   if your model does binary classification   (e.g. if it uses a `sigmoid` last-layer activation).\n",
      "  warnings.warn('`model.predict_classes()` is deprecated and '\n",
      "C:\\Users\\shans\\AppData\\Roaming\\Python\\Python38\\site-packages\\keras\\engine\\sequential.py:450: UserWarning: `model.predict_classes()` is deprecated and will be removed after 2021-01-01. Please use instead:* `np.argmax(model.predict(x), axis=-1)`,   if your model does multi-class classification   (e.g. if it uses a `softmax` last-layer activation).* `(model.predict(x) > 0.5).astype(\"int32\")`,   if your model does binary classification   (e.g. if it uses a `sigmoid` last-layer activation).\n",
      "  warnings.warn('`model.predict_classes()` is deprecated and '\n",
      "C:\\Users\\shans\\AppData\\Roaming\\Python\\Python38\\site-packages\\keras\\engine\\sequential.py:450: UserWarning: `model.predict_classes()` is deprecated and will be removed after 2021-01-01. Please use instead:* `np.argmax(model.predict(x), axis=-1)`,   if your model does multi-class classification   (e.g. if it uses a `softmax` last-layer activation).* `(model.predict(x) > 0.5).astype(\"int32\")`,   if your model does binary classification   (e.g. if it uses a `sigmoid` last-layer activation).\n",
      "  warnings.warn('`model.predict_classes()` is deprecated and '\n",
      "C:\\Users\\shans\\AppData\\Roaming\\Python\\Python38\\site-packages\\keras\\engine\\sequential.py:450: UserWarning: `model.predict_classes()` is deprecated and will be removed after 2021-01-01. Please use instead:* `np.argmax(model.predict(x), axis=-1)`,   if your model does multi-class classification   (e.g. if it uses a `softmax` last-layer activation).* `(model.predict(x) > 0.5).astype(\"int32\")`,   if your model does binary classification   (e.g. if it uses a `sigmoid` last-layer activation).\n",
      "  warnings.warn('`model.predict_classes()` is deprecated and '\n",
      "C:\\Users\\shans\\AppData\\Roaming\\Python\\Python38\\site-packages\\keras\\engine\\sequential.py:450: UserWarning: `model.predict_classes()` is deprecated and will be removed after 2021-01-01. Please use instead:* `np.argmax(model.predict(x), axis=-1)`,   if your model does multi-class classification   (e.g. if it uses a `softmax` last-layer activation).* `(model.predict(x) > 0.5).astype(\"int32\")`,   if your model does binary classification   (e.g. if it uses a `sigmoid` last-layer activation).\n",
      "  warnings.warn('`model.predict_classes()` is deprecated and '\n",
      "C:\\Users\\shans\\AppData\\Roaming\\Python\\Python38\\site-packages\\keras\\engine\\sequential.py:450: UserWarning: `model.predict_classes()` is deprecated and will be removed after 2021-01-01. Please use instead:* `np.argmax(model.predict(x), axis=-1)`,   if your model does multi-class classification   (e.g. if it uses a `softmax` last-layer activation).* `(model.predict(x) > 0.5).astype(\"int32\")`,   if your model does binary classification   (e.g. if it uses a `sigmoid` last-layer activation).\n",
      "  warnings.warn('`model.predict_classes()` is deprecated and '\n",
      "C:\\Users\\shans\\AppData\\Roaming\\Python\\Python38\\site-packages\\keras\\engine\\sequential.py:450: UserWarning: `model.predict_classes()` is deprecated and will be removed after 2021-01-01. Please use instead:* `np.argmax(model.predict(x), axis=-1)`,   if your model does multi-class classification   (e.g. if it uses a `softmax` last-layer activation).* `(model.predict(x) > 0.5).astype(\"int32\")`,   if your model does binary classification   (e.g. if it uses a `sigmoid` last-layer activation).\n",
      "  warnings.warn('`model.predict_classes()` is deprecated and '\n",
      "C:\\Users\\shans\\AppData\\Roaming\\Python\\Python38\\site-packages\\keras\\engine\\sequential.py:450: UserWarning: `model.predict_classes()` is deprecated and will be removed after 2021-01-01. Please use instead:* `np.argmax(model.predict(x), axis=-1)`,   if your model does multi-class classification   (e.g. if it uses a `softmax` last-layer activation).* `(model.predict(x) > 0.5).astype(\"int32\")`,   if your model does binary classification   (e.g. if it uses a `sigmoid` last-layer activation).\n",
      "  warnings.warn('`model.predict_classes()` is deprecated and '\n",
      "C:\\Users\\shans\\AppData\\Roaming\\Python\\Python38\\site-packages\\keras\\engine\\sequential.py:450: UserWarning: `model.predict_classes()` is deprecated and will be removed after 2021-01-01. Please use instead:* `np.argmax(model.predict(x), axis=-1)`,   if your model does multi-class classification   (e.g. if it uses a `softmax` last-layer activation).* `(model.predict(x) > 0.5).astype(\"int32\")`,   if your model does binary classification   (e.g. if it uses a `sigmoid` last-layer activation).\n",
      "  warnings.warn('`model.predict_classes()` is deprecated and '\n",
      "C:\\Users\\shans\\AppData\\Roaming\\Python\\Python38\\site-packages\\keras\\engine\\sequential.py:450: UserWarning: `model.predict_classes()` is deprecated and will be removed after 2021-01-01. Please use instead:* `np.argmax(model.predict(x), axis=-1)`,   if your model does multi-class classification   (e.g. if it uses a `softmax` last-layer activation).* `(model.predict(x) > 0.5).astype(\"int32\")`,   if your model does binary classification   (e.g. if it uses a `sigmoid` last-layer activation).\n",
      "  warnings.warn('`model.predict_classes()` is deprecated and '\n",
      "C:\\Users\\shans\\AppData\\Roaming\\Python\\Python38\\site-packages\\keras\\engine\\sequential.py:450: UserWarning: `model.predict_classes()` is deprecated and will be removed after 2021-01-01. Please use instead:* `np.argmax(model.predict(x), axis=-1)`,   if your model does multi-class classification   (e.g. if it uses a `softmax` last-layer activation).* `(model.predict(x) > 0.5).astype(\"int32\")`,   if your model does binary classification   (e.g. if it uses a `sigmoid` last-layer activation).\n",
      "  warnings.warn('`model.predict_classes()` is deprecated and '\n",
      "C:\\Users\\shans\\AppData\\Roaming\\Python\\Python38\\site-packages\\keras\\engine\\sequential.py:450: UserWarning: `model.predict_classes()` is deprecated and will be removed after 2021-01-01. Please use instead:* `np.argmax(model.predict(x), axis=-1)`,   if your model does multi-class classification   (e.g. if it uses a `softmax` last-layer activation).* `(model.predict(x) > 0.5).astype(\"int32\")`,   if your model does binary classification   (e.g. if it uses a `sigmoid` last-layer activation).\n",
      "  warnings.warn('`model.predict_classes()` is deprecated and '\n",
      "C:\\Users\\shans\\AppData\\Roaming\\Python\\Python38\\site-packages\\keras\\engine\\sequential.py:450: UserWarning: `model.predict_classes()` is deprecated and will be removed after 2021-01-01. Please use instead:* `np.argmax(model.predict(x), axis=-1)`,   if your model does multi-class classification   (e.g. if it uses a `softmax` last-layer activation).* `(model.predict(x) > 0.5).astype(\"int32\")`,   if your model does binary classification   (e.g. if it uses a `sigmoid` last-layer activation).\n",
      "  warnings.warn('`model.predict_classes()` is deprecated and '\n"
     ]
    },
    {
     "name": "stderr",
     "output_type": "stream",
     "text": [
      "C:\\Users\\shans\\AppData\\Roaming\\Python\\Python38\\site-packages\\keras\\engine\\sequential.py:450: UserWarning: `model.predict_classes()` is deprecated and will be removed after 2021-01-01. Please use instead:* `np.argmax(model.predict(x), axis=-1)`,   if your model does multi-class classification   (e.g. if it uses a `softmax` last-layer activation).* `(model.predict(x) > 0.5).astype(\"int32\")`,   if your model does binary classification   (e.g. if it uses a `sigmoid` last-layer activation).\n",
      "  warnings.warn('`model.predict_classes()` is deprecated and '\n",
      "C:\\Users\\shans\\AppData\\Roaming\\Python\\Python38\\site-packages\\keras\\engine\\sequential.py:450: UserWarning: `model.predict_classes()` is deprecated and will be removed after 2021-01-01. Please use instead:* `np.argmax(model.predict(x), axis=-1)`,   if your model does multi-class classification   (e.g. if it uses a `softmax` last-layer activation).* `(model.predict(x) > 0.5).astype(\"int32\")`,   if your model does binary classification   (e.g. if it uses a `sigmoid` last-layer activation).\n",
      "  warnings.warn('`model.predict_classes()` is deprecated and '\n",
      "C:\\Users\\shans\\AppData\\Roaming\\Python\\Python38\\site-packages\\keras\\engine\\sequential.py:450: UserWarning: `model.predict_classes()` is deprecated and will be removed after 2021-01-01. Please use instead:* `np.argmax(model.predict(x), axis=-1)`,   if your model does multi-class classification   (e.g. if it uses a `softmax` last-layer activation).* `(model.predict(x) > 0.5).astype(\"int32\")`,   if your model does binary classification   (e.g. if it uses a `sigmoid` last-layer activation).\n",
      "  warnings.warn('`model.predict_classes()` is deprecated and '\n",
      "C:\\Users\\shans\\AppData\\Roaming\\Python\\Python38\\site-packages\\keras\\engine\\sequential.py:450: UserWarning: `model.predict_classes()` is deprecated and will be removed after 2021-01-01. Please use instead:* `np.argmax(model.predict(x), axis=-1)`,   if your model does multi-class classification   (e.g. if it uses a `softmax` last-layer activation).* `(model.predict(x) > 0.5).astype(\"int32\")`,   if your model does binary classification   (e.g. if it uses a `sigmoid` last-layer activation).\n",
      "  warnings.warn('`model.predict_classes()` is deprecated and '\n",
      "C:\\Users\\shans\\AppData\\Roaming\\Python\\Python38\\site-packages\\keras\\engine\\sequential.py:450: UserWarning: `model.predict_classes()` is deprecated and will be removed after 2021-01-01. Please use instead:* `np.argmax(model.predict(x), axis=-1)`,   if your model does multi-class classification   (e.g. if it uses a `softmax` last-layer activation).* `(model.predict(x) > 0.5).astype(\"int32\")`,   if your model does binary classification   (e.g. if it uses a `sigmoid` last-layer activation).\n",
      "  warnings.warn('`model.predict_classes()` is deprecated and '\n",
      "C:\\Users\\shans\\AppData\\Roaming\\Python\\Python38\\site-packages\\keras\\engine\\sequential.py:450: UserWarning: `model.predict_classes()` is deprecated and will be removed after 2021-01-01. Please use instead:* `np.argmax(model.predict(x), axis=-1)`,   if your model does multi-class classification   (e.g. if it uses a `softmax` last-layer activation).* `(model.predict(x) > 0.5).astype(\"int32\")`,   if your model does binary classification   (e.g. if it uses a `sigmoid` last-layer activation).\n",
      "  warnings.warn('`model.predict_classes()` is deprecated and '\n",
      "C:\\Users\\shans\\AppData\\Roaming\\Python\\Python38\\site-packages\\keras\\engine\\sequential.py:450: UserWarning: `model.predict_classes()` is deprecated and will be removed after 2021-01-01. Please use instead:* `np.argmax(model.predict(x), axis=-1)`,   if your model does multi-class classification   (e.g. if it uses a `softmax` last-layer activation).* `(model.predict(x) > 0.5).astype(\"int32\")`,   if your model does binary classification   (e.g. if it uses a `sigmoid` last-layer activation).\n",
      "  warnings.warn('`model.predict_classes()` is deprecated and '\n",
      "C:\\Users\\shans\\AppData\\Roaming\\Python\\Python38\\site-packages\\keras\\engine\\sequential.py:450: UserWarning: `model.predict_classes()` is deprecated and will be removed after 2021-01-01. Please use instead:* `np.argmax(model.predict(x), axis=-1)`,   if your model does multi-class classification   (e.g. if it uses a `softmax` last-layer activation).* `(model.predict(x) > 0.5).astype(\"int32\")`,   if your model does binary classification   (e.g. if it uses a `sigmoid` last-layer activation).\n",
      "  warnings.warn('`model.predict_classes()` is deprecated and '\n",
      "C:\\Users\\shans\\AppData\\Roaming\\Python\\Python38\\site-packages\\keras\\engine\\sequential.py:450: UserWarning: `model.predict_classes()` is deprecated and will be removed after 2021-01-01. Please use instead:* `np.argmax(model.predict(x), axis=-1)`,   if your model does multi-class classification   (e.g. if it uses a `softmax` last-layer activation).* `(model.predict(x) > 0.5).astype(\"int32\")`,   if your model does binary classification   (e.g. if it uses a `sigmoid` last-layer activation).\n",
      "  warnings.warn('`model.predict_classes()` is deprecated and '\n",
      "C:\\Users\\shans\\AppData\\Roaming\\Python\\Python38\\site-packages\\keras\\engine\\sequential.py:450: UserWarning: `model.predict_classes()` is deprecated and will be removed after 2021-01-01. Please use instead:* `np.argmax(model.predict(x), axis=-1)`,   if your model does multi-class classification   (e.g. if it uses a `softmax` last-layer activation).* `(model.predict(x) > 0.5).astype(\"int32\")`,   if your model does binary classification   (e.g. if it uses a `sigmoid` last-layer activation).\n",
      "  warnings.warn('`model.predict_classes()` is deprecated and '\n",
      "C:\\Users\\shans\\AppData\\Roaming\\Python\\Python38\\site-packages\\keras\\engine\\sequential.py:450: UserWarning: `model.predict_classes()` is deprecated and will be removed after 2021-01-01. Please use instead:* `np.argmax(model.predict(x), axis=-1)`,   if your model does multi-class classification   (e.g. if it uses a `softmax` last-layer activation).* `(model.predict(x) > 0.5).astype(\"int32\")`,   if your model does binary classification   (e.g. if it uses a `sigmoid` last-layer activation).\n",
      "  warnings.warn('`model.predict_classes()` is deprecated and '\n",
      "C:\\Users\\shans\\AppData\\Roaming\\Python\\Python38\\site-packages\\keras\\engine\\sequential.py:450: UserWarning: `model.predict_classes()` is deprecated and will be removed after 2021-01-01. Please use instead:* `np.argmax(model.predict(x), axis=-1)`,   if your model does multi-class classification   (e.g. if it uses a `softmax` last-layer activation).* `(model.predict(x) > 0.5).astype(\"int32\")`,   if your model does binary classification   (e.g. if it uses a `sigmoid` last-layer activation).\n",
      "  warnings.warn('`model.predict_classes()` is deprecated and '\n",
      "C:\\Users\\shans\\AppData\\Roaming\\Python\\Python38\\site-packages\\keras\\engine\\sequential.py:450: UserWarning: `model.predict_classes()` is deprecated and will be removed after 2021-01-01. Please use instead:* `np.argmax(model.predict(x), axis=-1)`,   if your model does multi-class classification   (e.g. if it uses a `softmax` last-layer activation).* `(model.predict(x) > 0.5).astype(\"int32\")`,   if your model does binary classification   (e.g. if it uses a `sigmoid` last-layer activation).\n",
      "  warnings.warn('`model.predict_classes()` is deprecated and '\n",
      "C:\\Users\\shans\\AppData\\Roaming\\Python\\Python38\\site-packages\\keras\\engine\\sequential.py:450: UserWarning: `model.predict_classes()` is deprecated and will be removed after 2021-01-01. Please use instead:* `np.argmax(model.predict(x), axis=-1)`,   if your model does multi-class classification   (e.g. if it uses a `softmax` last-layer activation).* `(model.predict(x) > 0.5).astype(\"int32\")`,   if your model does binary classification   (e.g. if it uses a `sigmoid` last-layer activation).\n",
      "  warnings.warn('`model.predict_classes()` is deprecated and '\n",
      "C:\\Users\\shans\\AppData\\Roaming\\Python\\Python38\\site-packages\\keras\\engine\\sequential.py:450: UserWarning: `model.predict_classes()` is deprecated and will be removed after 2021-01-01. Please use instead:* `np.argmax(model.predict(x), axis=-1)`,   if your model does multi-class classification   (e.g. if it uses a `softmax` last-layer activation).* `(model.predict(x) > 0.5).astype(\"int32\")`,   if your model does binary classification   (e.g. if it uses a `sigmoid` last-layer activation).\n",
      "  warnings.warn('`model.predict_classes()` is deprecated and '\n"
     ]
    },
    {
     "name": "stderr",
     "output_type": "stream",
     "text": [
      "C:\\Users\\shans\\AppData\\Roaming\\Python\\Python38\\site-packages\\keras\\engine\\sequential.py:450: UserWarning: `model.predict_classes()` is deprecated and will be removed after 2021-01-01. Please use instead:* `np.argmax(model.predict(x), axis=-1)`,   if your model does multi-class classification   (e.g. if it uses a `softmax` last-layer activation).* `(model.predict(x) > 0.5).astype(\"int32\")`,   if your model does binary classification   (e.g. if it uses a `sigmoid` last-layer activation).\n",
      "  warnings.warn('`model.predict_classes()` is deprecated and '\n",
      "C:\\Users\\shans\\AppData\\Roaming\\Python\\Python38\\site-packages\\keras\\engine\\sequential.py:450: UserWarning: `model.predict_classes()` is deprecated and will be removed after 2021-01-01. Please use instead:* `np.argmax(model.predict(x), axis=-1)`,   if your model does multi-class classification   (e.g. if it uses a `softmax` last-layer activation).* `(model.predict(x) > 0.5).astype(\"int32\")`,   if your model does binary classification   (e.g. if it uses a `sigmoid` last-layer activation).\n",
      "  warnings.warn('`model.predict_classes()` is deprecated and '\n",
      "C:\\Users\\shans\\AppData\\Roaming\\Python\\Python38\\site-packages\\keras\\engine\\sequential.py:450: UserWarning: `model.predict_classes()` is deprecated and will be removed after 2021-01-01. Please use instead:* `np.argmax(model.predict(x), axis=-1)`,   if your model does multi-class classification   (e.g. if it uses a `softmax` last-layer activation).* `(model.predict(x) > 0.5).astype(\"int32\")`,   if your model does binary classification   (e.g. if it uses a `sigmoid` last-layer activation).\n",
      "  warnings.warn('`model.predict_classes()` is deprecated and '\n",
      "C:\\Users\\shans\\AppData\\Roaming\\Python\\Python38\\site-packages\\keras\\engine\\sequential.py:450: UserWarning: `model.predict_classes()` is deprecated and will be removed after 2021-01-01. Please use instead:* `np.argmax(model.predict(x), axis=-1)`,   if your model does multi-class classification   (e.g. if it uses a `softmax` last-layer activation).* `(model.predict(x) > 0.5).astype(\"int32\")`,   if your model does binary classification   (e.g. if it uses a `sigmoid` last-layer activation).\n",
      "  warnings.warn('`model.predict_classes()` is deprecated and '\n",
      "C:\\Users\\shans\\AppData\\Roaming\\Python\\Python38\\site-packages\\keras\\engine\\sequential.py:450: UserWarning: `model.predict_classes()` is deprecated and will be removed after 2021-01-01. Please use instead:* `np.argmax(model.predict(x), axis=-1)`,   if your model does multi-class classification   (e.g. if it uses a `softmax` last-layer activation).* `(model.predict(x) > 0.5).astype(\"int32\")`,   if your model does binary classification   (e.g. if it uses a `sigmoid` last-layer activation).\n",
      "  warnings.warn('`model.predict_classes()` is deprecated and '\n",
      "C:\\Users\\shans\\AppData\\Roaming\\Python\\Python38\\site-packages\\keras\\engine\\sequential.py:450: UserWarning: `model.predict_classes()` is deprecated and will be removed after 2021-01-01. Please use instead:* `np.argmax(model.predict(x), axis=-1)`,   if your model does multi-class classification   (e.g. if it uses a `softmax` last-layer activation).* `(model.predict(x) > 0.5).astype(\"int32\")`,   if your model does binary classification   (e.g. if it uses a `sigmoid` last-layer activation).\n",
      "  warnings.warn('`model.predict_classes()` is deprecated and '\n",
      "C:\\Users\\shans\\AppData\\Roaming\\Python\\Python38\\site-packages\\keras\\engine\\sequential.py:450: UserWarning: `model.predict_classes()` is deprecated and will be removed after 2021-01-01. Please use instead:* `np.argmax(model.predict(x), axis=-1)`,   if your model does multi-class classification   (e.g. if it uses a `softmax` last-layer activation).* `(model.predict(x) > 0.5).astype(\"int32\")`,   if your model does binary classification   (e.g. if it uses a `sigmoid` last-layer activation).\n",
      "  warnings.warn('`model.predict_classes()` is deprecated and '\n",
      "C:\\Users\\shans\\AppData\\Roaming\\Python\\Python38\\site-packages\\keras\\engine\\sequential.py:450: UserWarning: `model.predict_classes()` is deprecated and will be removed after 2021-01-01. Please use instead:* `np.argmax(model.predict(x), axis=-1)`,   if your model does multi-class classification   (e.g. if it uses a `softmax` last-layer activation).* `(model.predict(x) > 0.5).astype(\"int32\")`,   if your model does binary classification   (e.g. if it uses a `sigmoid` last-layer activation).\n",
      "  warnings.warn('`model.predict_classes()` is deprecated and '\n",
      "C:\\Users\\shans\\AppData\\Roaming\\Python\\Python38\\site-packages\\keras\\engine\\sequential.py:450: UserWarning: `model.predict_classes()` is deprecated and will be removed after 2021-01-01. Please use instead:* `np.argmax(model.predict(x), axis=-1)`,   if your model does multi-class classification   (e.g. if it uses a `softmax` last-layer activation).* `(model.predict(x) > 0.5).astype(\"int32\")`,   if your model does binary classification   (e.g. if it uses a `sigmoid` last-layer activation).\n",
      "  warnings.warn('`model.predict_classes()` is deprecated and '\n",
      "C:\\Users\\shans\\AppData\\Roaming\\Python\\Python38\\site-packages\\keras\\engine\\sequential.py:450: UserWarning: `model.predict_classes()` is deprecated and will be removed after 2021-01-01. Please use instead:* `np.argmax(model.predict(x), axis=-1)`,   if your model does multi-class classification   (e.g. if it uses a `softmax` last-layer activation).* `(model.predict(x) > 0.5).astype(\"int32\")`,   if your model does binary classification   (e.g. if it uses a `sigmoid` last-layer activation).\n",
      "  warnings.warn('`model.predict_classes()` is deprecated and '\n",
      "C:\\Users\\shans\\AppData\\Roaming\\Python\\Python38\\site-packages\\keras\\engine\\sequential.py:450: UserWarning: `model.predict_classes()` is deprecated and will be removed after 2021-01-01. Please use instead:* `np.argmax(model.predict(x), axis=-1)`,   if your model does multi-class classification   (e.g. if it uses a `softmax` last-layer activation).* `(model.predict(x) > 0.5).astype(\"int32\")`,   if your model does binary classification   (e.g. if it uses a `sigmoid` last-layer activation).\n",
      "  warnings.warn('`model.predict_classes()` is deprecated and '\n",
      "C:\\Users\\shans\\AppData\\Roaming\\Python\\Python38\\site-packages\\keras\\engine\\sequential.py:450: UserWarning: `model.predict_classes()` is deprecated and will be removed after 2021-01-01. Please use instead:* `np.argmax(model.predict(x), axis=-1)`,   if your model does multi-class classification   (e.g. if it uses a `softmax` last-layer activation).* `(model.predict(x) > 0.5).astype(\"int32\")`,   if your model does binary classification   (e.g. if it uses a `sigmoid` last-layer activation).\n",
      "  warnings.warn('`model.predict_classes()` is deprecated and '\n",
      "C:\\Users\\shans\\AppData\\Roaming\\Python\\Python38\\site-packages\\keras\\engine\\sequential.py:450: UserWarning: `model.predict_classes()` is deprecated and will be removed after 2021-01-01. Please use instead:* `np.argmax(model.predict(x), axis=-1)`,   if your model does multi-class classification   (e.g. if it uses a `softmax` last-layer activation).* `(model.predict(x) > 0.5).astype(\"int32\")`,   if your model does binary classification   (e.g. if it uses a `sigmoid` last-layer activation).\n",
      "  warnings.warn('`model.predict_classes()` is deprecated and '\n",
      "C:\\Users\\shans\\AppData\\Roaming\\Python\\Python38\\site-packages\\keras\\engine\\sequential.py:450: UserWarning: `model.predict_classes()` is deprecated and will be removed after 2021-01-01. Please use instead:* `np.argmax(model.predict(x), axis=-1)`,   if your model does multi-class classification   (e.g. if it uses a `softmax` last-layer activation).* `(model.predict(x) > 0.5).astype(\"int32\")`,   if your model does binary classification   (e.g. if it uses a `sigmoid` last-layer activation).\n",
      "  warnings.warn('`model.predict_classes()` is deprecated and '\n",
      "C:\\Users\\shans\\AppData\\Roaming\\Python\\Python38\\site-packages\\keras\\engine\\sequential.py:450: UserWarning: `model.predict_classes()` is deprecated and will be removed after 2021-01-01. Please use instead:* `np.argmax(model.predict(x), axis=-1)`,   if your model does multi-class classification   (e.g. if it uses a `softmax` last-layer activation).* `(model.predict(x) > 0.5).astype(\"int32\")`,   if your model does binary classification   (e.g. if it uses a `sigmoid` last-layer activation).\n",
      "  warnings.warn('`model.predict_classes()` is deprecated and '\n"
     ]
    },
    {
     "name": "stderr",
     "output_type": "stream",
     "text": [
      "C:\\Users\\shans\\AppData\\Roaming\\Python\\Python38\\site-packages\\keras\\engine\\sequential.py:450: UserWarning: `model.predict_classes()` is deprecated and will be removed after 2021-01-01. Please use instead:* `np.argmax(model.predict(x), axis=-1)`,   if your model does multi-class classification   (e.g. if it uses a `softmax` last-layer activation).* `(model.predict(x) > 0.5).astype(\"int32\")`,   if your model does binary classification   (e.g. if it uses a `sigmoid` last-layer activation).\n",
      "  warnings.warn('`model.predict_classes()` is deprecated and '\n",
      "C:\\Users\\shans\\AppData\\Roaming\\Python\\Python38\\site-packages\\keras\\engine\\sequential.py:450: UserWarning: `model.predict_classes()` is deprecated and will be removed after 2021-01-01. Please use instead:* `np.argmax(model.predict(x), axis=-1)`,   if your model does multi-class classification   (e.g. if it uses a `softmax` last-layer activation).* `(model.predict(x) > 0.5).astype(\"int32\")`,   if your model does binary classification   (e.g. if it uses a `sigmoid` last-layer activation).\n",
      "  warnings.warn('`model.predict_classes()` is deprecated and '\n",
      "C:\\Users\\shans\\AppData\\Roaming\\Python\\Python38\\site-packages\\keras\\engine\\sequential.py:450: UserWarning: `model.predict_classes()` is deprecated and will be removed after 2021-01-01. Please use instead:* `np.argmax(model.predict(x), axis=-1)`,   if your model does multi-class classification   (e.g. if it uses a `softmax` last-layer activation).* `(model.predict(x) > 0.5).astype(\"int32\")`,   if your model does binary classification   (e.g. if it uses a `sigmoid` last-layer activation).\n",
      "  warnings.warn('`model.predict_classes()` is deprecated and '\n",
      "C:\\Users\\shans\\AppData\\Roaming\\Python\\Python38\\site-packages\\keras\\engine\\sequential.py:450: UserWarning: `model.predict_classes()` is deprecated and will be removed after 2021-01-01. Please use instead:* `np.argmax(model.predict(x), axis=-1)`,   if your model does multi-class classification   (e.g. if it uses a `softmax` last-layer activation).* `(model.predict(x) > 0.5).astype(\"int32\")`,   if your model does binary classification   (e.g. if it uses a `sigmoid` last-layer activation).\n",
      "  warnings.warn('`model.predict_classes()` is deprecated and '\n",
      "C:\\Users\\shans\\AppData\\Roaming\\Python\\Python38\\site-packages\\keras\\engine\\sequential.py:450: UserWarning: `model.predict_classes()` is deprecated and will be removed after 2021-01-01. Please use instead:* `np.argmax(model.predict(x), axis=-1)`,   if your model does multi-class classification   (e.g. if it uses a `softmax` last-layer activation).* `(model.predict(x) > 0.5).astype(\"int32\")`,   if your model does binary classification   (e.g. if it uses a `sigmoid` last-layer activation).\n",
      "  warnings.warn('`model.predict_classes()` is deprecated and '\n"
     ]
    },
    {
     "data": {
      "text/plain": [
       "GridSearchCV(cv=5,\n",
       "             estimator=<keras.wrappers.scikit_learn.KerasClassifier object at 0x0000027352F9F040>,\n",
       "             param_grid={'batch_size': [10, 20, 30, 40],\n",
       "                         'epochs': [5, 10, 20, 50]},\n",
       "             scoring='accuracy')"
      ]
     },
     "execution_count": 58,
     "metadata": {},
     "output_type": "execute_result"
    }
   ],
   "source": [
    "grid_search.fit(X_train, y_train)"
   ]
  },
  {
   "cell_type": "code",
   "execution_count": 59,
   "metadata": {},
   "outputs": [
    {
     "name": "stdout",
     "output_type": "stream",
     "text": [
      "{'batch_size': 20, 'epochs': 5}\n"
     ]
    }
   ],
   "source": [
    "print(grid_search.best_params_)\n",
    "model = grid_search.best_estimator_"
   ]
  },
  {
   "cell_type": "code",
   "execution_count": 60,
   "metadata": {
    "scrolled": true
   },
   "outputs": [
    {
     "name": "stdout",
     "output_type": "stream",
     "text": [
      "Train score: 0.7999\n",
      "Test score: 0.7908\n"
     ]
    }
   ],
   "source": [
    "print(\"Train score: {:.4f}\".format(grid_search.best_score_))\n",
    "print(\"Test score: {:.4f}\".format(model.score(X_test, y_test)))"
   ]
  },
  {
   "cell_type": "code",
   "execution_count": 61,
   "metadata": {},
   "outputs": [],
   "source": [
    "model_Scores.append({'Model Type':'Classification',\n",
    "                    'Model Name': 'Deep Learning',\n",
    "                    'Best Parameters': grid_search.best_params_,\n",
    "                    'Train Score': grid_search.best_score_,\n",
    "                    'Test Score': model.score(X_test, y_test)})"
   ]
  },
  {
   "cell_type": "markdown",
   "metadata": {},
   "source": [
    "## Predictive Model Results"
   ]
  },
  {
   "cell_type": "code",
   "execution_count": 62,
   "metadata": {},
   "outputs": [
    {
     "data": {
      "text/html": [
       "<div>\n",
       "<style scoped>\n",
       "    .dataframe tbody tr th:only-of-type {\n",
       "        vertical-align: middle;\n",
       "    }\n",
       "\n",
       "    .dataframe tbody tr th {\n",
       "        vertical-align: top;\n",
       "    }\n",
       "\n",
       "    .dataframe thead th {\n",
       "        text-align: right;\n",
       "    }\n",
       "</style>\n",
       "<table border=\"1\" class=\"dataframe\">\n",
       "  <thead>\n",
       "    <tr style=\"text-align: right;\">\n",
       "      <th></th>\n",
       "      <th>Model Type</th>\n",
       "      <th>Best Parameters</th>\n",
       "      <th>Train Score</th>\n",
       "      <th>Test Score</th>\n",
       "    </tr>\n",
       "    <tr>\n",
       "      <th>Model Name</th>\n",
       "      <th></th>\n",
       "      <th></th>\n",
       "      <th></th>\n",
       "      <th></th>\n",
       "    </tr>\n",
       "  </thead>\n",
       "  <tbody>\n",
       "    <tr>\n",
       "      <th>Hard Voting Classifiers</th>\n",
       "      <td>Classification</td>\n",
       "      <td>{'estimators': [('lr', LogisticRegression(C=1)...</td>\n",
       "      <td>0.808304</td>\n",
       "      <td>0.793709</td>\n",
       "    </tr>\n",
       "    <tr>\n",
       "      <th>Soft Voting Classifiers</th>\n",
       "      <td>Classification</td>\n",
       "      <td>{'estimators': [('lr', LogisticRegression(C=1)...</td>\n",
       "      <td>0.812511</td>\n",
       "      <td>0.792246</td>\n",
       "    </tr>\n",
       "    <tr>\n",
       "      <th>Bagging with KNeighbor Classifier</th>\n",
       "      <td>Classification</td>\n",
       "      <td>{'max_samples': 0.5, 'n_estimators': 50}</td>\n",
       "      <td>0.805378</td>\n",
       "      <td>0.780541</td>\n",
       "    </tr>\n",
       "    <tr>\n",
       "      <th>Bagging with Decision Tree</th>\n",
       "      <td>Classification</td>\n",
       "      <td>{'max_samples': 0.7, 'n_estimators': 100}</td>\n",
       "      <td>0.792025</td>\n",
       "      <td>0.778347</td>\n",
       "    </tr>\n",
       "    <tr>\n",
       "      <th>Pasting with Logistic Regression</th>\n",
       "      <td>Classification</td>\n",
       "      <td>{'max_samples': 0.5, 'n_estimators': 100}</td>\n",
       "      <td>0.805012</td>\n",
       "      <td>0.800293</td>\n",
       "    </tr>\n",
       "    <tr>\n",
       "      <th>Pasting with Linear SVM</th>\n",
       "      <td>Classification</td>\n",
       "      <td>{'max_samples': 0.5, 'n_estimators': 50}</td>\n",
       "      <td>0.802817</td>\n",
       "      <td>0.794440</td>\n",
       "    </tr>\n",
       "    <tr>\n",
       "      <th>Adaboosting with Decision Tree</th>\n",
       "      <td>Classification</td>\n",
       "      <td>{'learning_rate': 0.5, 'n_estimators': 50}</td>\n",
       "      <td>0.838851</td>\n",
       "      <td>0.787125</td>\n",
       "    </tr>\n",
       "    <tr>\n",
       "      <th>Adaboosting with SVM with Kernel Linear</th>\n",
       "      <td>Classification</td>\n",
       "      <td>{'learning_rate': 0.5, 'n_estimators': 300}</td>\n",
       "      <td>0.803549</td>\n",
       "      <td>0.796635</td>\n",
       "    </tr>\n",
       "    <tr>\n",
       "      <th>Gradient Boosting</th>\n",
       "      <td>Classification</td>\n",
       "      <td>{'learning_rate': 0.3, 'max_depth': 1, 'n_esti...</td>\n",
       "      <td>0.811597</td>\n",
       "      <td>0.806876</td>\n",
       "    </tr>\n",
       "    <tr>\n",
       "      <th>Deep Learning</th>\n",
       "      <td>Classification</td>\n",
       "      <td>{'batch_size': 20, 'epochs': 5}</td>\n",
       "      <td>0.799894</td>\n",
       "      <td>0.790783</td>\n",
       "    </tr>\n",
       "  </tbody>\n",
       "</table>\n",
       "</div>"
      ],
      "text/plain": [
       "                                             Model Type  \\\n",
       "Model Name                                                \n",
       "Hard Voting Classifiers                  Classification   \n",
       "Soft Voting Classifiers                  Classification   \n",
       "Bagging with KNeighbor Classifier        Classification   \n",
       "Bagging with Decision Tree               Classification   \n",
       "Pasting with Logistic Regression         Classification   \n",
       "Pasting with Linear SVM                  Classification   \n",
       "Adaboosting with Decision Tree           Classification   \n",
       "Adaboosting with SVM with Kernel Linear  Classification   \n",
       "Gradient Boosting                        Classification   \n",
       "Deep Learning                            Classification   \n",
       "\n",
       "                                                                           Best Parameters  \\\n",
       "Model Name                                                                                   \n",
       "Hard Voting Classifiers                  {'estimators': [('lr', LogisticRegression(C=1)...   \n",
       "Soft Voting Classifiers                  {'estimators': [('lr', LogisticRegression(C=1)...   \n",
       "Bagging with KNeighbor Classifier                 {'max_samples': 0.5, 'n_estimators': 50}   \n",
       "Bagging with Decision Tree                       {'max_samples': 0.7, 'n_estimators': 100}   \n",
       "Pasting with Logistic Regression                 {'max_samples': 0.5, 'n_estimators': 100}   \n",
       "Pasting with Linear SVM                           {'max_samples': 0.5, 'n_estimators': 50}   \n",
       "Adaboosting with Decision Tree                  {'learning_rate': 0.5, 'n_estimators': 50}   \n",
       "Adaboosting with SVM with Kernel Linear        {'learning_rate': 0.5, 'n_estimators': 300}   \n",
       "Gradient Boosting                        {'learning_rate': 0.3, 'max_depth': 1, 'n_esti...   \n",
       "Deep Learning                                              {'batch_size': 20, 'epochs': 5}   \n",
       "\n",
       "                                         Train Score  Test Score  \n",
       "Model Name                                                        \n",
       "Hard Voting Classifiers                     0.808304    0.793709  \n",
       "Soft Voting Classifiers                     0.812511    0.792246  \n",
       "Bagging with KNeighbor Classifier           0.805378    0.780541  \n",
       "Bagging with Decision Tree                  0.792025    0.778347  \n",
       "Pasting with Logistic Regression            0.805012    0.800293  \n",
       "Pasting with Linear SVM                     0.802817    0.794440  \n",
       "Adaboosting with Decision Tree              0.838851    0.787125  \n",
       "Adaboosting with SVM with Kernel Linear     0.803549    0.796635  \n",
       "Gradient Boosting                           0.811597    0.806876  \n",
       "Deep Learning                               0.799894    0.790783  "
      ]
     },
     "execution_count": 62,
     "metadata": {},
     "output_type": "execute_result"
    }
   ],
   "source": [
    "result_tbl = pd.DataFrame(model_Scores)\n",
    "result_tbl.set_index('Model Name', inplace = True)\n",
    "result_tbl"
   ]
  },
  {
   "cell_type": "markdown",
   "metadata": {},
   "source": [
    "## Feature Importance"
   ]
  },
  {
   "cell_type": "code",
   "execution_count": 63,
   "metadata": {},
   "outputs": [
    {
     "data": {
      "text/plain": [
       "Contract                             0.406443\n",
       "tenure                               0.245455\n",
       "ITS_Fiber optic                      0.173103\n",
       "Payment_Electronic check             0.071734\n",
       "StreamingMovies                      0.032777\n",
       "PaperlessBilling                     0.013434\n",
       "TotalCharges                         0.010936\n",
       "MultipleLines                        0.008245\n",
       "SeniorCitizen                        0.008030\n",
       "MonthlyCharges                       0.007380\n",
       "OnlineSecurity                       0.006164\n",
       "StreamingTV                          0.005511\n",
       "TechSupport                          0.003769\n",
       "OnlineBackup                         0.003735\n",
       "PhoneService                         0.002341\n",
       "ITS_No                               0.000941\n",
       "Payment_Credit card (automatic)      0.000000\n",
       "Payment_Bank transfer (automatic)    0.000000\n",
       "gender                               0.000000\n",
       "ITS_DSL                              0.000000\n",
       "DeviceProtection                     0.000000\n",
       "Dependents                           0.000000\n",
       "Partner                              0.000000\n",
       "Payment_Mailed check                 0.000000\n",
       "dtype: float64"
      ]
     },
     "execution_count": 63,
     "metadata": {},
     "output_type": "execute_result"
    },
    {
     "data": {
      "image/png": "[encoded data removed]",
      "text/plain": [
       "<Figure size 432x288 with 1 Axes>"
      ]
     },
     "metadata": {
      "needs_background": "light"
     },
     "output_type": "display_data"
    }
   ],
   "source": [
    "grdBoost = grid7\n",
    "featureImp = pd.Series(grdBoost.best_estimator_.feature_importances_, index=X_train_full.columns).sort_values(ascending=False)\n",
    "plt.plot(featureImp, 'o')\n",
    "plt.xticks(rotation=90)\n",
    "featureImp"
   ]
  }
 ],
 "metadata": {
  "kernelspec": {
   "display_name": "Python 3",
   "language": "python",
   "name": "python3"
  },
  "language_info": {
   "codemirror_mode": {
    "name": "ipython",
    "version": 3
   },
   "file_extension": ".py",
   "mimetype": "text/x-python",
   "name": "python",
   "nbconvert_exporter": "python",
   "pygments_lexer": "ipython3",
   "version": "3.8.8"
  }
 },
 "nbformat": 4,
 "nbformat_minor": 2
}
