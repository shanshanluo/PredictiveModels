{
 "cells": [
  {
   "cell_type": "markdown",
   "metadata": {},
   "source": [
    "## Predictive Model for King County House Price Prediction"
   ]
  },
  {
   "cell_type": "markdown",
   "metadata": {},
   "source": [
    "### Description"
   ]
  },
  {
   "cell_type": "markdown",
   "metadata": {},
   "source": [
    "The project offers valuations of houses in King County, Washington, using machine learning techniques. The given dataset consists of historic data of houses sold from King County an area in the US State of Washington between May 2014 to May 2015. The dataset was obtained from Kaggle.It contains 21 variables and 14632 observations.\n",
    "\n",
    "We'll perform data preprocessing and analysis before building predictive models. In model build stage, several basic predictive models and ensembled models are built and evaluated with given dataset. Model that has highest R^2 score on evaluation data will be selected as the final predictive model for house evaluation. In addition, features that impact the house price the most will be extracted and analyzed."
   ]
  },
  {
   "cell_type": "markdown",
   "metadata": {},
   "source": [
    "### Data Preprocessing"
   ]
  },
  {
   "cell_type": "markdown",
   "metadata": {},
   "source": [
    "Data file 'kc_house_data.csv' was read in as input pandas DataFrame for analysis. The dataset has 14633 records and 21 columns. Each column presents one attribute of the house record shown in code output.\n",
    "<br>Data preprocessing stage involves handling missing values in dataset, creating new features and removing irrelevant and duplicated features. <br>Missing values occurs in columns 'bedrooms' and 'bathrooms'. We replaced missing values with average number of each column. <br>A new column 'last_renovated' was created with information from three other columns to store how many years back the house was renovated. <br>Categorical column 'view' was mapped to numeric values. <br>Columns 'id', 'date' and 'yr_renovated' were removed to clean irelevance and duplicates. <br>After all above process, we got a clean dataset for analysis and model building."
   ]
  },
  {
   "cell_type": "markdown",
   "metadata": {},
   "source": [
    "### Predictive Models"
   ]
  },
  {
   "cell_type": "markdown",
   "metadata": {},
   "source": [
    "Evaluated Models can be classified into 3 groups: Basic predictive models, ensembled models and NeuralNetwork models.\n",
    "Basic Models: KNN, LinearRegression, LinearSVM, SVM with kernel 'rbf' and 'poly', DecisionTree\n",
    "Ensembled Models: RandomForest, Bagging and pasting of base models, AdaBoosting of base models, GradientBoosting\n",
    "\n",
    "For model parameter tuning, GridSearch technique was used to select the best paramters for each model. Cross-validatio of 5-fold is used to calculate model performance.\n",
    "\n",
    "Feature engineering technique Principle Component Analysis (PCA) was studied to evaluate impact of the feature reduction on predictive models performances."
   ]
  },
  {
   "cell_type": "markdown",
   "metadata": {},
   "source": [
    "### Results"
   ]
  },
  {
   "cell_type": "markdown",
   "metadata": {},
   "source": [
    "[Basic Models Performances](#Basic-Models-Performances)\n",
    "<br>[Ensemble Models Peformances](#Ensemble-Models-Peformances)\n",
    "<br>[DTree Feature Importance](#DTree-Feature-Importance)\n",
    "<br>[Feature Importance from GradientBoosting Model](#Feature-Importance-from-GradientBoosting-Model)"
   ]
  },
  {
   "cell_type": "markdown",
   "metadata": {},
   "source": [
    "1. Among all the fitted basic predictive models, Decision Tree with paramter 'max_depth' of 11 generates best prediction accuracy score 0.81. "
   ]
  },
  {
   "cell_type": "markdown",
   "metadata": {},
   "source": [
    "2. Ensembled models with Decison Tree as base model work better than that with Linear base model. Best ensemble mode is GradientBoosting model with Decision Tree as base model. Accuracy test score of the model is 0.91. Model parameters are 'learning_rate': 0.1, 'max_depth': 5, 'n_estimators': 400."
   ]
  },
  {
   "cell_type": "markdown",
   "metadata": {},
   "source": [
    "3. Feature importance:\n",
    "<br>Feature importance from Decision Tree model indicates that top 5 features that impact the house price the most are 'grade', 'sqft_living', 'lat', 'long' and 'sqft_above'. The latitude and longitude values may have no direct influence on house price. But they do contain some area information that may have big effect on house price.\n",
    "<br><br>Feature importance from GradientBoosting model has same order for top 4 features as that from Decision Tree model. The fifth feature is 'waterfront' for GradientBoosting model."
   ]
  },
  {
   "cell_type": "markdown",
   "metadata": {},
   "source": [
    "### Code"
   ]
  },
  {
   "cell_type": "code",
   "execution_count": 1,
   "metadata": {},
   "outputs": [],
   "source": [
    "import numpy as np\n",
    "import pandas as pd\n",
    "import matplotlib.pyplot as plt"
   ]
  },
  {
   "cell_type": "markdown",
   "metadata": {},
   "source": [
    "### Data Preparing"
   ]
  },
  {
   "cell_type": "code",
   "execution_count": 2,
   "metadata": {},
   "outputs": [
    {
     "name": "stdout",
     "output_type": "stream",
     "text": [
      "<class 'pandas.core.frame.DataFrame'>\n",
      "RangeIndex: 14633 entries, 0 to 14632\n",
      "Data columns (total 21 columns):\n",
      " #   Column         Non-Null Count  Dtype  \n",
      "---  ------         --------------  -----  \n",
      " 0   id             14633 non-null  int64  \n",
      " 1   date           14633 non-null  object \n",
      " 2   price          14633 non-null  int64  \n",
      " 3   bedrooms       14633 non-null  int64  \n",
      " 4   bathrooms      14633 non-null  float64\n",
      " 5   sqft_living    14633 non-null  int64  \n",
      " 6   sqft_lot       14633 non-null  int64  \n",
      " 7   floors         14633 non-null  float64\n",
      " 8   waterfront     14633 non-null  int64  \n",
      " 9   view           14633 non-null  object \n",
      " 10  condition      14633 non-null  int64  \n",
      " 11  grade          14633 non-null  int64  \n",
      " 12  sqft_above     14633 non-null  int64  \n",
      " 13  sqft_basement  14633 non-null  int64  \n",
      " 14  yr_built       14633 non-null  int64  \n",
      " 15  yr_renovated   14633 non-null  object \n",
      " 16  zipcode        14633 non-null  int64  \n",
      " 17  lat            14633 non-null  float64\n",
      " 18  long           14633 non-null  float64\n",
      " 19  sqft_living15  14633 non-null  int64  \n",
      " 20  sqft_lot15     14633 non-null  int64  \n",
      "dtypes: float64(4), int64(14), object(3)\n",
      "memory usage: 2.3+ MB\n"
     ]
    },
    {
     "data": {
      "text/html": [
       "<div>\n",
       "<style scoped>\n",
       "    .dataframe tbody tr th:only-of-type {\n",
       "        vertical-align: middle;\n",
       "    }\n",
       "\n",
       "    .dataframe tbody tr th {\n",
       "        vertical-align: top;\n",
       "    }\n",
       "\n",
       "    .dataframe thead th {\n",
       "        text-align: right;\n",
       "    }\n",
       "</style>\n",
       "<table border=\"1\" class=\"dataframe\">\n",
       "  <thead>\n",
       "    <tr style=\"text-align: right;\">\n",
       "      <th></th>\n",
       "      <th>id</th>\n",
       "      <th>price</th>\n",
       "      <th>bedrooms</th>\n",
       "      <th>bathrooms</th>\n",
       "      <th>sqft_living</th>\n",
       "      <th>sqft_lot</th>\n",
       "      <th>floors</th>\n",
       "      <th>waterfront</th>\n",
       "      <th>condition</th>\n",
       "      <th>grade</th>\n",
       "      <th>sqft_above</th>\n",
       "      <th>sqft_basement</th>\n",
       "      <th>yr_built</th>\n",
       "      <th>zipcode</th>\n",
       "      <th>lat</th>\n",
       "      <th>long</th>\n",
       "      <th>sqft_living15</th>\n",
       "      <th>sqft_lot15</th>\n",
       "    </tr>\n",
       "  </thead>\n",
       "  <tbody>\n",
       "    <tr>\n",
       "      <th>count</th>\n",
       "      <td>1.463300e+04</td>\n",
       "      <td>1.463300e+04</td>\n",
       "      <td>14633.000000</td>\n",
       "      <td>14633.000000</td>\n",
       "      <td>14633.000000</td>\n",
       "      <td>1.463300e+04</td>\n",
       "      <td>14633.000000</td>\n",
       "      <td>14633.000000</td>\n",
       "      <td>14633.000000</td>\n",
       "      <td>14633.000000</td>\n",
       "      <td>14633.000000</td>\n",
       "      <td>14633.000000</td>\n",
       "      <td>14633.000000</td>\n",
       "      <td>14633.000000</td>\n",
       "      <td>14633.000000</td>\n",
       "      <td>14633.000000</td>\n",
       "      <td>14633.000000</td>\n",
       "      <td>14633.000000</td>\n",
       "    </tr>\n",
       "    <tr>\n",
       "      <th>mean</th>\n",
       "      <td>4.560180e+09</td>\n",
       "      <td>5.392805e+05</td>\n",
       "      <td>3.377161</td>\n",
       "      <td>2.003895</td>\n",
       "      <td>2098.319073</td>\n",
       "      <td>1.495053e+04</td>\n",
       "      <td>1.502631</td>\n",
       "      <td>0.007791</td>\n",
       "      <td>3.429919</td>\n",
       "      <td>7.681542</td>\n",
       "      <td>1802.015240</td>\n",
       "      <td>296.303834</td>\n",
       "      <td>1970.933985</td>\n",
       "      <td>98077.895852</td>\n",
       "      <td>47.562848</td>\n",
       "      <td>-122.213923</td>\n",
       "      <td>1996.840498</td>\n",
       "      <td>12770.057473</td>\n",
       "    </tr>\n",
       "    <tr>\n",
       "      <th>std</th>\n",
       "      <td>2.873192e+09</td>\n",
       "      <td>3.694039e+05</td>\n",
       "      <td>0.942636</td>\n",
       "      <td>0.898807</td>\n",
       "      <td>929.621019</td>\n",
       "      <td>3.752184e+04</td>\n",
       "      <td>0.540567</td>\n",
       "      <td>0.087923</td>\n",
       "      <td>0.664473</td>\n",
       "      <td>1.178388</td>\n",
       "      <td>835.193434</td>\n",
       "      <td>448.463475</td>\n",
       "      <td>29.489005</td>\n",
       "      <td>53.407146</td>\n",
       "      <td>0.137514</td>\n",
       "      <td>0.141430</td>\n",
       "      <td>691.376543</td>\n",
       "      <td>26107.338627</td>\n",
       "    </tr>\n",
       "    <tr>\n",
       "      <th>min</th>\n",
       "      <td>1.000102e+06</td>\n",
       "      <td>7.800000e+04</td>\n",
       "      <td>0.000000</td>\n",
       "      <td>0.000000</td>\n",
       "      <td>290.000000</td>\n",
       "      <td>5.200000e+02</td>\n",
       "      <td>1.000000</td>\n",
       "      <td>0.000000</td>\n",
       "      <td>1.000000</td>\n",
       "      <td>1.000000</td>\n",
       "      <td>290.000000</td>\n",
       "      <td>0.000000</td>\n",
       "      <td>1900.000000</td>\n",
       "      <td>98001.000000</td>\n",
       "      <td>47.155900</td>\n",
       "      <td>-122.519000</td>\n",
       "      <td>460.000000</td>\n",
       "      <td>651.000000</td>\n",
       "    </tr>\n",
       "    <tr>\n",
       "      <th>25%</th>\n",
       "      <td>2.115200e+09</td>\n",
       "      <td>3.200000e+05</td>\n",
       "      <td>3.000000</td>\n",
       "      <td>1.500000</td>\n",
       "      <td>1440.000000</td>\n",
       "      <td>5.040000e+03</td>\n",
       "      <td>1.000000</td>\n",
       "      <td>0.000000</td>\n",
       "      <td>3.000000</td>\n",
       "      <td>7.000000</td>\n",
       "      <td>1200.000000</td>\n",
       "      <td>0.000000</td>\n",
       "      <td>1951.000000</td>\n",
       "      <td>98033.000000</td>\n",
       "      <td>47.477600</td>\n",
       "      <td>-122.328000</td>\n",
       "      <td>1490.000000</td>\n",
       "      <td>5099.000000</td>\n",
       "    </tr>\n",
       "    <tr>\n",
       "      <th>50%</th>\n",
       "      <td>3.902100e+09</td>\n",
       "      <td>4.500000e+05</td>\n",
       "      <td>3.000000</td>\n",
       "      <td>2.000000</td>\n",
       "      <td>1930.000000</td>\n",
       "      <td>7.634000e+03</td>\n",
       "      <td>1.500000</td>\n",
       "      <td>0.000000</td>\n",
       "      <td>3.000000</td>\n",
       "      <td>7.000000</td>\n",
       "      <td>1580.000000</td>\n",
       "      <td>0.000000</td>\n",
       "      <td>1975.000000</td>\n",
       "      <td>98065.000000</td>\n",
       "      <td>47.576400</td>\n",
       "      <td>-122.231000</td>\n",
       "      <td>1850.000000</td>\n",
       "      <td>7620.000000</td>\n",
       "    </tr>\n",
       "    <tr>\n",
       "      <th>75%</th>\n",
       "      <td>7.298900e+09</td>\n",
       "      <td>6.450000e+05</td>\n",
       "      <td>4.000000</td>\n",
       "      <td>2.500000</td>\n",
       "      <td>2570.000000</td>\n",
       "      <td>1.080000e+04</td>\n",
       "      <td>2.000000</td>\n",
       "      <td>0.000000</td>\n",
       "      <td>4.000000</td>\n",
       "      <td>8.000000</td>\n",
       "      <td>2240.000000</td>\n",
       "      <td>580.000000</td>\n",
       "      <td>1997.000000</td>\n",
       "      <td>98117.000000</td>\n",
       "      <td>47.678900</td>\n",
       "      <td>-122.125000</td>\n",
       "      <td>2380.000000</td>\n",
       "      <td>10125.000000</td>\n",
       "    </tr>\n",
       "    <tr>\n",
       "      <th>max</th>\n",
       "      <td>9.900000e+09</td>\n",
       "      <td>7.700000e+06</td>\n",
       "      <td>33.000000</td>\n",
       "      <td>8.000000</td>\n",
       "      <td>13540.000000</td>\n",
       "      <td>1.074218e+06</td>\n",
       "      <td>3.500000</td>\n",
       "      <td>1.000000</td>\n",
       "      <td>5.000000</td>\n",
       "      <td>13.000000</td>\n",
       "      <td>9410.000000</td>\n",
       "      <td>4820.000000</td>\n",
       "      <td>2015.000000</td>\n",
       "      <td>98199.000000</td>\n",
       "      <td>47.777600</td>\n",
       "      <td>-121.315000</td>\n",
       "      <td>6110.000000</td>\n",
       "      <td>560617.000000</td>\n",
       "    </tr>\n",
       "  </tbody>\n",
       "</table>\n",
       "</div>"
      ],
      "text/plain": [
       "                 id         price      bedrooms     bathrooms   sqft_living  \\\n",
       "count  1.463300e+04  1.463300e+04  14633.000000  14633.000000  14633.000000   \n",
       "mean   4.560180e+09  5.392805e+05      3.377161      2.003895   2098.319073   \n",
       "std    2.873192e+09  3.694039e+05      0.942636      0.898807    929.621019   \n",
       "min    1.000102e+06  7.800000e+04      0.000000      0.000000    290.000000   \n",
       "25%    2.115200e+09  3.200000e+05      3.000000      1.500000   1440.000000   \n",
       "50%    3.902100e+09  4.500000e+05      3.000000      2.000000   1930.000000   \n",
       "75%    7.298900e+09  6.450000e+05      4.000000      2.500000   2570.000000   \n",
       "max    9.900000e+09  7.700000e+06     33.000000      8.000000  13540.000000   \n",
       "\n",
       "           sqft_lot        floors    waterfront     condition         grade  \\\n",
       "count  1.463300e+04  14633.000000  14633.000000  14633.000000  14633.000000   \n",
       "mean   1.495053e+04      1.502631      0.007791      3.429919      7.681542   \n",
       "std    3.752184e+04      0.540567      0.087923      0.664473      1.178388   \n",
       "min    5.200000e+02      1.000000      0.000000      1.000000      1.000000   \n",
       "25%    5.040000e+03      1.000000      0.000000      3.000000      7.000000   \n",
       "50%    7.634000e+03      1.500000      0.000000      3.000000      7.000000   \n",
       "75%    1.080000e+04      2.000000      0.000000      4.000000      8.000000   \n",
       "max    1.074218e+06      3.500000      1.000000      5.000000     13.000000   \n",
       "\n",
       "         sqft_above  sqft_basement      yr_built       zipcode           lat  \\\n",
       "count  14633.000000   14633.000000  14633.000000  14633.000000  14633.000000   \n",
       "mean    1802.015240     296.303834   1970.933985  98077.895852     47.562848   \n",
       "std      835.193434     448.463475     29.489005     53.407146      0.137514   \n",
       "min      290.000000       0.000000   1900.000000  98001.000000     47.155900   \n",
       "25%     1200.000000       0.000000   1951.000000  98033.000000     47.477600   \n",
       "50%     1580.000000       0.000000   1975.000000  98065.000000     47.576400   \n",
       "75%     2240.000000     580.000000   1997.000000  98117.000000     47.678900   \n",
       "max     9410.000000    4820.000000   2015.000000  98199.000000     47.777600   \n",
       "\n",
       "               long  sqft_living15     sqft_lot15  \n",
       "count  14633.000000   14633.000000   14633.000000  \n",
       "mean    -122.213923    1996.840498   12770.057473  \n",
       "std        0.141430     691.376543   26107.338627  \n",
       "min     -122.519000     460.000000     651.000000  \n",
       "25%     -122.328000    1490.000000    5099.000000  \n",
       "50%     -122.231000    1850.000000    7620.000000  \n",
       "75%     -122.125000    2380.000000   10125.000000  \n",
       "max     -121.315000    6110.000000  560617.000000  "
      ]
     },
     "execution_count": 2,
     "metadata": {},
     "output_type": "execute_result"
    }
   ],
   "source": [
    "house = pd.read_csv(\"data/kc_house_data.csv\")\n",
    "house.info()\n",
    "house.describe()"
   ]
  },
  {
   "cell_type": "code",
   "execution_count": 3,
   "metadata": {
    "scrolled": true
   },
   "outputs": [
    {
     "data": {
      "text/plain": [
       "(14633, 21)"
      ]
     },
     "execution_count": 3,
     "metadata": {},
     "output_type": "execute_result"
    }
   ],
   "source": [
    "house.shape"
   ]
  },
  {
   "cell_type": "markdown",
   "metadata": {},
   "source": [
    "- The size of dataset is `14633` with `21` columns."
   ]
  },
  {
   "cell_type": "code",
   "execution_count": 4,
   "metadata": {},
   "outputs": [],
   "source": [
    "house['age'] = house['date'].apply(lambda x: int(x[:4])) - house['yr_built']"
   ]
  },
  {
   "cell_type": "code",
   "execution_count": 5,
   "metadata": {
    "scrolled": true
   },
   "outputs": [
    {
     "data": {
      "text/plain": [
       "id                True\n",
       "date              True\n",
       "price             True\n",
       "bedrooms         False\n",
       "bathrooms        False\n",
       "sqft_living       True\n",
       "sqft_lot          True\n",
       "floors            True\n",
       "waterfront       False\n",
       "view              True\n",
       "condition         True\n",
       "grade             True\n",
       "sqft_above        True\n",
       "sqft_basement    False\n",
       "yr_built          True\n",
       "yr_renovated      True\n",
       "zipcode           True\n",
       "lat               True\n",
       "long              True\n",
       "sqft_living15     True\n",
       "sqft_lot15        True\n",
       "age              False\n",
       "dtype: bool"
      ]
     },
     "execution_count": 5,
     "metadata": {},
     "output_type": "execute_result"
    }
   ],
   "source": [
    "house[house == 0].all()"
   ]
  },
  {
   "cell_type": "markdown",
   "metadata": {},
   "source": [
    "- The columns contains 0 are: <b>bedrooms, bathrooms, waterfront, sqft_basement, yr_renovated</b>. Since normal house has at lease 1 bedroom and bathroom, `0 badroom/bathroom` is equal to `missing value` in this dataset."
   ]
  },
  {
   "cell_type": "code",
   "execution_count": 6,
   "metadata": {},
   "outputs": [],
   "source": [
    "house['bedrooms'] = house['bedrooms'].replace(0, np.nan)\n",
    "house['bathrooms'] = house['bathrooms'].replace(0, np.nan)"
   ]
  },
  {
   "cell_type": "code",
   "execution_count": 7,
   "metadata": {},
   "outputs": [
    {
     "name": "stdout",
     "output_type": "stream",
     "text": [
      "<class 'pandas.core.frame.DataFrame'>\n",
      "RangeIndex: 14633 entries, 0 to 14632\n",
      "Data columns (total 22 columns):\n",
      " #   Column         Non-Null Count  Dtype  \n",
      "---  ------         --------------  -----  \n",
      " 0   id             14633 non-null  int64  \n",
      " 1   date           14633 non-null  object \n",
      " 2   price          14633 non-null  int64  \n",
      " 3   bedrooms       14624 non-null  float64\n",
      " 4   bathrooms      13776 non-null  float64\n",
      " 5   sqft_living    14633 non-null  int64  \n",
      " 6   sqft_lot       14633 non-null  int64  \n",
      " 7   floors         14633 non-null  float64\n",
      " 8   waterfront     14633 non-null  int64  \n",
      " 9   view           14633 non-null  object \n",
      " 10  condition      14633 non-null  int64  \n",
      " 11  grade          14633 non-null  int64  \n",
      " 12  sqft_above     14633 non-null  int64  \n",
      " 13  sqft_basement  14633 non-null  int64  \n",
      " 14  yr_built       14633 non-null  int64  \n",
      " 15  yr_renovated   14633 non-null  object \n",
      " 16  zipcode        14633 non-null  int64  \n",
      " 17  lat            14633 non-null  float64\n",
      " 18  long           14633 non-null  float64\n",
      " 19  sqft_living15  14633 non-null  int64  \n",
      " 20  sqft_lot15     14633 non-null  int64  \n",
      " 21  age            14633 non-null  int64  \n",
      "dtypes: float64(5), int64(14), object(3)\n",
      "memory usage: 2.5+ MB\n"
     ]
    }
   ],
   "source": [
    "house.info()"
   ]
  },
  {
   "cell_type": "code",
   "execution_count": 8,
   "metadata": {},
   "outputs": [
    {
     "data": {
      "text/html": [
       "<div>\n",
       "<style scoped>\n",
       "    .dataframe tbody tr th:only-of-type {\n",
       "        vertical-align: middle;\n",
       "    }\n",
       "\n",
       "    .dataframe tbody tr th {\n",
       "        vertical-align: top;\n",
       "    }\n",
       "\n",
       "    .dataframe thead th {\n",
       "        text-align: right;\n",
       "    }\n",
       "</style>\n",
       "<table border=\"1\" class=\"dataframe\">\n",
       "  <thead>\n",
       "    <tr style=\"text-align: right;\">\n",
       "      <th></th>\n",
       "      <th>id</th>\n",
       "      <th>date</th>\n",
       "      <th>price</th>\n",
       "      <th>bedrooms</th>\n",
       "      <th>bathrooms</th>\n",
       "      <th>sqft_living</th>\n",
       "      <th>sqft_lot</th>\n",
       "      <th>floors</th>\n",
       "      <th>waterfront</th>\n",
       "      <th>view</th>\n",
       "      <th>...</th>\n",
       "      <th>sqft_above</th>\n",
       "      <th>sqft_basement</th>\n",
       "      <th>yr_built</th>\n",
       "      <th>yr_renovated</th>\n",
       "      <th>zipcode</th>\n",
       "      <th>lat</th>\n",
       "      <th>long</th>\n",
       "      <th>sqft_living15</th>\n",
       "      <th>sqft_lot15</th>\n",
       "      <th>age</th>\n",
       "    </tr>\n",
       "  </thead>\n",
       "  <tbody>\n",
       "    <tr>\n",
       "      <th>5</th>\n",
       "      <td>5100401414</td>\n",
       "      <td>20140502T000000</td>\n",
       "      <td>490000</td>\n",
       "      <td>2.0</td>\n",
       "      <td>NaN</td>\n",
       "      <td>880</td>\n",
       "      <td>6380</td>\n",
       "      <td>1.0</td>\n",
       "      <td>0</td>\n",
       "      <td>Seldom</td>\n",
       "      <td>...</td>\n",
       "      <td>880</td>\n",
       "      <td>0</td>\n",
       "      <td>1938</td>\n",
       "      <td>1994</td>\n",
       "      <td>98115</td>\n",
       "      <td>47.6924</td>\n",
       "      <td>-122.322</td>\n",
       "      <td>1340</td>\n",
       "      <td>6380</td>\n",
       "      <td>76</td>\n",
       "    </tr>\n",
       "    <tr>\n",
       "      <th>11</th>\n",
       "      <td>4217401055</td>\n",
       "      <td>20140502T000000</td>\n",
       "      <td>1400000</td>\n",
       "      <td>4.0</td>\n",
       "      <td>NaN</td>\n",
       "      <td>2920</td>\n",
       "      <td>4000</td>\n",
       "      <td>1.5</td>\n",
       "      <td>0</td>\n",
       "      <td>Seldom</td>\n",
       "      <td>...</td>\n",
       "      <td>1910</td>\n",
       "      <td>1010</td>\n",
       "      <td>1909</td>\n",
       "      <td>No</td>\n",
       "      <td>98105</td>\n",
       "      <td>47.6578</td>\n",
       "      <td>-122.280</td>\n",
       "      <td>2470</td>\n",
       "      <td>4000</td>\n",
       "      <td>105</td>\n",
       "    </tr>\n",
       "    <tr>\n",
       "      <th>25</th>\n",
       "      <td>5101405331</td>\n",
       "      <td>20140502T000000</td>\n",
       "      <td>495000</td>\n",
       "      <td>4.0</td>\n",
       "      <td>NaN</td>\n",
       "      <td>1600</td>\n",
       "      <td>6380</td>\n",
       "      <td>1.0</td>\n",
       "      <td>0</td>\n",
       "      <td>Seldom</td>\n",
       "      <td>...</td>\n",
       "      <td>1130</td>\n",
       "      <td>470</td>\n",
       "      <td>1959</td>\n",
       "      <td>No</td>\n",
       "      <td>98125</td>\n",
       "      <td>47.7010</td>\n",
       "      <td>-122.306</td>\n",
       "      <td>1090</td>\n",
       "      <td>6380</td>\n",
       "      <td>55</td>\n",
       "    </tr>\n",
       "    <tr>\n",
       "      <th>29</th>\n",
       "      <td>1024069009</td>\n",
       "      <td>20140502T000000</td>\n",
       "      <td>675000</td>\n",
       "      <td>5.0</td>\n",
       "      <td>NaN</td>\n",
       "      <td>2820</td>\n",
       "      <td>67518</td>\n",
       "      <td>2.0</td>\n",
       "      <td>0</td>\n",
       "      <td>Seldom</td>\n",
       "      <td>...</td>\n",
       "      <td>2820</td>\n",
       "      <td>0</td>\n",
       "      <td>1979</td>\n",
       "      <td>No</td>\n",
       "      <td>98029</td>\n",
       "      <td>47.5794</td>\n",
       "      <td>-122.025</td>\n",
       "      <td>2820</td>\n",
       "      <td>48351</td>\n",
       "      <td>35</td>\n",
       "    </tr>\n",
       "    <tr>\n",
       "      <th>37</th>\n",
       "      <td>587550340</td>\n",
       "      <td>20140502T000000</td>\n",
       "      <td>604000</td>\n",
       "      <td>3.0</td>\n",
       "      <td>NaN</td>\n",
       "      <td>3240</td>\n",
       "      <td>33151</td>\n",
       "      <td>2.0</td>\n",
       "      <td>0</td>\n",
       "      <td>Normal</td>\n",
       "      <td>...</td>\n",
       "      <td>3240</td>\n",
       "      <td>0</td>\n",
       "      <td>1995</td>\n",
       "      <td>No</td>\n",
       "      <td>98023</td>\n",
       "      <td>47.3256</td>\n",
       "      <td>-122.378</td>\n",
       "      <td>4050</td>\n",
       "      <td>24967</td>\n",
       "      <td>19</td>\n",
       "    </tr>\n",
       "    <tr>\n",
       "      <th>...</th>\n",
       "      <td>...</td>\n",
       "      <td>...</td>\n",
       "      <td>...</td>\n",
       "      <td>...</td>\n",
       "      <td>...</td>\n",
       "      <td>...</td>\n",
       "      <td>...</td>\n",
       "      <td>...</td>\n",
       "      <td>...</td>\n",
       "      <td>...</td>\n",
       "      <td>...</td>\n",
       "      <td>...</td>\n",
       "      <td>...</td>\n",
       "      <td>...</td>\n",
       "      <td>...</td>\n",
       "      <td>...</td>\n",
       "      <td>...</td>\n",
       "      <td>...</td>\n",
       "      <td>...</td>\n",
       "      <td>...</td>\n",
       "      <td>...</td>\n",
       "    </tr>\n",
       "    <tr>\n",
       "      <th>14569</th>\n",
       "      <td>2422049104</td>\n",
       "      <td>20141230T000000</td>\n",
       "      <td>235000</td>\n",
       "      <td>2.0</td>\n",
       "      <td>NaN</td>\n",
       "      <td>830</td>\n",
       "      <td>9000</td>\n",
       "      <td>1.0</td>\n",
       "      <td>0</td>\n",
       "      <td>Seldom</td>\n",
       "      <td>...</td>\n",
       "      <td>830</td>\n",
       "      <td>0</td>\n",
       "      <td>1939</td>\n",
       "      <td>No</td>\n",
       "      <td>98032</td>\n",
       "      <td>47.3813</td>\n",
       "      <td>-122.243</td>\n",
       "      <td>1160</td>\n",
       "      <td>7680</td>\n",
       "      <td>75</td>\n",
       "    </tr>\n",
       "    <tr>\n",
       "      <th>14584</th>\n",
       "      <td>8685500145</td>\n",
       "      <td>20141230T000000</td>\n",
       "      <td>350000</td>\n",
       "      <td>3.0</td>\n",
       "      <td>NaN</td>\n",
       "      <td>1920</td>\n",
       "      <td>6710</td>\n",
       "      <td>1.0</td>\n",
       "      <td>0</td>\n",
       "      <td>Seldom</td>\n",
       "      <td>...</td>\n",
       "      <td>1320</td>\n",
       "      <td>600</td>\n",
       "      <td>1959</td>\n",
       "      <td>No</td>\n",
       "      <td>98118</td>\n",
       "      <td>47.5346</td>\n",
       "      <td>-122.286</td>\n",
       "      <td>1810</td>\n",
       "      <td>5600</td>\n",
       "      <td>55</td>\n",
       "    </tr>\n",
       "    <tr>\n",
       "      <th>14598</th>\n",
       "      <td>3321069006</td>\n",
       "      <td>20141231T000000</td>\n",
       "      <td>905000</td>\n",
       "      <td>3.0</td>\n",
       "      <td>NaN</td>\n",
       "      <td>3520</td>\n",
       "      <td>237402</td>\n",
       "      <td>2.5</td>\n",
       "      <td>0</td>\n",
       "      <td>Seldom</td>\n",
       "      <td>...</td>\n",
       "      <td>3520</td>\n",
       "      <td>0</td>\n",
       "      <td>2004</td>\n",
       "      <td>No</td>\n",
       "      <td>98092</td>\n",
       "      <td>47.2687</td>\n",
       "      <td>-122.056</td>\n",
       "      <td>2310</td>\n",
       "      <td>165963</td>\n",
       "      <td>10</td>\n",
       "    </tr>\n",
       "    <tr>\n",
       "      <th>14604</th>\n",
       "      <td>8093600065</td>\n",
       "      <td>20141231T000000</td>\n",
       "      <td>205000</td>\n",
       "      <td>4.0</td>\n",
       "      <td>NaN</td>\n",
       "      <td>1030</td>\n",
       "      <td>6621</td>\n",
       "      <td>1.0</td>\n",
       "      <td>0</td>\n",
       "      <td>Seldom</td>\n",
       "      <td>...</td>\n",
       "      <td>1030</td>\n",
       "      <td>0</td>\n",
       "      <td>1955</td>\n",
       "      <td>No</td>\n",
       "      <td>98055</td>\n",
       "      <td>47.4857</td>\n",
       "      <td>-122.221</td>\n",
       "      <td>1420</td>\n",
       "      <td>6631</td>\n",
       "      <td>59</td>\n",
       "    </tr>\n",
       "    <tr>\n",
       "      <th>14619</th>\n",
       "      <td>1077100020</td>\n",
       "      <td>20141231T000000</td>\n",
       "      <td>365000</td>\n",
       "      <td>3.0</td>\n",
       "      <td>NaN</td>\n",
       "      <td>1520</td>\n",
       "      <td>8519</td>\n",
       "      <td>1.0</td>\n",
       "      <td>0</td>\n",
       "      <td>Seldom</td>\n",
       "      <td>...</td>\n",
       "      <td>1520</td>\n",
       "      <td>0</td>\n",
       "      <td>1954</td>\n",
       "      <td>No</td>\n",
       "      <td>98133</td>\n",
       "      <td>47.7712</td>\n",
       "      <td>-122.339</td>\n",
       "      <td>1570</td>\n",
       "      <td>9000</td>\n",
       "      <td>60</td>\n",
       "    </tr>\n",
       "  </tbody>\n",
       "</table>\n",
       "<p>862 rows × 22 columns</p>\n",
       "</div>"
      ],
      "text/plain": [
       "               id             date    price  bedrooms  bathrooms  sqft_living  \\\n",
       "5      5100401414  20140502T000000   490000       2.0        NaN          880   \n",
       "11     4217401055  20140502T000000  1400000       4.0        NaN         2920   \n",
       "25     5101405331  20140502T000000   495000       4.0        NaN         1600   \n",
       "29     1024069009  20140502T000000   675000       5.0        NaN         2820   \n",
       "37      587550340  20140502T000000   604000       3.0        NaN         3240   \n",
       "...           ...              ...      ...       ...        ...          ...   \n",
       "14569  2422049104  20141230T000000   235000       2.0        NaN          830   \n",
       "14584  8685500145  20141230T000000   350000       3.0        NaN         1920   \n",
       "14598  3321069006  20141231T000000   905000       3.0        NaN         3520   \n",
       "14604  8093600065  20141231T000000   205000       4.0        NaN         1030   \n",
       "14619  1077100020  20141231T000000   365000       3.0        NaN         1520   \n",
       "\n",
       "       sqft_lot  floors  waterfront    view  ...  sqft_above  sqft_basement  \\\n",
       "5          6380     1.0           0  Seldom  ...         880              0   \n",
       "11         4000     1.5           0  Seldom  ...        1910           1010   \n",
       "25         6380     1.0           0  Seldom  ...        1130            470   \n",
       "29        67518     2.0           0  Seldom  ...        2820              0   \n",
       "37        33151     2.0           0  Normal  ...        3240              0   \n",
       "...         ...     ...         ...     ...  ...         ...            ...   \n",
       "14569      9000     1.0           0  Seldom  ...         830              0   \n",
       "14584      6710     1.0           0  Seldom  ...        1320            600   \n",
       "14598    237402     2.5           0  Seldom  ...        3520              0   \n",
       "14604      6621     1.0           0  Seldom  ...        1030              0   \n",
       "14619      8519     1.0           0  Seldom  ...        1520              0   \n",
       "\n",
       "       yr_built  yr_renovated  zipcode      lat     long  sqft_living15  \\\n",
       "5          1938          1994    98115  47.6924 -122.322           1340   \n",
       "11         1909            No    98105  47.6578 -122.280           2470   \n",
       "25         1959            No    98125  47.7010 -122.306           1090   \n",
       "29         1979            No    98029  47.5794 -122.025           2820   \n",
       "37         1995            No    98023  47.3256 -122.378           4050   \n",
       "...         ...           ...      ...      ...      ...            ...   \n",
       "14569      1939            No    98032  47.3813 -122.243           1160   \n",
       "14584      1959            No    98118  47.5346 -122.286           1810   \n",
       "14598      2004            No    98092  47.2687 -122.056           2310   \n",
       "14604      1955            No    98055  47.4857 -122.221           1420   \n",
       "14619      1954            No    98133  47.7712 -122.339           1570   \n",
       "\n",
       "       sqft_lot15  age  \n",
       "5            6380   76  \n",
       "11           4000  105  \n",
       "25           6380   55  \n",
       "29          48351   35  \n",
       "37          24967   19  \n",
       "...           ...  ...  \n",
       "14569        7680   75  \n",
       "14584        5600   55  \n",
       "14598      165963   10  \n",
       "14604        6631   59  \n",
       "14619        9000   60  \n",
       "\n",
       "[862 rows x 22 columns]"
      ]
     },
     "execution_count": 8,
     "metadata": {},
     "output_type": "execute_result"
    }
   ],
   "source": [
    "house[house.isnull().any(axis = 1)]"
   ]
  },
  {
   "cell_type": "markdown",
   "metadata": {},
   "source": [
    "### 1.2 Replace NaN Value with Mean Value"
   ]
  },
  {
   "cell_type": "code",
   "execution_count": 9,
   "metadata": {},
   "outputs": [],
   "source": [
    "house['bedrooms'].fillna((house['bedrooms'].mean()), inplace=True)\n",
    "house['bathrooms'].fillna((house['bathrooms'].mean()), inplace=True)"
   ]
  },
  {
   "cell_type": "code",
   "execution_count": 10,
   "metadata": {},
   "outputs": [
    {
     "data": {
      "text/html": [
       "<div>\n",
       "<style scoped>\n",
       "    .dataframe tbody tr th:only-of-type {\n",
       "        vertical-align: middle;\n",
       "    }\n",
       "\n",
       "    .dataframe tbody tr th {\n",
       "        vertical-align: top;\n",
       "    }\n",
       "\n",
       "    .dataframe thead th {\n",
       "        text-align: right;\n",
       "    }\n",
       "</style>\n",
       "<table border=\"1\" class=\"dataframe\">\n",
       "  <thead>\n",
       "    <tr style=\"text-align: right;\">\n",
       "      <th></th>\n",
       "      <th>id</th>\n",
       "      <th>date</th>\n",
       "      <th>price</th>\n",
       "      <th>bedrooms</th>\n",
       "      <th>bathrooms</th>\n",
       "      <th>sqft_living</th>\n",
       "      <th>sqft_lot</th>\n",
       "      <th>floors</th>\n",
       "      <th>waterfront</th>\n",
       "      <th>view</th>\n",
       "      <th>...</th>\n",
       "      <th>sqft_above</th>\n",
       "      <th>sqft_basement</th>\n",
       "      <th>yr_built</th>\n",
       "      <th>yr_renovated</th>\n",
       "      <th>zipcode</th>\n",
       "      <th>lat</th>\n",
       "      <th>long</th>\n",
       "      <th>sqft_living15</th>\n",
       "      <th>sqft_lot15</th>\n",
       "      <th>age</th>\n",
       "    </tr>\n",
       "  </thead>\n",
       "  <tbody>\n",
       "  </tbody>\n",
       "</table>\n",
       "<p>0 rows × 22 columns</p>\n",
       "</div>"
      ],
      "text/plain": [
       "Empty DataFrame\n",
       "Columns: [id, date, price, bedrooms, bathrooms, sqft_living, sqft_lot, floors, waterfront, view, condition, grade, sqft_above, sqft_basement, yr_built, yr_renovated, zipcode, lat, long, sqft_living15, sqft_lot15, age]\n",
       "Index: []\n",
       "\n",
       "[0 rows x 22 columns]"
      ]
     },
     "execution_count": 10,
     "metadata": {},
     "output_type": "execute_result"
    }
   ],
   "source": [
    "house[house.isnull().any(axis = 1)]"
   ]
  },
  {
   "cell_type": "code",
   "execution_count": 11,
   "metadata": {},
   "outputs": [
    {
     "data": {
      "text/html": [
       "<div>\n",
       "<style scoped>\n",
       "    .dataframe tbody tr th:only-of-type {\n",
       "        vertical-align: middle;\n",
       "    }\n",
       "\n",
       "    .dataframe tbody tr th {\n",
       "        vertical-align: top;\n",
       "    }\n",
       "\n",
       "    .dataframe thead th {\n",
       "        text-align: right;\n",
       "    }\n",
       "</style>\n",
       "<table border=\"1\" class=\"dataframe\">\n",
       "  <thead>\n",
       "    <tr style=\"text-align: right;\">\n",
       "      <th></th>\n",
       "      <th>id</th>\n",
       "      <th>date</th>\n",
       "      <th>price</th>\n",
       "      <th>bedrooms</th>\n",
       "      <th>bathrooms</th>\n",
       "      <th>sqft_living</th>\n",
       "      <th>sqft_lot</th>\n",
       "      <th>floors</th>\n",
       "      <th>waterfront</th>\n",
       "      <th>view</th>\n",
       "      <th>...</th>\n",
       "      <th>sqft_basement</th>\n",
       "      <th>yr_built</th>\n",
       "      <th>yr_renovated</th>\n",
       "      <th>zipcode</th>\n",
       "      <th>lat</th>\n",
       "      <th>long</th>\n",
       "      <th>sqft_living15</th>\n",
       "      <th>sqft_lot15</th>\n",
       "      <th>age</th>\n",
       "      <th>last_renovated</th>\n",
       "    </tr>\n",
       "  </thead>\n",
       "  <tbody>\n",
       "    <tr>\n",
       "      <th>0</th>\n",
       "      <td>1999700045</td>\n",
       "      <td>20140502T000000</td>\n",
       "      <td>313000</td>\n",
       "      <td>3.0</td>\n",
       "      <td>1.50</td>\n",
       "      <td>1340</td>\n",
       "      <td>7912</td>\n",
       "      <td>1.5</td>\n",
       "      <td>0</td>\n",
       "      <td>Seldom</td>\n",
       "      <td>...</td>\n",
       "      <td>0</td>\n",
       "      <td>1955</td>\n",
       "      <td>No</td>\n",
       "      <td>98133</td>\n",
       "      <td>47.7658</td>\n",
       "      <td>-122.339</td>\n",
       "      <td>1480</td>\n",
       "      <td>7940</td>\n",
       "      <td>59</td>\n",
       "      <td>59</td>\n",
       "    </tr>\n",
       "    <tr>\n",
       "      <th>1</th>\n",
       "      <td>1860600135</td>\n",
       "      <td>20140502T000000</td>\n",
       "      <td>2380000</td>\n",
       "      <td>5.0</td>\n",
       "      <td>2.50</td>\n",
       "      <td>3650</td>\n",
       "      <td>9050</td>\n",
       "      <td>2.0</td>\n",
       "      <td>0</td>\n",
       "      <td>Popular</td>\n",
       "      <td>...</td>\n",
       "      <td>280</td>\n",
       "      <td>1921</td>\n",
       "      <td>No</td>\n",
       "      <td>98119</td>\n",
       "      <td>47.6345</td>\n",
       "      <td>-122.367</td>\n",
       "      <td>2880</td>\n",
       "      <td>5400</td>\n",
       "      <td>93</td>\n",
       "      <td>93</td>\n",
       "    </tr>\n",
       "    <tr>\n",
       "      <th>2</th>\n",
       "      <td>5467900070</td>\n",
       "      <td>20140502T000000</td>\n",
       "      <td>342000</td>\n",
       "      <td>3.0</td>\n",
       "      <td>2.00</td>\n",
       "      <td>1930</td>\n",
       "      <td>11947</td>\n",
       "      <td>1.0</td>\n",
       "      <td>0</td>\n",
       "      <td>Seldom</td>\n",
       "      <td>...</td>\n",
       "      <td>0</td>\n",
       "      <td>1966</td>\n",
       "      <td>No</td>\n",
       "      <td>98042</td>\n",
       "      <td>47.3672</td>\n",
       "      <td>-122.151</td>\n",
       "      <td>2200</td>\n",
       "      <td>12825</td>\n",
       "      <td>48</td>\n",
       "      <td>48</td>\n",
       "    </tr>\n",
       "    <tr>\n",
       "      <th>3</th>\n",
       "      <td>4040800810</td>\n",
       "      <td>20140502T000000</td>\n",
       "      <td>420000</td>\n",
       "      <td>3.0</td>\n",
       "      <td>2.25</td>\n",
       "      <td>2000</td>\n",
       "      <td>8030</td>\n",
       "      <td>1.0</td>\n",
       "      <td>0</td>\n",
       "      <td>Seldom</td>\n",
       "      <td>...</td>\n",
       "      <td>1000</td>\n",
       "      <td>1963</td>\n",
       "      <td>No</td>\n",
       "      <td>98008</td>\n",
       "      <td>47.6188</td>\n",
       "      <td>-122.114</td>\n",
       "      <td>2070</td>\n",
       "      <td>8250</td>\n",
       "      <td>51</td>\n",
       "      <td>51</td>\n",
       "    </tr>\n",
       "    <tr>\n",
       "      <th>4</th>\n",
       "      <td>7197300105</td>\n",
       "      <td>20140502T000000</td>\n",
       "      <td>550000</td>\n",
       "      <td>4.0</td>\n",
       "      <td>2.50</td>\n",
       "      <td>1940</td>\n",
       "      <td>10500</td>\n",
       "      <td>1.0</td>\n",
       "      <td>0</td>\n",
       "      <td>Seldom</td>\n",
       "      <td>...</td>\n",
       "      <td>800</td>\n",
       "      <td>1976</td>\n",
       "      <td>No</td>\n",
       "      <td>98052</td>\n",
       "      <td>47.6830</td>\n",
       "      <td>-122.114</td>\n",
       "      <td>2200</td>\n",
       "      <td>10500</td>\n",
       "      <td>38</td>\n",
       "      <td>38</td>\n",
       "    </tr>\n",
       "  </tbody>\n",
       "</table>\n",
       "<p>5 rows × 23 columns</p>\n",
       "</div>"
      ],
      "text/plain": [
       "           id             date    price  bedrooms  bathrooms  sqft_living  \\\n",
       "0  1999700045  20140502T000000   313000       3.0       1.50         1340   \n",
       "1  1860600135  20140502T000000  2380000       5.0       2.50         3650   \n",
       "2  5467900070  20140502T000000   342000       3.0       2.00         1930   \n",
       "3  4040800810  20140502T000000   420000       3.0       2.25         2000   \n",
       "4  7197300105  20140502T000000   550000       4.0       2.50         1940   \n",
       "\n",
       "   sqft_lot  floors  waterfront     view  ...  sqft_basement  yr_built  \\\n",
       "0      7912     1.5           0   Seldom  ...              0      1955   \n",
       "1      9050     2.0           0  Popular  ...            280      1921   \n",
       "2     11947     1.0           0   Seldom  ...              0      1966   \n",
       "3      8030     1.0           0   Seldom  ...           1000      1963   \n",
       "4     10500     1.0           0   Seldom  ...            800      1976   \n",
       "\n",
       "   yr_renovated  zipcode      lat     long  sqft_living15  sqft_lot15  age  \\\n",
       "0            No    98133  47.7658 -122.339           1480        7940   59   \n",
       "1            No    98119  47.6345 -122.367           2880        5400   93   \n",
       "2            No    98042  47.3672 -122.151           2200       12825   48   \n",
       "3            No    98008  47.6188 -122.114           2070        8250   51   \n",
       "4            No    98052  47.6830 -122.114           2200       10500   38   \n",
       "\n",
       "   last_renovated  \n",
       "0              59  \n",
       "1              93  \n",
       "2              48  \n",
       "3              51  \n",
       "4              38  \n",
       "\n",
       "[5 rows x 23 columns]"
      ]
     },
     "execution_count": 11,
     "metadata": {},
     "output_type": "execute_result"
    }
   ],
   "source": [
    "house['last_renovated'] = pd.DataFrame({'last_renovated': list(map(lambda a, b, r: a if r=='No' else a-int(r)+b, house['age'], house['yr_built'], house['yr_renovated']))})\n",
    "house.head()"
   ]
  },
  {
   "cell_type": "markdown",
   "metadata": {},
   "source": [
    "### 1.3 Drop Irrelavent Columns"
   ]
  },
  {
   "cell_type": "markdown",
   "metadata": {},
   "source": [
    "Since this dataset is only the house trading record in 2014, the `date` column is irrelevant. <br>\n",
    "Also, newly created column `last_renovated` has information of `yr_renovated`, so we decide to drop `yr_renovated`.\n",
    "- The following columns are dropped since irrelevant:\n",
    "    - `id`, `date`, `yr_renovated`."
   ]
  },
  {
   "cell_type": "code",
   "execution_count": 12,
   "metadata": {
    "scrolled": true
   },
   "outputs": [
    {
     "name": "stdout",
     "output_type": "stream",
     "text": [
      "<class 'pandas.core.frame.DataFrame'>\n",
      "RangeIndex: 14633 entries, 0 to 14632\n",
      "Data columns (total 20 columns):\n",
      " #   Column          Non-Null Count  Dtype  \n",
      "---  ------          --------------  -----  \n",
      " 0   price           14633 non-null  int64  \n",
      " 1   bedrooms        14633 non-null  float64\n",
      " 2   bathrooms       14633 non-null  float64\n",
      " 3   sqft_living     14633 non-null  int64  \n",
      " 4   sqft_lot        14633 non-null  int64  \n",
      " 5   floors          14633 non-null  float64\n",
      " 6   waterfront      14633 non-null  int64  \n",
      " 7   view            14633 non-null  object \n",
      " 8   condition       14633 non-null  int64  \n",
      " 9   grade           14633 non-null  int64  \n",
      " 10  sqft_above      14633 non-null  int64  \n",
      " 11  sqft_basement   14633 non-null  int64  \n",
      " 12  yr_built        14633 non-null  int64  \n",
      " 13  zipcode         14633 non-null  int64  \n",
      " 14  lat             14633 non-null  float64\n",
      " 15  long            14633 non-null  float64\n",
      " 16  sqft_living15   14633 non-null  int64  \n",
      " 17  sqft_lot15      14633 non-null  int64  \n",
      " 18  age             14633 non-null  int64  \n",
      " 19  last_renovated  14633 non-null  int64  \n",
      "dtypes: float64(5), int64(14), object(1)\n",
      "memory usage: 2.2+ MB\n"
     ]
    }
   ],
   "source": [
    "house.drop(['id','date','yr_renovated'], axis=1, inplace=True)\n",
    "house.info()"
   ]
  },
  {
   "cell_type": "markdown",
   "metadata": {},
   "source": [
    "### 1.4 Convert Categorical Columns to Numeric"
   ]
  },
  {
   "cell_type": "code",
   "execution_count": 13,
   "metadata": {},
   "outputs": [],
   "source": [
    "house['view'] = house['view'].map({'Seldom':0, 'Normal':1, 'Popular':2}).astype(int)"
   ]
  },
  {
   "cell_type": "code",
   "execution_count": 14,
   "metadata": {
    "scrolled": true
   },
   "outputs": [
    {
     "name": "stdout",
     "output_type": "stream",
     "text": [
      "<class 'pandas.core.frame.DataFrame'>\n",
      "RangeIndex: 14633 entries, 0 to 14632\n",
      "Data columns (total 20 columns):\n",
      " #   Column          Non-Null Count  Dtype  \n",
      "---  ------          --------------  -----  \n",
      " 0   price           14633 non-null  int64  \n",
      " 1   bedrooms        14633 non-null  float64\n",
      " 2   bathrooms       14633 non-null  float64\n",
      " 3   sqft_living     14633 non-null  int64  \n",
      " 4   sqft_lot        14633 non-null  int64  \n",
      " 5   floors          14633 non-null  float64\n",
      " 6   waterfront      14633 non-null  int64  \n",
      " 7   view            14633 non-null  int32  \n",
      " 8   condition       14633 non-null  int64  \n",
      " 9   grade           14633 non-null  int64  \n",
      " 10  sqft_above      14633 non-null  int64  \n",
      " 11  sqft_basement   14633 non-null  int64  \n",
      " 12  yr_built        14633 non-null  int64  \n",
      " 13  zipcode         14633 non-null  int64  \n",
      " 14  lat             14633 non-null  float64\n",
      " 15  long            14633 non-null  float64\n",
      " 16  sqft_living15   14633 non-null  int64  \n",
      " 17  sqft_lot15      14633 non-null  int64  \n",
      " 18  age             14633 non-null  int64  \n",
      " 19  last_renovated  14633 non-null  int64  \n",
      "dtypes: float64(5), int32(1), int64(14)\n",
      "memory usage: 2.2 MB\n"
     ]
    }
   ],
   "source": [
    "house.info()"
   ]
  },
  {
   "cell_type": "markdown",
   "metadata": {},
   "source": [
    "### 1.5 Split Dataset into Train and Test Datasets"
   ]
  },
  {
   "cell_type": "code",
   "execution_count": 15,
   "metadata": {},
   "outputs": [
    {
     "name": "stdout",
     "output_type": "stream",
     "text": [
      "(11706, 20)\n",
      "(2927, 20)\n"
     ]
    }
   ],
   "source": [
    "from sklearn.model_selection import train_test_split\n",
    "\n",
    "train, test = train_test_split(house, test_size=0.2, random_state=0)\n",
    "print(train.shape)\n",
    "print(test.shape)"
   ]
  },
  {
   "cell_type": "code",
   "execution_count": 16,
   "metadata": {},
   "outputs": [
    {
     "name": "stdout",
     "output_type": "stream",
     "text": [
      "x test dataset shape: (2927, 19)\n"
     ]
    }
   ],
   "source": [
    "train_x = train.iloc[:,1:]\n",
    "train_y = train[['price']]\n",
    "\n",
    "test_x = test.iloc[:,1:]\n",
    "print('x test dataset shape:',test_x.shape)\n",
    "test_y = test[['price']]"
   ]
  },
  {
   "cell_type": "markdown",
   "metadata": {},
   "source": [
    "### 1.6 Apply Feature Scaler"
   ]
  },
  {
   "cell_type": "code",
   "execution_count": 17,
   "metadata": {},
   "outputs": [],
   "source": [
    "from sklearn.preprocessing import StandardScaler\n",
    "\n",
    "sc = StandardScaler()\n",
    "train_x_scaled = sc.fit_transform(train_x)\n",
    "test_x_scaled = sc.transform(test_x)"
   ]
  },
  {
   "cell_type": "markdown",
   "metadata": {},
   "source": [
    "### Basic Predictive Models"
   ]
  },
  {
   "cell_type": "code",
   "execution_count": 18,
   "metadata": {},
   "outputs": [],
   "source": [
    "from sklearn.model_selection import GridSearchCV\n",
    "from sklearn.linear_model import LinearRegression\n",
    "from sklearn.svm import LinearSVR\n",
    "from sklearn.neighbors import KNeighborsRegressor\n",
    "from sklearn.tree import DecisionTreeRegressor"
   ]
  },
  {
   "cell_type": "markdown",
   "metadata": {},
   "source": [
    "#### Decision Tree Model"
   ]
  },
  {
   "cell_type": "code",
   "execution_count": 19,
   "metadata": {},
   "outputs": [
    {
     "data": {
      "text/plain": [
       "GridSearchCV(estimator=DecisionTreeRegressor(random_state=0), n_jobs=-1,\n",
       "             param_grid={'max_depth': [1, 3, 5, 7, 9, 11]}, scoring='r2')"
      ]
     },
     "execution_count": 19,
     "metadata": {},
     "output_type": "execute_result"
    }
   ],
   "source": [
    "tree = DecisionTreeRegressor(random_state=0)\n",
    "depths = [1, 3, 5, 7, 9, 11]\n",
    "\n",
    "grid_tree = GridSearchCV(tree, param_grid={'max_depth': depths}, scoring='r2', n_jobs=-1)\n",
    "grid_tree.fit(train_x_scaled, train_y.values.ravel())"
   ]
  },
  {
   "cell_type": "code",
   "execution_count": 20,
   "metadata": {
    "scrolled": true
   },
   "outputs": [
    {
     "name": "stdout",
     "output_type": "stream",
     "text": [
      "Best paramters: {'max_depth': 11}\n",
      "Best train score: 0.76\n",
      "Test score: 0.81\n"
     ]
    }
   ],
   "source": [
    "print(\"Best paramters: {}\".format(grid_tree.best_params_))\n",
    "print(\"Best train score: {:.2f}\".format(grid_tree.best_score_))\n",
    "print(\"Test score: {:.2f}\".format(grid_tree.best_estimator_.score(test_x_scaled, test_y.values.ravel())))"
   ]
  },
  {
   "cell_type": "markdown",
   "metadata": {},
   "source": [
    "#### DTree Feature Importance"
   ]
  },
  {
   "cell_type": "code",
   "execution_count": 21,
   "metadata": {},
   "outputs": [
    {
     "data": {
      "text/plain": [
       "grade             0.364464\n",
       "sqft_living       0.230505\n",
       "lat               0.170463\n",
       "long              0.078444\n",
       "sqft_above        0.036574\n",
       "waterfront        0.033903\n",
       "sqft_living15     0.025192\n",
       "zipcode           0.014850\n",
       "view              0.011288\n",
       "sqft_lot          0.007739\n",
       "sqft_lot15        0.007398\n",
       "age               0.004842\n",
       "last_renovated    0.003744\n",
       "yr_built          0.002917\n",
       "sqft_basement     0.002431\n",
       "condition         0.002224\n",
       "bathrooms         0.001502\n",
       "floors            0.001248\n",
       "bedrooms          0.000271\n",
       "dtype: float64"
      ]
     },
     "execution_count": 21,
     "metadata": {},
     "output_type": "execute_result"
    },
    {
     "data": {
      "image/png": "[encoded data removed]",
      "text/plain": [
       "<Figure size 432x288 with 1 Axes>"
      ]
     },
     "metadata": {
      "needs_background": "light"
     },
     "output_type": "display_data"
    }
   ],
   "source": [
    "fImp = pd.Series(grid_tree.best_estimator_.feature_importances_, index=train_x.columns).sort_values(ascending=False)\n",
    "plt.plot(fImp, 'o')\n",
    "plt.xticks(rotation=90)\n",
    "fImp"
   ]
  },
  {
   "cell_type": "markdown",
   "metadata": {},
   "source": [
    "#### Linear Regression"
   ]
  },
  {
   "cell_type": "code",
   "execution_count": 22,
   "metadata": {},
   "outputs": [
    {
     "name": "stdout",
     "output_type": "stream",
     "text": [
      "Train score: 0.70\n",
      "Test score: 0.70\n"
     ]
    }
   ],
   "source": [
    "lr = LinearRegression(normalize=True)\n",
    "lr.fit(train_x_scaled, train_y.values.ravel())\n",
    "print('Train score: {:.2f}'.format(lr.score(train_x_scaled, train_y.values.ravel())))\n",
    "print('Test score: {:.2f}'.format(lr.score(test_x_scaled, test_y.values.ravel())))"
   ]
  },
  {
   "cell_type": "markdown",
   "metadata": {},
   "source": [
    "#### Linear SVR"
   ]
  },
  {
   "cell_type": "code",
   "execution_count": 23,
   "metadata": {},
   "outputs": [
    {
     "data": {
      "text/plain": [
       "GridSearchCV(estimator=LinearSVR(random_state=0), n_jobs=-1,\n",
       "             param_grid={'C': [100, 500, 1000, 5000]})"
      ]
     },
     "execution_count": 23,
     "metadata": {},
     "output_type": "execute_result"
    }
   ],
   "source": [
    "lsvr = LinearSVR(random_state=0)\n",
    "c = [100, 500, 1000, 5000]\n",
    "\n",
    "grid_lsvr = GridSearchCV(lsvr, param_grid={'C': c}, n_jobs=-1)\n",
    "grid_lsvr.fit(train_x_scaled, train_y.values.ravel())"
   ]
  },
  {
   "cell_type": "code",
   "execution_count": 24,
   "metadata": {},
   "outputs": [
    {
     "name": "stdout",
     "output_type": "stream",
     "text": [
      "Best paramter: {'C': 5000}\n",
      "Train score: 0.66\n",
      "Test score: 0.64\n"
     ]
    }
   ],
   "source": [
    "print('Best paramter: {}'.format(grid_lsvr.best_params_))\n",
    "print('Train score: {:.2f}'.format(grid_lsvr.best_score_))\n",
    "print('Test score: {:.2f}'.format(grid_lsvr.best_estimator_.score(test_x_scaled, test_y.values.ravel())))"
   ]
  },
  {
   "cell_type": "markdown",
   "metadata": {},
   "source": [
    "#### SVR with polynomial kernel"
   ]
  },
  {
   "cell_type": "code",
   "execution_count": 25,
   "metadata": {},
   "outputs": [
    {
     "data": {
      "text/plain": [
       "GridSearchCV(estimator=SVR(gamma='auto', kernel='poly'), n_jobs=-1,\n",
       "             param_grid={'C': [100, 100, 1000, 5000], 'degree': [1, 2, 3]})"
      ]
     },
     "execution_count": 25,
     "metadata": {},
     "output_type": "execute_result"
    }
   ],
   "source": [
    "from sklearn.svm import SVR\n",
    "\n",
    "svr_poly = SVR(kernel='poly', gamma='auto')\n",
    "c = [100, 100, 1000, 5000]\n",
    "degrees = [1, 2, 3]\n",
    "\n",
    "grid_svrPoly = GridSearchCV(svr_poly, param_grid={'C': c, 'degree':degrees}, n_jobs=-1)\n",
    "grid_svrPoly.fit(train_x_scaled, train_y.values.ravel())"
   ]
  },
  {
   "cell_type": "code",
   "execution_count": 26,
   "metadata": {},
   "outputs": [
    {
     "name": "stdout",
     "output_type": "stream",
     "text": [
      "Best model paramters: {'C': 5000, 'degree': 1}\n",
      "Best train score: 0.65\n",
      "Test score: 0.63\n"
     ]
    }
   ],
   "source": [
    "print('Best model paramters: {}'.format(grid_svrPoly.best_params_))\n",
    "print('Best train score: {:.2f}'.format(grid_svrPoly.best_score_))\n",
    "print('Test score: {:.2f}'.format(grid_svrPoly.best_estimator_.score(test_x_scaled, test_y.values.ravel())))"
   ]
  },
  {
   "cell_type": "markdown",
   "metadata": {},
   "source": [
    "#### SVM with kernal 'RBF'"
   ]
  },
  {
   "cell_type": "code",
   "execution_count": 27,
   "metadata": {},
   "outputs": [
    {
     "data": {
      "text/plain": [
       "GridSearchCV(estimator=SVR(), n_jobs=-1,\n",
       "             param_grid={'C': [100, 1000, 5000], 'epsilon': [0.1, 0.3],\n",
       "                         'gamma': [0.1, 0.3, 0.6]})"
      ]
     },
     "execution_count": 27,
     "metadata": {},
     "output_type": "execute_result"
    }
   ],
   "source": [
    "from sklearn.svm import SVR\n",
    "\n",
    "svr_poly = SVR(kernel='rbf')\n",
    "c = [100, 1000, 5000]\n",
    "gammas = [0.1, 0.3, 0.6]\n",
    "epsilon = [0.1, 0.3]\n",
    "\n",
    "grid_svrRBF = GridSearchCV(svr_poly, param_grid={'C': c, 'epsilon': epsilon, 'gamma':gammas}, n_jobs=-1)\n",
    "grid_svrRBF.fit(train_x_scaled, train_y.values.ravel())"
   ]
  },
  {
   "cell_type": "code",
   "execution_count": 28,
   "metadata": {},
   "outputs": [
    {
     "name": "stdout",
     "output_type": "stream",
     "text": [
      "Best model paramters: {'C': 5000, 'epsilon': 0.3, 'gamma': 0.1}\n",
      "Best train score: 0.41\n",
      "Test score: 0.31\n"
     ]
    }
   ],
   "source": [
    "print('Best model paramters: {}'.format(grid_svrRBF.best_params_))\n",
    "print('Best train score: {:.2f}'.format(grid_svrRBF.best_score_))\n",
    "print('Test score: {:.2f}'.format(grid_svrRBF.best_estimator_.score(test_x_scaled, test_y.values.ravel())))"
   ]
  },
  {
   "cell_type": "markdown",
   "metadata": {},
   "source": [
    "#### KNN"
   ]
  },
  {
   "cell_type": "code",
   "execution_count": 29,
   "metadata": {},
   "outputs": [
    {
     "data": {
      "text/plain": [
       "GridSearchCV(estimator=KNeighborsRegressor(), n_jobs=-1,\n",
       "             param_grid={'n_neighbors': [3, 5, 7, 9],\n",
       "                         'weights': ['distance', 'uniform']})"
      ]
     },
     "execution_count": 29,
     "metadata": {},
     "output_type": "execute_result"
    }
   ],
   "source": [
    "knn = KNeighborsRegressor()\n",
    "ks = [3, 5, 7, 9]\n",
    "weights = ['distance', 'uniform']\n",
    "grid_knn = GridSearchCV(knn, param_grid={'n_neighbors': ks, 'weights':weights}, n_jobs=-1)\n",
    "grid_knn.fit(train_x_scaled, train_y.values.ravel())"
   ]
  },
  {
   "cell_type": "code",
   "execution_count": 30,
   "metadata": {},
   "outputs": [
    {
     "name": "stdout",
     "output_type": "stream",
     "text": [
      "Best paramter: {'n_neighbors': 9, 'weights': 'distance'}\n",
      "Best train score: 0.79\n",
      "Test score: 0.76\n"
     ]
    }
   ],
   "source": [
    "print('Best paramter: {}'.format(grid_knn.best_params_))\n",
    "print('Best train score: {:.2f}'.format(grid_knn.best_score_))\n",
    "print('Test score: {:.2f}'.format(grid_knn.best_estimator_.score(test_x_scaled, test_y.values.ravel())))"
   ]
  },
  {
   "cell_type": "markdown",
   "metadata": {},
   "source": [
    "#### Summary of Basic Model Results"
   ]
  },
  {
   "cell_type": "code",
   "execution_count": 31,
   "metadata": {
    "scrolled": true
   },
   "outputs": [],
   "source": [
    "model_scores = pd.DataFrame({'Train_scores' : lr.score(train_x_scaled, train_y.values.ravel()), \n",
    "                            'Test_score': lr.score(test_x_scaled, test_y.values.ravel())}\n",
    "                                                                 , index=['LR'])\n",
    "for label, model in zip(['DT', 'knn', 'LSVM', 'SVM_RBF', 'SVM_POLY'],\n",
    "                       [grid_tree, grid_knn, grid_lsvr, grid_svrRBF, grid_svrPoly]):\n",
    "    df = pd.DataFrame({'Train_scores': model.best_score_,\n",
    "                                      'Test_score': model.best_estimator_.score(test_x_scaled, test_y.values.ravel())}, \n",
    "                                     index=[label])\n",
    "    model_scores = model_scores.append(df)\n"
   ]
  },
  {
   "cell_type": "markdown",
   "metadata": {},
   "source": [
    "#### Basic Models Performances"
   ]
  },
  {
   "cell_type": "code",
   "execution_count": 32,
   "metadata": {},
   "outputs": [
    {
     "data": {
      "text/html": [
       "<div>\n",
       "<style scoped>\n",
       "    .dataframe tbody tr th:only-of-type {\n",
       "        vertical-align: middle;\n",
       "    }\n",
       "\n",
       "    .dataframe tbody tr th {\n",
       "        vertical-align: top;\n",
       "    }\n",
       "\n",
       "    .dataframe thead th {\n",
       "        text-align: right;\n",
       "    }\n",
       "</style>\n",
       "<table border=\"1\" class=\"dataframe\">\n",
       "  <thead>\n",
       "    <tr style=\"text-align: right;\">\n",
       "      <th></th>\n",
       "      <th>Train_scores</th>\n",
       "      <th>Test_score</th>\n",
       "    </tr>\n",
       "  </thead>\n",
       "  <tbody>\n",
       "    <tr>\n",
       "      <th>LR</th>\n",
       "      <td>0.703995</td>\n",
       "      <td>0.704498</td>\n",
       "    </tr>\n",
       "    <tr>\n",
       "      <th>DT</th>\n",
       "      <td>0.757478</td>\n",
       "      <td>0.813294</td>\n",
       "    </tr>\n",
       "    <tr>\n",
       "      <th>knn</th>\n",
       "      <td>0.785806</td>\n",
       "      <td>0.763404</td>\n",
       "    </tr>\n",
       "    <tr>\n",
       "      <th>LSVM</th>\n",
       "      <td>0.662961</td>\n",
       "      <td>0.639218</td>\n",
       "    </tr>\n",
       "    <tr>\n",
       "      <th>SVM_RBF</th>\n",
       "      <td>0.406483</td>\n",
       "      <td>0.311913</td>\n",
       "    </tr>\n",
       "    <tr>\n",
       "      <th>SVM_POLY</th>\n",
       "      <td>0.650033</td>\n",
       "      <td>0.626208</td>\n",
       "    </tr>\n",
       "  </tbody>\n",
       "</table>\n",
       "</div>"
      ],
      "text/plain": [
       "          Train_scores  Test_score\n",
       "LR            0.703995    0.704498\n",
       "DT            0.757478    0.813294\n",
       "knn           0.785806    0.763404\n",
       "LSVM          0.662961    0.639218\n",
       "SVM_RBF       0.406483    0.311913\n",
       "SVM_POLY      0.650033    0.626208"
      ]
     },
     "execution_count": 32,
     "metadata": {},
     "output_type": "execute_result"
    },
    {
     "data": {
      "image/png": "[encoded data removed]",
      "text/plain": [
       "<Figure size 432x288 with 1 Axes>"
      ]
     },
     "metadata": {
      "needs_background": "light"
     },
     "output_type": "display_data"
    }
   ],
   "source": [
    "plt.plot(model_scores)\n",
    "plt.legend(model_scores)\n",
    "plt.grid(axis='y')\n",
    "\n",
    "model_scores"
   ]
  },
  {
   "cell_type": "markdown",
   "metadata": {},
   "source": [
    "### Ensemble Regression Models\n",
    "    "
   ]
  },
  {
   "cell_type": "code",
   "execution_count": 33,
   "metadata": {},
   "outputs": [],
   "source": [
    "from sklearn.linear_model import Ridge\n",
    "from sklearn.ensemble import RandomForestRegressor\n",
    "from sklearn.ensemble import AdaBoostRegressor\n",
    "from sklearn.ensemble import BaggingRegressor\n",
    "from sklearn.tree import DecisionTreeRegressor\n",
    "from sklearn.linear_model import LinearRegression\n",
    "from sklearn.ensemble import GradientBoostingRegressor\n",
    "from sklearn.metrics import r2_score"
   ]
  },
  {
   "cell_type": "markdown",
   "metadata": {},
   "source": [
    "#### Model1 - Bagging with Linear Regression as Base Model"
   ]
  },
  {
   "cell_type": "code",
   "execution_count": 34,
   "metadata": {},
   "outputs": [
    {
     "data": {
      "text/plain": [
       "GridSearchCV(estimator=BaggingRegressor(base_estimator=LinearRegression(),\n",
       "                                        oob_score=True, random_state=0),\n",
       "             n_jobs=-1,\n",
       "             param_grid={'max_samples': [0.5, 0.7, 1.0],\n",
       "                         'n_estimators': [100, 200, 500]})"
      ]
     },
     "execution_count": 34,
     "metadata": {},
     "output_type": "execute_result"
    }
   ],
   "source": [
    "n_estimators = [100, 200, 500]\n",
    "max_samples = [0.5, 0.7, 1.0]\n",
    "lr = LinearRegression()\n",
    "bag_lr = BaggingRegressor(lr, bootstrap=True, oob_score=True, random_state=0)\n",
    "grid_blr = GridSearchCV(bag_lr, param_grid={'n_estimators': n_estimators, 'max_samples': max_samples}, n_jobs=-1)\n",
    "grid_blr.fit(train_x_scaled, train_y.values.ravel())"
   ]
  },
  {
   "cell_type": "code",
   "execution_count": 35,
   "metadata": {},
   "outputs": [
    {
     "name": "stdout",
     "output_type": "stream",
     "text": [
      "Best model parameters : {'max_samples': 0.7, 'n_estimators': 100}\n",
      "Best train score : 0.70\n",
      "oob score of the best bagging model : 0.70\n"
     ]
    }
   ],
   "source": [
    "print('Best model parameters : ' + str(grid_blr.best_params_))\n",
    "print('Best train score : {:.2f}'.format(grid_blr.best_score_))\n",
    "print('oob score of the best bagging model : {:.2f}'.format(grid_blr.best_estimator_.oob_score_))"
   ]
  },
  {
   "cell_type": "code",
   "execution_count": 36,
   "metadata": {},
   "outputs": [
    {
     "name": "stdout",
     "output_type": "stream",
     "text": [
      "Test r2 score : 0.70\n",
      "Test score : 0.70\n",
      "\n",
      "Base Linear regression model train score: 0.70\n",
      "Base model Linear regression test score: 0.70\n"
     ]
    }
   ],
   "source": [
    "pred_baglr = grid_blr.best_estimator_.predict(test_x_scaled)\n",
    "print('Test r2 score : {:.2f}'.format(r2_score(test_y, pred_baglr)))\n",
    "print('Test score : {:.2f}'.format(grid_blr.best_estimator_.score(test_x_scaled, test_y)))\n",
    "\n",
    "lr.fit(train_x_scaled, train_y)\n",
    "print('\\nBase Linear regression model train score: {:.2f}'.format(lr.score(train_x_scaled, train_y)))\n",
    "print('Base model Linear regression test score: {:.2f}'.format(lr.score(test_x_scaled, test_y)))"
   ]
  },
  {
   "cell_type": "markdown",
   "metadata": {},
   "source": [
    "#### Model2 - Pasting with Linear Regression as Base Model"
   ]
  },
  {
   "cell_type": "code",
   "execution_count": 37,
   "metadata": {},
   "outputs": [
    {
     "data": {
      "text/plain": [
       "GridSearchCV(estimator=BaggingRegressor(base_estimator=LinearRegression(),\n",
       "                                        bootstrap=False, random_state=0),\n",
       "             n_jobs=-1,\n",
       "             param_grid={'max_features': [0.5, 0.7, 1.0],\n",
       "                         'max_samples': [0.5, 0.7, 1.0],\n",
       "                         'n_estimators': [100, 200, 500]})"
      ]
     },
     "execution_count": 37,
     "metadata": {},
     "output_type": "execute_result"
    }
   ],
   "source": [
    "lr = LinearRegression()\n",
    "pst_lr = BaggingRegressor(lr, bootstrap=False, random_state=0)\n",
    "\n",
    "estimators = [100, 200, 500]\n",
    "samples = [0.5, 0.7, 1.0]\n",
    "features = [0.5, 0.7, 1.0]\n",
    "grid_pst = GridSearchCV(pst_lr, param_grid={'n_estimators': estimators,\n",
    "                                           'max_samples': samples,\n",
    "                                           'max_features': features}, n_jobs=-1)\n",
    "grid_pst.fit(train_x_scaled, train_y.values.ravel())"
   ]
  },
  {
   "cell_type": "code",
   "execution_count": 38,
   "metadata": {},
   "outputs": [
    {
     "name": "stdout",
     "output_type": "stream",
     "text": [
      "Best paramters: {'max_features': 1.0, 'max_samples': 0.5, 'n_estimators': 500}\n",
      "Best train score: 0.70\n",
      "Test score: 0.70\n"
     ]
    }
   ],
   "source": [
    "print('Best paramters: {}'.format(grid_pst.best_params_))\n",
    "print('Best train score: {:.2f}'.format(grid_pst.best_score_))\n",
    "print('Test score: {:.2f}'.format(grid_pst.best_estimator_.score(test_x_scaled, test_y.values.ravel())))"
   ]
  },
  {
   "cell_type": "markdown",
   "metadata": {},
   "source": [
    "#### Model3 - Pasting with Ridge as Base Model"
   ]
  },
  {
   "cell_type": "code",
   "execution_count": 39,
   "metadata": {},
   "outputs": [
    {
     "data": {
      "text/plain": [
       "GridSearchCV(estimator=BaggingRegressor(base_estimator=Ridge(alpha=1),\n",
       "                                        bootstrap=False, random_state=0),\n",
       "             n_jobs=-1,\n",
       "             param_grid={'max_features': [0.5, 0.8, 1],\n",
       "                         'max_samples': [0.3, 0.5, 0.7],\n",
       "                         'n_estimators': [100, 200]})"
      ]
     },
     "execution_count": 39,
     "metadata": {},
     "output_type": "execute_result"
    }
   ],
   "source": [
    "ridge = Ridge(alpha = 1)\n",
    "estimators = [100, 200]\n",
    "samples = [0.3, 0.5, 0.7]\n",
    "features = [0.5, 0.8, 1]\n",
    "bag = BaggingRegressor(ridge, bootstrap=False, random_state=0)\n",
    "grid_bag = GridSearchCV(bag, param_grid={'n_estimators': estimators, \n",
    "                                         'max_samples': samples,\n",
    "                                        'max_features': features}, n_jobs=-1)\n",
    "grid_bag.fit(train_x_scaled, train_y.values.ravel())\n"
   ]
  },
  {
   "cell_type": "code",
   "execution_count": 40,
   "metadata": {
    "scrolled": false
   },
   "outputs": [
    {
     "name": "stdout",
     "output_type": "stream",
     "text": [
      "Best GridSearch paramters: {'max_features': 0.8, 'max_samples': 0.5, 'n_estimators': 100}\n",
      "Train score of paste_bag is : 0.70\n",
      "Test R2 score of the paste model: 0.70\n",
      "Test score of the paste model: 0.70\n",
      "\n",
      "Train score of base model: 0.70\n",
      "Test score of base model ridge: 0.70\n"
     ]
    }
   ],
   "source": [
    "print('Best GridSearch paramters: {}'.format(grid_bag.best_params_))\n",
    "print('Train score of paste_bag is : {:.2f}'.format(grid_bag.best_score_))\n",
    "pred_paste = grid_bag.predict(test_x_scaled)\n",
    "print('Test R2 score of the paste model: {:.2f}'.format(r2_score(test_y, pred_paste)))\n",
    "print('Test score of the paste model: {:.2f}'.format(grid_bag.score(test_x_scaled, test_y)))\n",
    "\n",
    "ridge.fit(train_x_scaled, train_y)\n",
    "print('\\nTrain score of base model: {:.2f}'.format(ridge.score(train_x_scaled, train_y)))\n",
    "print('Test score of base model ridge: {:.2f}'.format(ridge.score(test_x_scaled, test_y)))"
   ]
  },
  {
   "cell_type": "markdown",
   "metadata": {},
   "source": [
    "#### Model4 - Random Forest"
   ]
  },
  {
   "cell_type": "code",
   "execution_count": 41,
   "metadata": {
    "scrolled": true
   },
   "outputs": [
    {
     "name": "stderr",
     "output_type": "stream",
     "text": [
      "C:\\ProgramData\\Anaconda3\\lib\\site-packages\\sklearn\\model_selection\\_search.py:918: UserWarning: One or more of the test scores are non-finite: [ 6.42678824e-01  6.42764017e-01  6.43586886e-01  6.38725632e-01\n",
      "  6.41549946e-01  6.42144926e-01  6.38949424e-01  6.41210870e-01\n",
      "  6.41788350e-01 -6.97683083e-04 -1.78189833e-03 -1.85000262e-03\n",
      "  6.61485331e-01  6.66928064e-01  6.68930274e-01  6.63169887e-01\n",
      "  6.67160027e-01  6.67644735e-01  6.64348874e-01  6.66164960e-01\n",
      "  6.67331874e-01 -6.97683083e-04 -1.78189833e-03 -1.85000262e-03\n",
      "  6.77992265e-01  6.76455832e-01  6.76871431e-01  6.71687380e-01\n",
      "  6.72048793e-01  6.72348899e-01  6.69588675e-01  6.69661493e-01\n",
      "  6.70438955e-01 -6.97683083e-04 -1.78189833e-03 -1.85000262e-03\n",
      "  4.44442277e-01  4.50842215e-01  4.50995641e-01  4.40318990e-01\n",
      "  4.50992222e-01  4.50928467e-01  4.41678074e-01  4.50411797e-01\n",
      "  4.51029497e-01 -6.97683083e-04 -1.78189833e-03 -1.85000262e-03\n",
      "  7.49928720e-01  7.51353436e-01  7.53666551e-01  7.53156060e-01\n",
      "  7.56167373e-01  7.57100106e-01  7.55065097e-01  7.55491507e-01\n",
      "  7.56516924e-01 -6.97683083e-04 -1.78189833e-03 -1.85000262e-03\n",
      "  7.73692926e-01  7.75643774e-01  7.76181421e-01  7.77690860e-01\n",
      "  7.79984172e-01  7.79933465e-01  7.79542901e-01  7.80994530e-01\n",
      "  7.81260393e-01 -6.97683083e-04 -1.78189833e-03 -1.85000262e-03\n",
      "  7.82088505e-01  7.80100170e-01  7.81832645e-01  7.85139815e-01\n",
      "  7.85599750e-01  7.84714067e-01  7.82023907e-01  7.83707634e-01\n",
      "  7.84062806e-01 -6.97683083e-04 -1.78189833e-03 -1.85000262e-03\n",
      "  5.91723200e-01  5.96836861e-01  5.98482149e-01  5.94556854e-01\n",
      "  5.97191961e-01  6.00135251e-01  5.94664698e-01  5.97937403e-01\n",
      "  6.01410717e-01 -6.97683083e-04 -1.78189833e-03 -1.85000262e-03\n",
      "  8.19151703e-01  8.21314879e-01  8.22286669e-01  8.29478883e-01\n",
      "  8.33108405e-01  8.34842970e-01  8.35938233e-01  8.36620474e-01\n",
      "  8.37683631e-01 -6.97683083e-04 -1.78189833e-03 -1.85000262e-03\n",
      "  8.36424714e-01  8.36775199e-01  8.37449242e-01  8.48023270e-01\n",
      "  8.48427798e-01  8.48948538e-01  8.47120395e-01  8.49844922e-01\n",
      "  8.51240722e-01 -6.97683083e-04 -1.78189833e-03 -1.85000262e-03\n",
      "  8.46157351e-01  8.46355341e-01  8.46431834e-01  8.52906423e-01\n",
      "  8.53958449e-01  8.54590691e-01  8.53673138e-01  8.54233272e-01\n",
      "  8.55612562e-01 -6.97683083e-04 -1.78189833e-03 -1.85000262e-03\n",
      "  7.27472413e-01  7.30720668e-01  7.31101076e-01  7.34916367e-01\n",
      "  7.39463537e-01  7.40934054e-01  7.32690787e-01  7.39646893e-01\n",
      "  7.41176579e-01 -6.97683083e-04 -1.78189833e-03 -1.85000262e-03\n",
      "             nan             nan             nan             nan\n",
      "             nan             nan             nan             nan\n",
      "             nan             nan             nan             nan\n",
      "             nan             nan             nan             nan\n",
      "             nan             nan             nan             nan\n",
      "             nan             nan             nan             nan\n",
      "             nan             nan             nan             nan\n",
      "             nan             nan             nan             nan\n",
      "             nan             nan             nan             nan\n",
      "             nan             nan             nan             nan\n",
      "             nan             nan             nan             nan\n",
      "             nan             nan             nan             nan\n",
      "             nan             nan             nan             nan\n",
      "             nan             nan             nan             nan\n",
      "             nan             nan             nan             nan\n",
      "             nan             nan             nan             nan\n",
      "             nan             nan             nan             nan\n",
      "             nan             nan             nan             nan\n",
      "             nan             nan             nan             nan\n",
      "             nan             nan             nan             nan\n",
      "             nan             nan             nan             nan\n",
      "             nan             nan             nan             nan\n",
      "             nan             nan             nan             nan\n",
      "             nan             nan             nan             nan\n",
      "             nan             nan             nan             nan\n",
      "             nan             nan             nan             nan\n",
      "             nan             nan             nan             nan\n",
      "             nan             nan             nan             nan\n",
      "             nan             nan             nan             nan\n",
      "             nan             nan             nan             nan\n",
      "             nan             nan             nan             nan\n",
      "             nan             nan             nan             nan\n",
      "             nan             nan             nan             nan\n",
      "             nan             nan             nan             nan\n",
      "             nan             nan             nan             nan\n",
      "             nan             nan             nan             nan]\n",
      "  warnings.warn(\n"
     ]
    },
    {
     "data": {
      "text/plain": [
       "GridSearchCV(estimator=RandomForestRegressor(oob_score=True, random_state=0),\n",
       "             n_jobs=-1,\n",
       "             param_grid={'bootstrap': [True, False], 'max_depth': [3, 5, 9],\n",
       "                         'max_features': [0.3, 0.5, 0.8, 1],\n",
       "                         'max_samples': [0.3, 0.6, 0.8, 1],\n",
       "                         'n_estimators': [100, 200, 500]})"
      ]
     },
     "execution_count": 41,
     "metadata": {},
     "output_type": "execute_result"
    }
   ],
   "source": [
    "rf = RandomForestRegressor(oob_score=True, random_state=0)\n",
    "estimators = [100, 200, 500]\n",
    "depths = [3, 5, 9]\n",
    "samples = [0.3, 0.6, 0.8, 1]\n",
    "features = [0.3, 0.5, 0.8, 1]\n",
    "bootstrap = [True, False]\n",
    "grid_rf = GridSearchCV(rf, param_grid={'n_estimators': estimators,\n",
    "                                      'max_samples': samples,\n",
    "                                      'max_depth': depths,\n",
    "                                      'max_features': features,\n",
    "                                      'bootstrap': bootstrap},\n",
    "                      n_jobs=-1)\n",
    "grid_rf.fit(train_x_scaled, train_y.values.ravel())"
   ]
  },
  {
   "cell_type": "code",
   "execution_count": 42,
   "metadata": {},
   "outputs": [
    {
     "name": "stdout",
     "output_type": "stream",
     "text": [
      "Best model paramters: {'bootstrap': True, 'max_depth': 9, 'max_features': 0.8, 'max_samples': 0.8, 'n_estimators': 500}\n",
      "Best train score: 0.86\n",
      "Test score: 0.87\n"
     ]
    }
   ],
   "source": [
    "print('Best model paramters: {}'.format(grid_rf.best_params_))\n",
    "print('Best train score: {:.2f}'.format(grid_rf.best_score_))\n",
    "print('Test score: {:.2f}'.format(grid_rf.best_estimator_.score(test_x_scaled, test_y.values.ravel())))"
   ]
  },
  {
   "cell_type": "markdown",
   "metadata": {},
   "source": [
    "#### Model5 - AdaBoost with DecisionTree as Base Model"
   ]
  },
  {
   "cell_type": "code",
   "execution_count": 43,
   "metadata": {},
   "outputs": [
    {
     "data": {
      "text/plain": [
       "GridSearchCV(estimator=AdaBoostRegressor(base_estimator=DecisionTreeRegressor(),\n",
       "                                         random_state=0),\n",
       "             n_jobs=-1,\n",
       "             param_grid={'learning_rate': [0.2, 0.6, 1],\n",
       "                         'loss': ['linear', 'square', 'exponential'],\n",
       "                         'n_estimators': [50, 100, 200, 500]})"
      ]
     },
     "execution_count": 43,
     "metadata": {},
     "output_type": "execute_result"
    }
   ],
   "source": [
    "tree = DecisionTreeRegressor()\n",
    "adab_tree = AdaBoostRegressor(tree, random_state=0)\n",
    "n_estimators = [50, 100, 200, 500]\n",
    "learn_rate = [0.2, 0.6, 1]\n",
    "loss = ['linear', 'square', 'exponential']\n",
    "grid_abdt = GridSearchCV(adab_tree, param_grid={'n_estimators': n_estimators, \n",
    "                                                'learning_rate': learn_rate,\n",
    "                                               'loss': loss}, n_jobs=-1)\n",
    "# Use unscaled predictor data\n",
    "grid_abdt.fit(train_x_scaled, train_y.values.ravel())"
   ]
  },
  {
   "cell_type": "code",
   "execution_count": 44,
   "metadata": {},
   "outputs": [
    {
     "name": "stdout",
     "output_type": "stream",
     "text": [
      "Best parameters for AdaBoost tree model: {'learning_rate': 1, 'loss': 'exponential', 'n_estimators': 500}\n",
      "Test R2 score of AdaBoost tree model: 0.90\n",
      "Train score : 0.87\n",
      "Test accuracy score of AdaBoost tree model: 0.90\n",
      "\n",
      "Test accuracy score of base model DecisionTree is : 0.81\n"
     ]
    }
   ],
   "source": [
    "print('Best parameters for AdaBoost tree model: ' + str(grid_abdt.best_params_))\n",
    "adab_tree = grid_abdt.best_estimator_\n",
    "#adab_tree.fit(train_x_scaled, train_y.values.ravel())\n",
    "pred_y = adab_tree.predict(test_x_scaled)\n",
    "print('Test R2 score of AdaBoost tree model: {:.2f}'.format(r2_score(test_y, pred_y)))\n",
    "print('Train score : {:.2f}'.format(grid_abdt.best_score_))\n",
    "print('Test accuracy score of AdaBoost tree model: {:.2f}\\n'.format(adab_tree.score(test_x_scaled, test_y.values.ravel())))\n",
    "\n",
    "tree.fit(train_x_scaled, train_y)\n",
    "print('Test accuracy score of base model DecisionTree is : {:.2f}'.format(tree.score(test_x_scaled, test_y.values.ravel())) )"
   ]
  },
  {
   "cell_type": "markdown",
   "metadata": {},
   "source": [
    "#### Model6 - AdaBoost with Linear Regression as Base Model"
   ]
  },
  {
   "cell_type": "code",
   "execution_count": 45,
   "metadata": {},
   "outputs": [
    {
     "data": {
      "text/plain": [
       "GridSearchCV(estimator=AdaBoostRegressor(base_estimator=LinearRegression(),\n",
       "                                         random_state=0),\n",
       "             n_jobs=-1,\n",
       "             param_grid={'learning_rate': [0.001, 0.1, 0.2, 0.5],\n",
       "                         'loss': ['linear', 'square', 'exponential'],\n",
       "                         'n_estimators': [50, 100, 500]})"
      ]
     },
     "execution_count": 45,
     "metadata": {},
     "output_type": "execute_result"
    }
   ],
   "source": [
    "lr = LinearRegression()\n",
    "adab_lr = AdaBoostRegressor(lr, random_state=0)\n",
    "\n",
    "n_estimators = [50, 100, 500]\n",
    "learn_rate = [0.001, 0.1, 0.2, 0.5]\n",
    "loss = ['linear', 'square', 'exponential']\n",
    "grid_ablr = GridSearchCV(adab_lr, param_grid={'n_estimators': n_estimators, \n",
    "                                              'learning_rate': learn_rate,\n",
    "                                             'loss': loss}, n_jobs=-1)\n",
    "grid_ablr.fit(train_x_scaled, train_y.values.ravel())"
   ]
  },
  {
   "cell_type": "code",
   "execution_count": 46,
   "metadata": {},
   "outputs": [
    {
     "name": "stdout",
     "output_type": "stream",
     "text": [
      "Best parameters for AdaBoost LR model: {'learning_rate': 0.001, 'loss': 'exponential', 'n_estimators': 100}\n",
      "Train score: 0.70\n",
      "Test accuracy score of AdaBoost LR model: 0.71\n",
      "Test R2 score of AdaBoost LR model: 0.71\n",
      "\n",
      "LR train score: 0.70\n",
      "Test accuracy score of base model LinearRegression is : 0.70\n"
     ]
    }
   ],
   "source": [
    "print('Best parameters for AdaBoost LR model: ' + str(grid_ablr.best_params_))\n",
    "adab_lr = grid_ablr.best_estimator_\n",
    "#adab_lr.fit(train_x_scaled, train_y.values.ravel())\n",
    "pred_y = adab_lr.predict(test_x_scaled)\n",
    "print(\"Train score: {:.2f}\".format(grid_ablr.best_score_))\n",
    "print('Test accuracy score of AdaBoost LR model: {:.2f}'.format(adab_lr.score(test_x_scaled, test_y.values.ravel())))\n",
    "print('Test R2 score of AdaBoost LR model: {:.2f}\\n'.format(r2_score(test_y, pred_y)))\n",
    "\n",
    "lr.fit(train_x_scaled, train_y)\n",
    "print(\"LR train score: {:.2f}\".format(lr.score(train_x_scaled, train_y)))\n",
    "print('Test accuracy score of base model LinearRegression is : {:.2f}'.format(lr.score(test_x_scaled, test_y.values.ravel())) )"
   ]
  },
  {
   "cell_type": "markdown",
   "metadata": {},
   "source": [
    "#### Model7 - GradientBoosting Model"
   ]
  },
  {
   "cell_type": "code",
   "execution_count": 47,
   "metadata": {
    "scrolled": true
   },
   "outputs": [
    {
     "data": {
      "text/plain": [
       "GridSearchCV(estimator=GradientBoostingRegressor(random_state=0), n_jobs=-1,\n",
       "             param_grid={'learning_rate': [0.1, 0.2, 0.5],\n",
       "                         'max_depth': [1, 3, 5],\n",
       "                         'n_estimators': [100, 200, 400]})"
      ]
     },
     "execution_count": 47,
     "metadata": {},
     "output_type": "execute_result"
    }
   ],
   "source": [
    "grdBoost = GradientBoostingRegressor(random_state=0)\n",
    "max_depth = [1, 3, 5]\n",
    "n_estimators = [100, 200, 400]\n",
    "learn_rate = [0.1, 0.2, 0.5]\n",
    "\n",
    "grid_gb = GridSearchCV(grdBoost, param_grid={'max_depth': max_depth, 'n_estimators': n_estimators, 'learning_rate': learn_rate}, n_jobs=-1)\n",
    "grid_gb.fit(train_x_scaled, train_y.values.ravel())"
   ]
  },
  {
   "cell_type": "code",
   "execution_count": 48,
   "metadata": {
    "scrolled": true
   },
   "outputs": [
    {
     "name": "stdout",
     "output_type": "stream",
     "text": [
      "Best parameters :{'learning_rate': 0.1, 'max_depth': 5, 'n_estimators': 400}\n",
      "\n",
      "Train accuracy score of GradientBoosting model: 0.90\n",
      "Test accuracy score of GradientBoosting model: 0.91\n"
     ]
    }
   ],
   "source": [
    "print('Best parameters :'+ str(grid_gb.best_params_))\n",
    "print('\\nTrain accuracy score of GradientBoosting model: {:.2f}'.format(grid_gb.best_score_))\n",
    "print('Test accuracy score of GradientBoosting model: {:.2f}'.format(grid_gb.best_estimator_.score(test_x_scaled, test_y.values.ravel())))"
   ]
  },
  {
   "cell_type": "markdown",
   "metadata": {},
   "source": [
    "#### Feature Importance from GradientBoosting Model"
   ]
  },
  {
   "cell_type": "code",
   "execution_count": 49,
   "metadata": {},
   "outputs": [
    {
     "data": {
      "text/plain": [
       "grade             0.320821\n",
       "sqft_living       0.241513\n",
       "lat               0.166433\n",
       "long              0.077014\n",
       "waterfront        0.039586\n",
       "sqft_living15     0.033385\n",
       "sqft_above        0.031361\n",
       "zipcode           0.016070\n",
       "view              0.013261\n",
       "yr_built          0.012764\n",
       "age               0.012589\n",
       "sqft_lot          0.008223\n",
       "sqft_lot15        0.006695\n",
       "bathrooms         0.005953\n",
       "last_renovated    0.005410\n",
       "sqft_basement     0.003743\n",
       "condition         0.003206\n",
       "bedrooms          0.001228\n",
       "floors            0.000744\n",
       "dtype: float64"
      ]
     },
     "execution_count": 49,
     "metadata": {},
     "output_type": "execute_result"
    },
    {
     "data": {
      "image/png": "[encoded data removed]",
      "text/plain": [
       "<Figure size 432x288 with 1 Axes>"
      ]
     },
     "metadata": {
      "needs_background": "light"
     },
     "output_type": "display_data"
    }
   ],
   "source": [
    "fImp_ensemble = pd.Series(grid_gb.best_estimator_.feature_importances_, \n",
    "                         index=train.columns[1:]).sort_values(ascending=False)\n",
    "plt.plot(fImp_ensemble, 'o')\n",
    "plt.xticks(rotation=90)\n",
    "fImp_ensemble"
   ]
  },
  {
   "cell_type": "markdown",
   "metadata": {},
   "source": [
    "#### Summary of Ensembled Models Results"
   ]
  },
  {
   "cell_type": "code",
   "execution_count": 50,
   "metadata": {},
   "outputs": [],
   "source": [
    "ens_scores = pd.DataFrame(columns=['Train score', 'Test score'])\n",
    "\n",
    "for label, model in zip(['bgLR', 'PSTLR', 'PSTRDG', 'RF', 'ABDT', 'ABLR','GB'],\n",
    "                       [grid_blr, grid_pst, grid_bag, grid_rf, grid_abdt, grid_ablr, grid_gb]):\n",
    "    score = {'Train score': model.best_score_,\n",
    "            'Test score': model.best_estimator_.score(test_x_scaled, test_y.values.ravel())}\n",
    "    #print(score)\n",
    "    ens_scores = ens_scores.append(pd.DataFrame(score, index=[label]))"
   ]
  },
  {
   "cell_type": "markdown",
   "metadata": {},
   "source": [
    "#### Ensemble Models Peformances"
   ]
  },
  {
   "cell_type": "code",
   "execution_count": 51,
   "metadata": {},
   "outputs": [
    {
     "data": {
      "text/html": [
       "<div>\n",
       "<style scoped>\n",
       "    .dataframe tbody tr th:only-of-type {\n",
       "        vertical-align: middle;\n",
       "    }\n",
       "\n",
       "    .dataframe tbody tr th {\n",
       "        vertical-align: top;\n",
       "    }\n",
       "\n",
       "    .dataframe thead th {\n",
       "        text-align: right;\n",
       "    }\n",
       "</style>\n",
       "<table border=\"1\" class=\"dataframe\">\n",
       "  <thead>\n",
       "    <tr style=\"text-align: right;\">\n",
       "      <th></th>\n",
       "      <th>Train score</th>\n",
       "      <th>Test score</th>\n",
       "    </tr>\n",
       "  </thead>\n",
       "  <tbody>\n",
       "    <tr>\n",
       "      <th>bgLR</th>\n",
       "      <td>0.698542</td>\n",
       "      <td>0.704328</td>\n",
       "    </tr>\n",
       "    <tr>\n",
       "      <th>PSTLR</th>\n",
       "      <td>0.698394</td>\n",
       "      <td>0.704625</td>\n",
       "    </tr>\n",
       "    <tr>\n",
       "      <th>PSTRDG</th>\n",
       "      <td>0.695320</td>\n",
       "      <td>0.701242</td>\n",
       "    </tr>\n",
       "    <tr>\n",
       "      <th>RF</th>\n",
       "      <td>0.855613</td>\n",
       "      <td>0.870205</td>\n",
       "    </tr>\n",
       "    <tr>\n",
       "      <th>ABDT</th>\n",
       "      <td>0.868010</td>\n",
       "      <td>0.899422</td>\n",
       "    </tr>\n",
       "    <tr>\n",
       "      <th>ABLR</th>\n",
       "      <td>0.698366</td>\n",
       "      <td>0.705564</td>\n",
       "    </tr>\n",
       "    <tr>\n",
       "      <th>GB</th>\n",
       "      <td>0.898182</td>\n",
       "      <td>0.906135</td>\n",
       "    </tr>\n",
       "  </tbody>\n",
       "</table>\n",
       "</div>"
      ],
      "text/plain": [
       "        Train score  Test score\n",
       "bgLR       0.698542    0.704328\n",
       "PSTLR      0.698394    0.704625\n",
       "PSTRDG     0.695320    0.701242\n",
       "RF         0.855613    0.870205\n",
       "ABDT       0.868010    0.899422\n",
       "ABLR       0.698366    0.705564\n",
       "GB         0.898182    0.906135"
      ]
     },
     "execution_count": 51,
     "metadata": {},
     "output_type": "execute_result"
    },
    {
     "data": {
      "image/png": "[encoded data removed]",
      "text/plain": [
       "<Figure size 432x288 with 1 Axes>"
      ]
     },
     "metadata": {
      "needs_background": "light"
     },
     "output_type": "display_data"
    }
   ],
   "source": [
    "plt.plot(ens_scores)\n",
    "plt.xticks(rotation=90)\n",
    "plt.legend(ens_scores)\n",
    "plt.grid(axis='y')\n",
    "ens_scores"
   ]
  },
  {
   "cell_type": "markdown",
   "metadata": {},
   "source": [
    "### PCA\n",
    "Using PCA to perform feature reduction. 95% feature variance of original data set are extracted and presented by output principle components. Number of features are reduced to 13 from original 19.\n",
    "\n",
    "#### Comparison of models before and after PCA"
   ]
  },
  {
   "cell_type": "markdown",
   "metadata": {},
   "source": [
    "\n",
    "|No|Regressions|Original Score|PCA|\n",
    "|:--|:-----------|:---------------|:-------------|\n",
    "|1|KNN|0.76|0.75|\n",
    "|2|Linear Regression|0.70|0.69|\n",
    "|3|Linear SVR|0.64|0.24| \n",
    "|4|SVR with Kernel RBF|0.31|0.20|\n",
    "|5|SVR with Kernel Polynomial|0.56|0.58|\n",
    "|6|Decision tree|0.81|0.59|"
   ]
  },
  {
   "cell_type": "code",
   "execution_count": 52,
   "metadata": {},
   "outputs": [
    {
     "name": "stdout",
     "output_type": "stream",
     "text": [
      "Number of original test set components : 19\n",
      "Number of test set components after PCA with 95% feature information : 13\n"
     ]
    },
    {
     "data": {
      "text/plain": [
       "(11706, 13)"
      ]
     },
     "execution_count": 52,
     "metadata": {},
     "output_type": "execute_result"
    }
   ],
   "source": [
    "from sklearn.decomposition import PCA\n",
    "\n",
    "pca = PCA(n_components=0.95, random_state=0)\n",
    "\n",
    "reduced_train_x = pca.fit_transform(train_x_scaled)\n",
    "#reduced_eval_x = pca.transform(eval_x_ssc)\n",
    "reduced_test_x = pca.transform(test_x_scaled)\n",
    "\n",
    "print('Number of original test set components : ' + str(train_x_scaled.shape[1]))\n",
    "print('Number of test set components after PCA with 95% feature information : ' + str(pca.n_components_))\n",
    "reduced_train_x.shape"
   ]
  },
  {
   "cell_type": "markdown",
   "metadata": {},
   "source": [
    "#### KNN"
   ]
  },
  {
   "cell_type": "code",
   "execution_count": 53,
   "metadata": {},
   "outputs": [
    {
     "name": "stdout",
     "output_type": "stream",
     "text": [
      "KNN best model paramters: {'n_neighbors': 9}\n",
      "PCA train score KNN: 0.78\n",
      "PCA test score KNN: 0.75\n"
     ]
    }
   ],
   "source": [
    "from sklearn.neighbors import KNeighborsRegressor\n",
    "\n",
    "k = [1, 3, 5, 9]\n",
    "knn = KNeighborsRegressor()\n",
    "grid_knn = GridSearchCV(knn, param_grid={'n_neighbors': k}, n_jobs=-1)\n",
    "grid_knn.fit(reduced_train_x, train_y.values.ravel())\n",
    "\n",
    "print('KNN best model paramters: {}'.format(grid_knn.best_params_))\n",
    "print('PCA train score KNN: {:.2f}'.format(grid_knn.best_score_))\n",
    "print('PCA test score KNN: {:.2f}'.format(grid_knn.best_estimator_.score(reduced_test_x, test_y.values.ravel())))"
   ]
  },
  {
   "cell_type": "markdown",
   "metadata": {},
   "source": [
    "#### Linear Regression Model"
   ]
  },
  {
   "cell_type": "code",
   "execution_count": 54,
   "metadata": {},
   "outputs": [
    {
     "name": "stdout",
     "output_type": "stream",
     "text": [
      "PCA train score LR: 0.69\n",
      "PCA test score LR: 0.69\n"
     ]
    }
   ],
   "source": [
    "from sklearn.linear_model import LinearRegression\n",
    "\n",
    "lr = LinearRegression()\n",
    "lr.fit(reduced_train_x, train_y.values.ravel())\n",
    "print('PCA train score LR: {:.2f}'.format(lr.score(reduced_train_x, train_y.values.ravel())))\n",
    "print('PCA test score LR: {:.2f}'.format(lr.score(reduced_test_x, test_y.values.ravel())))"
   ]
  },
  {
   "cell_type": "markdown",
   "metadata": {},
   "source": [
    "#### Ridge Model"
   ]
  },
  {
   "cell_type": "code",
   "execution_count": 55,
   "metadata": {},
   "outputs": [
    {
     "name": "stdout",
     "output_type": "stream",
     "text": [
      "Best model parameters:{'alpha': 10}\n",
      "PCA train score: 0.69\n",
      "PCA test score: 0.69\n"
     ]
    }
   ],
   "source": [
    "from sklearn.linear_model import Ridge\n",
    "\n",
    "alphas = [0.1, 0.5, 1, 10]\n",
    "ridge = Ridge(random_state=0)\n",
    "grid_ridge = GridSearchCV(ridge, param_grid={'alpha': alphas}, n_jobs=-1)\n",
    "grid_ridge.fit(reduced_train_x, train_y.values.ravel())\n",
    "\n",
    "print('Best model parameters:{}'.format(grid_ridge.best_params_))\n",
    "print('PCA train score: {:.2f}'.format(grid_ridge.best_score_))\n",
    "print('PCA test score: {:.2f}'.format(grid_ridge.best_estimator_.score(reduced_test_x, test_y.values.ravel())))"
   ]
  },
  {
   "cell_type": "markdown",
   "metadata": {},
   "source": [
    "#### Model4 - Lasso"
   ]
  },
  {
   "cell_type": "code",
   "execution_count": 56,
   "metadata": {},
   "outputs": [
    {
     "name": "stdout",
     "output_type": "stream",
     "text": [
      "Best model paramters LASSO: {'alpha': 10}\n",
      "PCA trains score LASSO: 0.69\n",
      "PCA test score LASSO: 0.69\n"
     ]
    }
   ],
   "source": [
    "from sklearn.linear_model import Lasso\n",
    "\n",
    "alphas = [0.01, 0.1, 1, 10]\n",
    "lso = Lasso(random_state=0)\n",
    "grid_lso = GridSearchCV(lso, param_grid={'alpha': alphas}, n_jobs=-1)\n",
    "grid_lso.fit(reduced_train_x, train_y.values.ravel())\n",
    "\n",
    "print('Best model paramters LASSO: {}'.format(grid_lso.best_params_))\n",
    "print('PCA trains score LASSO: {:.2f}'.format(grid_lso.best_score_))\n",
    "print('PCA test score LASSO: {:.2f}'.format(grid_lso.best_estimator_.score(reduced_test_x, test_y.values.ravel())))"
   ]
  },
  {
   "cell_type": "markdown",
   "metadata": {},
   "source": [
    "#### Linear SVR"
   ]
  },
  {
   "cell_type": "code",
   "execution_count": 57,
   "metadata": {},
   "outputs": [
    {
     "name": "stdout",
     "output_type": "stream",
     "text": [
      "Best model paramters: {'C': 1, 'loss': 'squared_epsilon_insensitive'}\n",
      "PCA train score: 0.69\n",
      "PCA test score: 0.69\n"
     ]
    },
    {
     "name": "stderr",
     "output_type": "stream",
     "text": [
      "C:\\ProgramData\\Anaconda3\\lib\\site-packages\\sklearn\\svm\\_base.py:985: ConvergenceWarning: Liblinear failed to converge, increase the number of iterations.\n",
      "  warnings.warn(\"Liblinear failed to converge, increase \"\n"
     ]
    }
   ],
   "source": [
    "from sklearn.svm import LinearSVR\n",
    "\n",
    "cs = [0.1, 1, 10]\n",
    "losses = ['epsilon_insensitive', 'squared_epsilon_insensitive']\n",
    "lsvr = LinearSVR(random_state=0)\n",
    "grid_lsvr = GridSearchCV(lsvr, param_grid={'C': cs,\n",
    "                                          'loss': losses}, n_jobs=-1)\n",
    "grid_lsvr.fit(reduced_train_x, train_y.values.ravel())\n",
    "\n",
    "print('Best model paramters: {}'.format(grid_lsvr.best_params_))\n",
    "print('PCA train score: {:.2f}'.format(grid_lsvr.best_score_))\n",
    "print('PCA test score: {:.2f}'.format(grid_lsvr.best_estimator_.score(reduced_test_x, test_y.values.ravel())))\n"
   ]
  },
  {
   "cell_type": "markdown",
   "metadata": {},
   "source": [
    "#### SVR with Kernel RBF"
   ]
  },
  {
   "cell_type": "code",
   "execution_count": 58,
   "metadata": {},
   "outputs": [
    {
     "name": "stdout",
     "output_type": "stream",
     "text": [
      "Best model paramters: {'C': 1000, 'gamma': 0.1}\n",
      "PCA train score SVR_RBF: 0.27\n",
      "PCA test score SVR_RBF: 0.20\n"
     ]
    }
   ],
   "source": [
    "gammas = [0.1, 0.3, 0.7]\n",
    "Cs = [0.1, 1, 10, 100, 1000]\n",
    "svr_rbf = SVR(kernel='rbf')\n",
    "grid_svrRBF = GridSearchCV(svr_rbf, param_grid={'C': Cs,\n",
    "                                                'gamma': gammas}, n_jobs=-1)\n",
    "grid_svrRBF.fit(reduced_train_x, train_y.values.ravel())\n",
    "\n",
    "print('Best model paramters: {}'.format(grid_svrRBF.best_params_))\n",
    "print('PCA train score SVR_RBF: {:.2f}'.format(grid_svrRBF.best_score_))\n",
    "print('PCA test score SVR_RBF: {:.2f}'.format(grid_svrRBF.best_estimator_.score(reduced_test_x, test_y.values.ravel())))"
   ]
  },
  {
   "cell_type": "markdown",
   "metadata": {},
   "source": [
    "#### SVR with Polynomial Kernel"
   ]
  },
  {
   "cell_type": "code",
   "execution_count": 59,
   "metadata": {},
   "outputs": [
    {
     "name": "stdout",
     "output_type": "stream",
     "text": [
      "Best model parameters: {'C': 1000, 'degree': 1}\n",
      "PCA train score : 0.60\n",
      "PCA test score: 0.58\n"
     ]
    }
   ],
   "source": [
    "degrees = [1, 2, 3]\n",
    "Cs = [1, 10, 100, 1000]\n",
    "svr_poly = SVR(kernel='poly')\n",
    "grid_svr_POLY = GridSearchCV(svr_poly, param_grid={'degree': degrees,\n",
    "                                                  'C': Cs}, n_jobs=-1)\n",
    "grid_svr_POLY.fit(reduced_train_x, train_y.values.ravel())\n",
    "\n",
    "print('Best model parameters: {}'.format(grid_svr_POLY.best_params_))\n",
    "print('PCA train score : {:.2f}'.format(grid_svr_POLY.best_score_))\n",
    "print('PCA test score: {:.2f}'.format(grid_svr_POLY.best_estimator_.score(reduced_test_x, test_y.values.ravel())))"
   ]
  },
  {
   "cell_type": "markdown",
   "metadata": {},
   "source": [
    "#### Decision Tree Regressor"
   ]
  },
  {
   "cell_type": "code",
   "execution_count": 60,
   "metadata": {},
   "outputs": [
    {
     "name": "stdout",
     "output_type": "stream",
     "text": [
      "Best model paramters: {'max_depth': 9, 'max_features': 0.9}\n",
      "PCA train score: 0.59\n",
      "PCA test score: 0.59\n"
     ]
    }
   ],
   "source": [
    "from sklearn.tree import DecisionTreeRegressor\n",
    "\n",
    "depths = [3, 5, 9, 12, 15]\n",
    "features = [0.4, 0.7, 0.9, 1]\n",
    "dtree = DecisionTreeRegressor(random_state=0)\n",
    "grid_dtree = GridSearchCV(dtree, param_grid={'max_depth': depths,\n",
    "                                            'max_features': features}, n_jobs=-1)\n",
    "grid_dtree.fit(reduced_train_x, train_y.values.ravel())\n",
    "\n",
    "print('Best model paramters: {}'.format(grid_dtree.best_params_))\n",
    "print('PCA train score: {:.2f}'.format(grid_dtree.best_score_))\n",
    "print('PCA test score: {:.2f}'.format(grid_dtree.best_estimator_.score(reduced_test_x, test_y.values.ravel())))\n"
   ]
  },
  {
   "cell_type": "markdown",
   "metadata": {},
   "source": [
    "## Deep machine learning"
   ]
  },
  {
   "cell_type": "code",
   "execution_count": 61,
   "metadata": {},
   "outputs": [],
   "source": [
    "from keras.models import Sequential\n",
    "from keras.layers import Dense\n",
    "from keras.wrappers.scikit_learn import KerasRegressor"
   ]
  },
  {
   "cell_type": "code",
   "execution_count": 62,
   "metadata": {},
   "outputs": [
    {
     "data": {
      "text/plain": [
       "(11706, 19)"
      ]
     },
     "execution_count": 62,
     "metadata": {},
     "output_type": "execute_result"
    }
   ],
   "source": [
    "train_x_scaled.shape"
   ]
  },
  {
   "cell_type": "code",
   "execution_count": 63,
   "metadata": {},
   "outputs": [],
   "source": [
    "from sklearn.metrics import r2_score\n",
    "\n",
    "def create_model():\n",
    "    model = Sequential()\n",
    "    model.add(Dense(19, input_dim=19, activation=\"relu\"))\n",
    "    model.add(Dense(10, activation=\"relu\"))\n",
    "    model.add(Dense(5, activation=\"relu\"))\n",
    "    model.add(Dense(1, activation='sigmoid'))\n",
    "    \n",
    "    model.compile(loss=\"mse\", optimizer='adam', metrics=['mse'])\n",
    "    \n",
    "    return model"
   ]
  },
  {
   "cell_type": "code",
   "execution_count": 64,
   "metadata": {},
   "outputs": [],
   "source": [
    "from sklearn.model_selection import GridSearchCV\n",
    "\n",
    "np.random.seed(10)\n",
    "model = KerasRegressor(build_fn=create_model, verbose=1)\n",
    "\n",
    "params = {'batch_size':[10, 20, 32], 'epochs':[20, 40, 100, 200]}\n",
    "grid_search = GridSearchCV(estimator=model, param_grid=params, cv=5, scoring='neg_mean_squared_error', n_jobs=-1)"
   ]
  },
  {
   "cell_type": "code",
   "execution_count": 65,
   "metadata": {
    "scrolled": false
   },
   "outputs": [
    {
     "name": "stderr",
     "output_type": "stream",
     "text": [
      "C:\\ProgramData\\Anaconda3\\lib\\site-packages\\joblib\\externals\\loky\\process_executor.py:688: UserWarning: A worker stopped while some jobs were given to the executor. This can be caused by a too short worker timeout or by a memory leak.\n",
      "  warnings.warn(\n"
     ]
    },
    {
     "name": "stdout",
     "output_type": "stream",
     "text": [
      "Epoch 1/100\n",
      "1171/1171 [==============================] - 12s 471us/step - loss: 407235601418.4846 - mse: 407235601418.4846\n",
      "Epoch 2/100\n",
      "1171/1171 [==============================] - 1s 464us/step - loss: 421874329844.6417 - mse: 421874329844.6417\n",
      "Epoch 3/100\n",
      "1171/1171 [==============================] - 1s 465us/step - loss: 425629611479.8089 - mse: 425629611479.8089\n",
      "Epoch 4/100\n",
      "1171/1171 [==============================] - 1s 467us/step - loss: 411955238597.4608 - mse: 411955238597.4608\n",
      "Epoch 5/100\n",
      "1171/1171 [==============================] - 1s 467us/step - loss: 402620857724.9420 - mse: 402620857724.9420\n",
      "Epoch 6/100\n",
      "1171/1171 [==============================] - 1s 470us/step - loss: 431153513510.4437 - mse: 431153509624.1365\n",
      "Epoch 7/100\n",
      "1171/1171 [==============================] - 1s 469us/step - loss: 407406751883.7952 - mse: 407406751869.8157\n",
      "Epoch 8/100\n",
      "1171/1171 [==============================] - 1s 470us/step - loss: 403915070229.8430 - mse: 403915069754.5392\n",
      "Epoch 9/100\n",
      "1171/1171 [==============================] - 1s 467us/step - loss: 401905006543.0717 - mse: 401905003299.8225\n",
      "Epoch 10/100\n",
      "1171/1171 [==============================] - 1s 467us/step - loss: 418902484397.8703 - mse: 418902484397.8703\n",
      "Epoch 11/100\n",
      "1171/1171 [==============================] - 1s 469us/step - loss: 413202709870.9625 - mse: 413202709870.9625\n",
      "Epoch 12/100\n",
      "1171/1171 [==============================] - 1s 471us/step - loss: 423954001486.6348 - mse: 423954001486.6348\n",
      "Epoch 13/100\n",
      "1171/1171 [==============================] - 1s 469us/step - loss: 412436695019.0307 - mse: 412436695019.0307\n",
      "Epoch 14/100\n",
      "1171/1171 [==============================] - 1s 474us/step - loss: 411795124657.3652 - mse: 411795124657.3652\n",
      "Epoch 15/100\n",
      "1171/1171 [==============================] - 1s 468us/step - loss: 416221129955.1672 - mse: 416221129955.1672\n",
      "Epoch 16/100\n",
      "1171/1171 [==============================] - 1s 468us/step - loss: 414024407508.3140 - mse: 414024410667.6860\n",
      "Epoch 17/100\n",
      "1171/1171 [==============================] - 1s 466us/step - loss: 402331156619.7952 - mse: 402331156983.2628\n",
      "Epoch 18/100\n",
      "1171/1171 [==============================] - 1s 467us/step - loss: 422086978577.4744 - mse: 422086978577.4744\n",
      "Epoch 19/100\n",
      "1171/1171 [==============================] - 1s 467us/step - loss: 407691601144.1365 - mse: 407691601144.1365\n",
      "Epoch 20/100\n",
      "1171/1171 [==============================] - 1s 468us/step - loss: 396860385119.2355 - mse: 396860387397.8976\n",
      "Epoch 21/100\n",
      "1171/1171 [==============================] - 1s 468us/step - loss: 415241260035.4949 - mse: 415241260119.3720\n",
      "Epoch 22/100\n",
      "1171/1171 [==============================] - 1s 468us/step - loss: 406161684822.4983 - mse: 406161659100.1775\n",
      "Epoch 23/100\n",
      "1171/1171 [==============================] - 1s 471us/step - loss: 407297425575.7543 - mse: 407297435864.6826\n",
      "Epoch 24/100\n",
      "1171/1171 [==============================] - 1s 468us/step - loss: 432070694024.3004 - mse: 432070694024.3004\n",
      "Epoch 25/100\n",
      "1171/1171 [==============================] - 1s 466us/step - loss: 421076249939.0034 - mse: 421076254636.1229\n",
      "Epoch 26/100\n",
      "1171/1171 [==============================] - 1s 466us/step - loss: 399364099956.2048 - mse: 399364100263.7543\n",
      "Epoch 27/100\n",
      "1171/1171 [==============================] - 1s 468us/step - loss: 412424021813.2969 - mse: 412424021813.2969\n",
      "Epoch 28/100\n",
      "1171/1171 [==============================] - 1s 490us/step - loss: 417962020081.1467 - mse: 417962020081.1467\n",
      "Epoch 29/100\n",
      "1171/1171 [==============================] - 1s 474us/step - loss: 424175678600.3004 - mse: 424175677118.4710\n",
      "Epoch 30/100\n",
      "1171/1171 [==============================] - 1s 466us/step - loss: 416325440368.7099 - mse: 416325439837.4880\n",
      "Epoch 31/100\n",
      "1171/1171 [==============================] - 1s 470us/step - loss: 451061012640.7645 - mse: 451061012640.7645\n",
      "Epoch 32/100\n",
      "1171/1171 [==============================] - 1s 470us/step - loss: 409560333189.6792 - mse: 409560333189.6792\n",
      "Epoch 33/100\n",
      "1171/1171 [==============================] - 1s 474us/step - loss: 410681890669.2150 - mse: 410681890669.2150\n",
      "Epoch 34/100\n",
      "1171/1171 [==============================] - 1s 476us/step - loss: 413725246837.9522 - mse: 413725246921.8293\n",
      "Epoch 35/100\n",
      "1171/1171 [==============================] - 1s 477us/step - loss: 403600570319.0717 - mse: 403600570291.1126\n",
      "Epoch 36/100\n",
      "1171/1171 [==============================] - 1s 477us/step - loss: 422783264062.0341 - mse: 422783303092.8600\n",
      "Epoch 37/100\n",
      "1171/1171 [==============================] - 1s 477us/step - loss: 420354330917.5699 - mse: 420354330721.8566\n",
      "Epoch 38/100\n",
      "1171/1171 [==============================] - 1s 468us/step - loss: 410061166724.8055 - mse: 410061166724.8055\n",
      "Epoch 39/100\n",
      "1171/1171 [==============================] - 1s 468us/step - loss: 405179239259.7406 - mse: 405179239259.7406\n",
      "Epoch 40/100\n",
      "1171/1171 [==============================] - 1s 469us/step - loss: 413388244090.3208 - mse: 413388244090.3208\n",
      "Epoch 41/100\n",
      "1171/1171 [==============================] - 1s 466us/step - loss: 416834374044.3959 - mse: 416834373904.6007\n",
      "Epoch 42/100\n",
      "1171/1171 [==============================] - 1s 468us/step - loss: 426105055085.2150 - mse: 426105056343.3720\n",
      "Epoch 43/100\n",
      "1171/1171 [==============================] - 1s 468us/step - loss: 417246966948.2594 - mse: 417246966948.2594\n",
      "Epoch 44/100\n",
      "1171/1171 [==============================] - 1s 470us/step - loss: 409730490032.4915 - mse: 409730480274.7850\n",
      "Epoch 45/100\n",
      "1171/1171 [==============================] - 1s 468us/step - loss: 411126921558.4983 - mse: 411126921558.4983\n",
      "Epoch 46/100\n",
      "1171/1171 [==============================] - 1s 467us/step - loss: 412341345744.8191 - mse: 412341345744.8191\n",
      "Epoch 47/100\n",
      "1171/1171 [==============================] - 1s 468us/step - loss: 401622276648.1911 - mse: 401622276648.1911\n",
      "Epoch 48/100\n",
      "1171/1171 [==============================] - 1s 465us/step - loss: 418918245833.8293 - mse: 418918246532.8055\n",
      "Epoch 49/100\n",
      "1171/1171 [==============================] - 1s 468us/step - loss: 419032011464.9556 - mse: 419032010640.1638\n",
      "Epoch 50/100\n",
      "1171/1171 [==============================] - 1s 468us/step - loss: 408844914590.1434 - mse: 408844914590.1434\n",
      "Epoch 51/100\n",
      "1171/1171 [==============================] - 1s 466us/step - loss: 420115943787.4676 - mse: 420115943787.4676\n",
      "Epoch 52/100\n",
      "1171/1171 [==============================] - 1s 468us/step - loss: 430165688823.2628 - mse: 430165661870.7440\n",
      "Epoch 53/100\n",
      "1171/1171 [==============================] - 1s 463us/step - loss: 440486347870.3618 - mse: 440486347870.3618\n",
      "Epoch 54/100\n",
      "1171/1171 [==============================] - 1s 468us/step - loss: 407767272535.3720 - mse: 407767272535.3720\n",
      "Epoch 55/100\n",
      "1171/1171 [==============================] - 1s 467us/step - loss: 405996885603.6041 - mse: 405996885603.6041\n",
      "Epoch 56/100\n",
      "1171/1171 [==============================] - 1s 468us/step - loss: 400600443571.9863 - mse: 400600427523.4949\n",
      "Epoch 57/100\n",
      "1171/1171 [==============================] - 1s 464us/step - loss: 415323616462.1979 - mse: 415323621438.9078\n",
      "Epoch 58/100\n",
      "1171/1171 [==============================] - 1s 465us/step - loss: 416388139769.8840 - mse: 416388141838.8533\n",
      "Epoch 59/100\n",
      "1171/1171 [==============================] - 1s 468us/step - loss: 415995331622.4437 - mse: 415995331622.4437\n",
      "Epoch 60/100\n",
      "1171/1171 [==============================] - 1s 469us/step - loss: 410584361568.1092 - mse: 410584361875.6587\n",
      "Epoch 61/100\n",
      "1171/1171 [==============================] - 1s 465us/step - loss: 419440420996.8055 - mse: 419440420996.8055\n",
      "Epoch 62/100\n",
      "1171/1171 [==============================] - 1s 468us/step - loss: 410552770560.0000 - mse: 410552770560.0000\n",
      "Epoch 63/100\n",
      "1171/1171 [==============================] - 1s 467us/step - loss: 422423177991.8635 - mse: 422423177991.8635\n",
      "Epoch 64/100\n",
      "1171/1171 [==============================] - 1s 469us/step - loss: 423986793811.0034 - mse: 423986793811.0034\n",
      "Epoch 65/100\n",
      "1171/1171 [==============================] - 1s 467us/step - loss: 416243730145.4198 - mse: 416243730145.4198\n",
      "Epoch 66/100\n",
      "1171/1171 [==============================] - 1s 467us/step - loss: 418048230298.6484 - mse: 418048230298.6484\n",
      "Epoch 67/100\n"
     ]
    },
    {
     "name": "stdout",
     "output_type": "stream",
     "text": [
      "1171/1171 [==============================] - 1s 463us/step - loss: 432955547032.9010 - mse: 432955547032.9010\n",
      "Epoch 68/100\n",
      "1171/1171 [==============================] - 1s 466us/step - loss: 411006357070.6348 - mse: 411006357070.6348\n",
      "Epoch 69/100\n",
      "1171/1171 [==============================] - 1s 467us/step - loss: 413213103799.4812 - mse: 413213103799.4812\n",
      "Epoch 70/100\n",
      "1171/1171 [==============================] - 1s 468us/step - loss: 409250639522.5120 - mse: 409250639522.5120\n",
      "Epoch 71/100\n",
      "1171/1171 [==============================] - 1s 466us/step - loss: 420106813523.8771 - mse: 420106813523.8771\n",
      "Epoch 72/100\n",
      "1171/1171 [==============================] - 1s 468us/step - loss: 405464490501.2423 - mse: 405464490501.2423\n",
      "Epoch 73/100\n",
      "1171/1171 [==============================] - 1s 472us/step - loss: 420545410855.3174 - mse: 420545412057.5563\n",
      "Epoch 74/100\n",
      "1171/1171 [==============================] - 1s 467us/step - loss: 420254561248.5461 - mse: 420254561388.3413\n",
      "Epoch 75/100\n",
      "1171/1171 [==============================] - 1s 466us/step - loss: 417533233662.2526 - mse: 417533233662.2526\n",
      "Epoch 76/100\n",
      "1171/1171 [==============================] - 1s 466us/step - loss: 426039911294.6894 - mse: 426039911909.7884\n",
      "Epoch 77/100\n",
      "1171/1171 [==============================] - 1s 465us/step - loss: 421724417754.4301 - mse: 421724417754.4301\n",
      "Epoch 78/100\n",
      "1171/1171 [==============================] - 1s 466us/step - loss: 404550369531.6314 - mse: 404550374620.1775\n",
      "Epoch 79/100\n",
      "1171/1171 [==============================] - 1s 464us/step - loss: 414253892464.7099 - mse: 414253897748.9693\n",
      "Epoch 80/100\n",
      "1171/1171 [==============================] - 1s 467us/step - loss: 405369891368.1911 - mse: 405369888348.6143\n",
      "Epoch 81/100\n",
      "1171/1171 [==============================] - 1s 464us/step - loss: 418444994021.7884 - mse: 418444994021.7884\n",
      "Epoch 82/100\n",
      "1171/1171 [==============================] - 1s 468us/step - loss: 419540933118.2526 - mse: 419540933118.2526\n",
      "Epoch 83/100\n",
      "1171/1171 [==============================] - 1s 466us/step - loss: 418022808928.9829 - mse: 418022799786.3754\n",
      "Epoch 84/100\n",
      "1171/1171 [==============================] - 1s 469us/step - loss: 417090847922.2389 - mse: 417090847950.1979\n",
      "Epoch 85/100\n",
      "1171/1171 [==============================] - 1s 467us/step - loss: 406525250172.0682 - mse: 406525250172.0682\n",
      "Epoch 86/100\n",
      "1171/1171 [==============================] - 1s 467us/step - loss: 412028809984.8737 - mse: 412028809984.8737\n",
      "Epoch 87/100\n",
      "1171/1171 [==============================] - 1s 466us/step - loss: 408601531248.7099 - mse: 408601531947.6860\n",
      "Epoch 88/100\n",
      "1171/1171 [==============================] - 1s 466us/step - loss: 409908206972.9420 - mse: 409908220281.4471\n",
      "Epoch 89/100\n",
      "1171/1171 [==============================] - 1s 467us/step - loss: 412974882788.0410 - mse: 412974882788.0410\n",
      "Epoch 90/100\n",
      "1171/1171 [==============================] - 1s 465us/step - loss: 408513746531.6041 - mse: 408513746531.6041\n",
      "Epoch 91/100\n",
      "1171/1171 [==============================] - 1s 465us/step - loss: 402259523409.2560 - mse: 402259523660.8874\n",
      "Epoch 92/100\n",
      "1171/1171 [==============================] - 1s 464us/step - loss: 417846369632.9829 - mse: 417846369605.0239\n",
      "Epoch 93/100\n",
      "1171/1171 [==============================] - 1s 466us/step - loss: 401793390179.6041 - mse: 401793390179.6041\n",
      "Epoch 94/100\n",
      "1171/1171 [==============================] - 1s 465us/step - loss: 407036920255.3447 - mse: 407036920842.4846\n",
      "Epoch 95/100\n",
      "1171/1171 [==============================] - 1s 466us/step - loss: 417908091124.6417 - mse: 417908091124.6417\n",
      "Epoch 96/100\n",
      "1171/1171 [==============================] - 1s 467us/step - loss: 414427907054.5256 - mse: 414427907054.5256\n",
      "Epoch 97/100\n",
      "1171/1171 [==============================] - 1s 469us/step - loss: 405829281645.2150 - mse: 405829281645.2150\n",
      "Epoch 98/100\n",
      "1171/1171 [==============================] - 1s 466us/step - loss: 414612750196.2048 - mse: 414612749888.6553\n",
      "Epoch 99/100\n",
      "1171/1171 [==============================] - 1s 466us/step - loss: 413660528472.2457 - mse: 413660528472.2457\n",
      "Epoch 100/100\n",
      "1171/1171 [==============================] - 1s 466us/step - loss: 409733303760.8191 - mse: 409733303285.5154\n"
     ]
    },
    {
     "data": {
      "text/plain": [
       "{'batch_size': 10, 'epochs': 100}"
      ]
     },
     "execution_count": 65,
     "metadata": {},
     "output_type": "execute_result"
    }
   ],
   "source": [
    "grid_search.fit(train_x_scaled, train_y.values)\n",
    "grid_search.best_params_"
   ]
  },
  {
   "cell_type": "code",
   "execution_count": 66,
   "metadata": {},
   "outputs": [],
   "source": [
    "batches = grid_search.best_params_['batch_size']\n",
    "epochs = grid_search.best_params_['epochs']"
   ]
  },
  {
   "cell_type": "code",
   "execution_count": 67,
   "metadata": {},
   "outputs": [],
   "source": [
    "model = grid_search.best_estimator_\n",
    "#model.fit(train_x_scaled, train_y, epochs=epochs, batch_size=batches, verbose=1)"
   ]
  },
  {
   "cell_type": "code",
   "execution_count": 68,
   "metadata": {},
   "outputs": [
    {
     "data": {
      "text/plain": [
       "-415697834655.52277"
      ]
     },
     "execution_count": 68,
     "metadata": {},
     "output_type": "execute_result"
    }
   ],
   "source": [
    "grid_search.cv_results_\n",
    "grid_search.best_score_"
   ]
  },
  {
   "cell_type": "code",
   "execution_count": null,
   "metadata": {},
   "outputs": [],
   "source": []
  },
  {
   "cell_type": "code",
   "execution_count": 69,
   "metadata": {},
   "outputs": [
    {
     "name": "stdout",
     "output_type": "stream",
     "text": [
      "293/293 [==============================] - 0s 297us/step\n",
      "1171/1171 [==============================] - 0s 292us/step\n"
     ]
    }
   ],
   "source": [
    "pred_test = model.predict(test_x_scaled)\n",
    "pred_train = model.predict(train_x_scaled)"
   ]
  },
  {
   "cell_type": "code",
   "execution_count": 70,
   "metadata": {
    "scrolled": true
   },
   "outputs": [
    {
     "ename": "ValueError",
     "evalue": "in user code:\n\n    C:\\Users\\shans\\AppData\\Roaming\\Python\\Python38\\site-packages\\keras\\engine\\training.py:1298 test_function  *\n        return step_function(self, iterator)\n    C:\\Users\\shans\\AppData\\Roaming\\Python\\Python38\\site-packages\\keras\\engine\\training.py:1282 run_step  *\n        outputs = model.test_step(data)\n    C:\\Users\\shans\\AppData\\Roaming\\Python\\Python38\\site-packages\\keras\\engine\\training.py:1241 test_step  *\n        y_pred = self(x, training=False)\n    C:\\Users\\shans\\AppData\\Roaming\\Python\\Python38\\site-packages\\keras\\engine\\base_layer.py:989 __call__  *\n        input_spec.assert_input_compatibility(self.input_spec, inputs, self.name)\n    C:\\Users\\shans\\AppData\\Roaming\\Python\\Python38\\site-packages\\keras\\engine\\input_spec.py:248 assert_input_compatibility  *\n        raise ValueError(\n\n    ValueError: Input 0 of layer sequential is incompatible with the layer: expected axis -1 of input shape to have value 19 but received input with shape (None, 1)\n",
     "output_type": "error",
     "traceback": [
      "\u001b[1;31m---------------------------------------------------------------------------\u001b[0m",
      "\u001b[1;31mValueError\u001b[0m                                Traceback (most recent call last)",
      "\u001b[1;32m<ipython-input-70-e452f873a8f8>\u001b[0m in \u001b[0;36m<module>\u001b[1;34m\u001b[0m\n\u001b[0;32m      3\u001b[0m \u001b[1;32mfrom\u001b[0m \u001b[0msklearn\u001b[0m\u001b[1;33m.\u001b[0m\u001b[0mmetrics\u001b[0m \u001b[1;32mimport\u001b[0m \u001b[0mexplained_variance_score\u001b[0m\u001b[1;33m\u001b[0m\u001b[1;33m\u001b[0m\u001b[0m\n\u001b[0;32m      4\u001b[0m \u001b[1;33m\u001b[0m\u001b[0m\n\u001b[1;32m----> 5\u001b[1;33m \u001b[0mprint\u001b[0m\u001b[1;33m(\u001b[0m\u001b[0mmodel\u001b[0m\u001b[1;33m.\u001b[0m\u001b[0mscore\u001b[0m\u001b[1;33m(\u001b[0m\u001b[0mtrain_y\u001b[0m\u001b[1;33m,\u001b[0m \u001b[0mpred_train\u001b[0m\u001b[1;33m)\u001b[0m\u001b[1;33m)\u001b[0m\u001b[1;33m\u001b[0m\u001b[1;33m\u001b[0m\u001b[0m\n\u001b[0m\u001b[0;32m      6\u001b[0m \u001b[1;33m\u001b[0m\u001b[0m\n\u001b[0;32m      7\u001b[0m \u001b[0mprint\u001b[0m\u001b[1;33m(\u001b[0m\u001b[1;34m\"Train R2 score: {:.2f}\"\u001b[0m\u001b[1;33m.\u001b[0m\u001b[0mformat\u001b[0m\u001b[1;33m(\u001b[0m\u001b[0mr2_score\u001b[0m\u001b[1;33m(\u001b[0m\u001b[0mtrain_y\u001b[0m\u001b[1;33m,\u001b[0m \u001b[0mpred_train\u001b[0m\u001b[1;33m)\u001b[0m\u001b[1;33m)\u001b[0m\u001b[1;33m)\u001b[0m\u001b[1;33m\u001b[0m\u001b[1;33m\u001b[0m\u001b[0m\n",
      "\u001b[1;32m~\\AppData\\Roaming\\Python\\Python38\\site-packages\\keras\\wrappers\\scikit_learn.py\u001b[0m in \u001b[0;36mscore\u001b[1;34m(self, x, y, **kwargs)\u001b[0m\n\u001b[0;32m    347\u001b[0m     \"\"\"\n\u001b[0;32m    348\u001b[0m     \u001b[0mkwargs\u001b[0m \u001b[1;33m=\u001b[0m \u001b[0mself\u001b[0m\u001b[1;33m.\u001b[0m\u001b[0mfilter_sk_params\u001b[0m\u001b[1;33m(\u001b[0m\u001b[0mSequential\u001b[0m\u001b[1;33m.\u001b[0m\u001b[0mevaluate\u001b[0m\u001b[1;33m,\u001b[0m \u001b[0mkwargs\u001b[0m\u001b[1;33m)\u001b[0m\u001b[1;33m\u001b[0m\u001b[1;33m\u001b[0m\u001b[0m\n\u001b[1;32m--> 349\u001b[1;33m     \u001b[0mloss\u001b[0m \u001b[1;33m=\u001b[0m \u001b[0mself\u001b[0m\u001b[1;33m.\u001b[0m\u001b[0mmodel\u001b[0m\u001b[1;33m.\u001b[0m\u001b[0mevaluate\u001b[0m\u001b[1;33m(\u001b[0m\u001b[0mx\u001b[0m\u001b[1;33m,\u001b[0m \u001b[0my\u001b[0m\u001b[1;33m,\u001b[0m \u001b[1;33m**\u001b[0m\u001b[0mkwargs\u001b[0m\u001b[1;33m)\u001b[0m\u001b[1;33m\u001b[0m\u001b[1;33m\u001b[0m\u001b[0m\n\u001b[0m\u001b[0;32m    350\u001b[0m     \u001b[1;32mif\u001b[0m \u001b[0misinstance\u001b[0m\u001b[1;33m(\u001b[0m\u001b[0mloss\u001b[0m\u001b[1;33m,\u001b[0m \u001b[0mlist\u001b[0m\u001b[1;33m)\u001b[0m\u001b[1;33m:\u001b[0m\u001b[1;33m\u001b[0m\u001b[1;33m\u001b[0m\u001b[0m\n\u001b[0;32m    351\u001b[0m       \u001b[1;32mreturn\u001b[0m \u001b[1;33m-\u001b[0m\u001b[0mloss\u001b[0m\u001b[1;33m[\u001b[0m\u001b[1;36m0\u001b[0m\u001b[1;33m]\u001b[0m\u001b[1;33m\u001b[0m\u001b[1;33m\u001b[0m\u001b[0m\n",
      "\u001b[1;32m~\\AppData\\Roaming\\Python\\Python38\\site-packages\\keras\\engine\\training.py\u001b[0m in \u001b[0;36mevaluate\u001b[1;34m(self, x, y, batch_size, verbose, sample_weight, steps, callbacks, max_queue_size, workers, use_multiprocessing, return_dict, **kwargs)\u001b[0m\n\u001b[0;32m   1462\u001b[0m             \u001b[1;32mwith\u001b[0m \u001b[0mtf\u001b[0m\u001b[1;33m.\u001b[0m\u001b[0mprofiler\u001b[0m\u001b[1;33m.\u001b[0m\u001b[0mexperimental\u001b[0m\u001b[1;33m.\u001b[0m\u001b[0mTrace\u001b[0m\u001b[1;33m(\u001b[0m\u001b[1;34m'test'\u001b[0m\u001b[1;33m,\u001b[0m \u001b[0mstep_num\u001b[0m\u001b[1;33m=\u001b[0m\u001b[0mstep\u001b[0m\u001b[1;33m,\u001b[0m \u001b[0m_r\u001b[0m\u001b[1;33m=\u001b[0m\u001b[1;36m1\u001b[0m\u001b[1;33m)\u001b[0m\u001b[1;33m:\u001b[0m\u001b[1;33m\u001b[0m\u001b[1;33m\u001b[0m\u001b[0m\n\u001b[0;32m   1463\u001b[0m               \u001b[0mcallbacks\u001b[0m\u001b[1;33m.\u001b[0m\u001b[0mon_test_batch_begin\u001b[0m\u001b[1;33m(\u001b[0m\u001b[0mstep\u001b[0m\u001b[1;33m)\u001b[0m\u001b[1;33m\u001b[0m\u001b[1;33m\u001b[0m\u001b[0m\n\u001b[1;32m-> 1464\u001b[1;33m               \u001b[0mtmp_logs\u001b[0m \u001b[1;33m=\u001b[0m \u001b[0mself\u001b[0m\u001b[1;33m.\u001b[0m\u001b[0mtest_function\u001b[0m\u001b[1;33m(\u001b[0m\u001b[0miterator\u001b[0m\u001b[1;33m)\u001b[0m\u001b[1;33m\u001b[0m\u001b[1;33m\u001b[0m\u001b[0m\n\u001b[0m\u001b[0;32m   1465\u001b[0m               \u001b[1;32mif\u001b[0m \u001b[0mdata_handler\u001b[0m\u001b[1;33m.\u001b[0m\u001b[0mshould_sync\u001b[0m\u001b[1;33m:\u001b[0m\u001b[1;33m\u001b[0m\u001b[1;33m\u001b[0m\u001b[0m\n\u001b[0;32m   1466\u001b[0m                 \u001b[0mcontext\u001b[0m\u001b[1;33m.\u001b[0m\u001b[0masync_wait\u001b[0m\u001b[1;33m(\u001b[0m\u001b[1;33m)\u001b[0m\u001b[1;33m\u001b[0m\u001b[1;33m\u001b[0m\u001b[0m\n",
      "\u001b[1;32m~\\AppData\\Roaming\\Python\\Python38\\site-packages\\tensorflow\\python\\eager\\def_function.py\u001b[0m in \u001b[0;36m__call__\u001b[1;34m(self, *args, **kwds)\u001b[0m\n\u001b[0;32m    887\u001b[0m \u001b[1;33m\u001b[0m\u001b[0m\n\u001b[0;32m    888\u001b[0m       \u001b[1;32mwith\u001b[0m \u001b[0mOptionalXlaContext\u001b[0m\u001b[1;33m(\u001b[0m\u001b[0mself\u001b[0m\u001b[1;33m.\u001b[0m\u001b[0m_jit_compile\u001b[0m\u001b[1;33m)\u001b[0m\u001b[1;33m:\u001b[0m\u001b[1;33m\u001b[0m\u001b[1;33m\u001b[0m\u001b[0m\n\u001b[1;32m--> 889\u001b[1;33m         \u001b[0mresult\u001b[0m \u001b[1;33m=\u001b[0m \u001b[0mself\u001b[0m\u001b[1;33m.\u001b[0m\u001b[0m_call\u001b[0m\u001b[1;33m(\u001b[0m\u001b[1;33m*\u001b[0m\u001b[0margs\u001b[0m\u001b[1;33m,\u001b[0m \u001b[1;33m**\u001b[0m\u001b[0mkwds\u001b[0m\u001b[1;33m)\u001b[0m\u001b[1;33m\u001b[0m\u001b[1;33m\u001b[0m\u001b[0m\n\u001b[0m\u001b[0;32m    890\u001b[0m \u001b[1;33m\u001b[0m\u001b[0m\n\u001b[0;32m    891\u001b[0m       \u001b[0mnew_tracing_count\u001b[0m \u001b[1;33m=\u001b[0m \u001b[0mself\u001b[0m\u001b[1;33m.\u001b[0m\u001b[0mexperimental_get_tracing_count\u001b[0m\u001b[1;33m(\u001b[0m\u001b[1;33m)\u001b[0m\u001b[1;33m\u001b[0m\u001b[1;33m\u001b[0m\u001b[0m\n",
      "\u001b[1;32m~\\AppData\\Roaming\\Python\\Python38\\site-packages\\tensorflow\\python\\eager\\def_function.py\u001b[0m in \u001b[0;36m_call\u001b[1;34m(self, *args, **kwds)\u001b[0m\n\u001b[0;32m    931\u001b[0m       \u001b[1;31m# This is the first call of __call__, so we have to initialize.\u001b[0m\u001b[1;33m\u001b[0m\u001b[1;33m\u001b[0m\u001b[1;33m\u001b[0m\u001b[0m\n\u001b[0;32m    932\u001b[0m       \u001b[0minitializers\u001b[0m \u001b[1;33m=\u001b[0m \u001b[1;33m[\u001b[0m\u001b[1;33m]\u001b[0m\u001b[1;33m\u001b[0m\u001b[1;33m\u001b[0m\u001b[0m\n\u001b[1;32m--> 933\u001b[1;33m       \u001b[0mself\u001b[0m\u001b[1;33m.\u001b[0m\u001b[0m_initialize\u001b[0m\u001b[1;33m(\u001b[0m\u001b[0margs\u001b[0m\u001b[1;33m,\u001b[0m \u001b[0mkwds\u001b[0m\u001b[1;33m,\u001b[0m \u001b[0madd_initializers_to\u001b[0m\u001b[1;33m=\u001b[0m\u001b[0minitializers\u001b[0m\u001b[1;33m)\u001b[0m\u001b[1;33m\u001b[0m\u001b[1;33m\u001b[0m\u001b[0m\n\u001b[0m\u001b[0;32m    934\u001b[0m     \u001b[1;32mfinally\u001b[0m\u001b[1;33m:\u001b[0m\u001b[1;33m\u001b[0m\u001b[1;33m\u001b[0m\u001b[0m\n\u001b[0;32m    935\u001b[0m       \u001b[1;31m# At this point we know that the initialization is complete (or less\u001b[0m\u001b[1;33m\u001b[0m\u001b[1;33m\u001b[0m\u001b[1;33m\u001b[0m\u001b[0m\n",
      "\u001b[1;32m~\\AppData\\Roaming\\Python\\Python38\\site-packages\\tensorflow\\python\\eager\\def_function.py\u001b[0m in \u001b[0;36m_initialize\u001b[1;34m(self, args, kwds, add_initializers_to)\u001b[0m\n\u001b[0;32m    761\u001b[0m     \u001b[0mself\u001b[0m\u001b[1;33m.\u001b[0m\u001b[0m_graph_deleter\u001b[0m \u001b[1;33m=\u001b[0m \u001b[0mFunctionDeleter\u001b[0m\u001b[1;33m(\u001b[0m\u001b[0mself\u001b[0m\u001b[1;33m.\u001b[0m\u001b[0m_lifted_initializer_graph\u001b[0m\u001b[1;33m)\u001b[0m\u001b[1;33m\u001b[0m\u001b[1;33m\u001b[0m\u001b[0m\n\u001b[0;32m    762\u001b[0m     self._concrete_stateful_fn = (\n\u001b[1;32m--> 763\u001b[1;33m         self._stateful_fn._get_concrete_function_internal_garbage_collected(  # pylint: disable=protected-access\n\u001b[0m\u001b[0;32m    764\u001b[0m             *args, **kwds))\n\u001b[0;32m    765\u001b[0m \u001b[1;33m\u001b[0m\u001b[0m\n",
      "\u001b[1;32m~\\AppData\\Roaming\\Python\\Python38\\site-packages\\tensorflow\\python\\eager\\function.py\u001b[0m in \u001b[0;36m_get_concrete_function_internal_garbage_collected\u001b[1;34m(self, *args, **kwargs)\u001b[0m\n\u001b[0;32m   3048\u001b[0m       \u001b[0margs\u001b[0m\u001b[1;33m,\u001b[0m \u001b[0mkwargs\u001b[0m \u001b[1;33m=\u001b[0m \u001b[1;32mNone\u001b[0m\u001b[1;33m,\u001b[0m \u001b[1;32mNone\u001b[0m\u001b[1;33m\u001b[0m\u001b[1;33m\u001b[0m\u001b[0m\n\u001b[0;32m   3049\u001b[0m     \u001b[1;32mwith\u001b[0m \u001b[0mself\u001b[0m\u001b[1;33m.\u001b[0m\u001b[0m_lock\u001b[0m\u001b[1;33m:\u001b[0m\u001b[1;33m\u001b[0m\u001b[1;33m\u001b[0m\u001b[0m\n\u001b[1;32m-> 3050\u001b[1;33m       \u001b[0mgraph_function\u001b[0m\u001b[1;33m,\u001b[0m \u001b[0m_\u001b[0m \u001b[1;33m=\u001b[0m \u001b[0mself\u001b[0m\u001b[1;33m.\u001b[0m\u001b[0m_maybe_define_function\u001b[0m\u001b[1;33m(\u001b[0m\u001b[0margs\u001b[0m\u001b[1;33m,\u001b[0m \u001b[0mkwargs\u001b[0m\u001b[1;33m)\u001b[0m\u001b[1;33m\u001b[0m\u001b[1;33m\u001b[0m\u001b[0m\n\u001b[0m\u001b[0;32m   3051\u001b[0m     \u001b[1;32mreturn\u001b[0m \u001b[0mgraph_function\u001b[0m\u001b[1;33m\u001b[0m\u001b[1;33m\u001b[0m\u001b[0m\n\u001b[0;32m   3052\u001b[0m \u001b[1;33m\u001b[0m\u001b[0m\n",
      "\u001b[1;32m~\\AppData\\Roaming\\Python\\Python38\\site-packages\\tensorflow\\python\\eager\\function.py\u001b[0m in \u001b[0;36m_maybe_define_function\u001b[1;34m(self, args, kwargs)\u001b[0m\n\u001b[0;32m   3442\u001b[0m \u001b[1;33m\u001b[0m\u001b[0m\n\u001b[0;32m   3443\u001b[0m           \u001b[0mself\u001b[0m\u001b[1;33m.\u001b[0m\u001b[0m_function_cache\u001b[0m\u001b[1;33m.\u001b[0m\u001b[0mmissed\u001b[0m\u001b[1;33m.\u001b[0m\u001b[0madd\u001b[0m\u001b[1;33m(\u001b[0m\u001b[0mcall_context_key\u001b[0m\u001b[1;33m)\u001b[0m\u001b[1;33m\u001b[0m\u001b[1;33m\u001b[0m\u001b[0m\n\u001b[1;32m-> 3444\u001b[1;33m           \u001b[0mgraph_function\u001b[0m \u001b[1;33m=\u001b[0m \u001b[0mself\u001b[0m\u001b[1;33m.\u001b[0m\u001b[0m_create_graph_function\u001b[0m\u001b[1;33m(\u001b[0m\u001b[0margs\u001b[0m\u001b[1;33m,\u001b[0m \u001b[0mkwargs\u001b[0m\u001b[1;33m)\u001b[0m\u001b[1;33m\u001b[0m\u001b[1;33m\u001b[0m\u001b[0m\n\u001b[0m\u001b[0;32m   3445\u001b[0m           \u001b[0mself\u001b[0m\u001b[1;33m.\u001b[0m\u001b[0m_function_cache\u001b[0m\u001b[1;33m.\u001b[0m\u001b[0mprimary\u001b[0m\u001b[1;33m[\u001b[0m\u001b[0mcache_key\u001b[0m\u001b[1;33m]\u001b[0m \u001b[1;33m=\u001b[0m \u001b[0mgraph_function\u001b[0m\u001b[1;33m\u001b[0m\u001b[1;33m\u001b[0m\u001b[0m\n\u001b[0;32m   3446\u001b[0m \u001b[1;33m\u001b[0m\u001b[0m\n",
      "\u001b[1;32m~\\AppData\\Roaming\\Python\\Python38\\site-packages\\tensorflow\\python\\eager\\function.py\u001b[0m in \u001b[0;36m_create_graph_function\u001b[1;34m(self, args, kwargs, override_flat_arg_shapes)\u001b[0m\n\u001b[0;32m   3277\u001b[0m     \u001b[0marg_names\u001b[0m \u001b[1;33m=\u001b[0m \u001b[0mbase_arg_names\u001b[0m \u001b[1;33m+\u001b[0m \u001b[0mmissing_arg_names\u001b[0m\u001b[1;33m\u001b[0m\u001b[1;33m\u001b[0m\u001b[0m\n\u001b[0;32m   3278\u001b[0m     graph_function = ConcreteFunction(\n\u001b[1;32m-> 3279\u001b[1;33m         func_graph_module.func_graph_from_py_func(\n\u001b[0m\u001b[0;32m   3280\u001b[0m             \u001b[0mself\u001b[0m\u001b[1;33m.\u001b[0m\u001b[0m_name\u001b[0m\u001b[1;33m,\u001b[0m\u001b[1;33m\u001b[0m\u001b[1;33m\u001b[0m\u001b[0m\n\u001b[0;32m   3281\u001b[0m             \u001b[0mself\u001b[0m\u001b[1;33m.\u001b[0m\u001b[0m_python_function\u001b[0m\u001b[1;33m,\u001b[0m\u001b[1;33m\u001b[0m\u001b[1;33m\u001b[0m\u001b[0m\n",
      "\u001b[1;32m~\\AppData\\Roaming\\Python\\Python38\\site-packages\\tensorflow\\python\\framework\\func_graph.py\u001b[0m in \u001b[0;36mfunc_graph_from_py_func\u001b[1;34m(name, python_func, args, kwargs, signature, func_graph, autograph, autograph_options, add_control_dependencies, arg_names, op_return_value, collections, capture_by_value, override_flat_arg_shapes)\u001b[0m\n\u001b[0;32m    997\u001b[0m         \u001b[0m_\u001b[0m\u001b[1;33m,\u001b[0m \u001b[0moriginal_func\u001b[0m \u001b[1;33m=\u001b[0m \u001b[0mtf_decorator\u001b[0m\u001b[1;33m.\u001b[0m\u001b[0munwrap\u001b[0m\u001b[1;33m(\u001b[0m\u001b[0mpython_func\u001b[0m\u001b[1;33m)\u001b[0m\u001b[1;33m\u001b[0m\u001b[1;33m\u001b[0m\u001b[0m\n\u001b[0;32m    998\u001b[0m \u001b[1;33m\u001b[0m\u001b[0m\n\u001b[1;32m--> 999\u001b[1;33m       \u001b[0mfunc_outputs\u001b[0m \u001b[1;33m=\u001b[0m \u001b[0mpython_func\u001b[0m\u001b[1;33m(\u001b[0m\u001b[1;33m*\u001b[0m\u001b[0mfunc_args\u001b[0m\u001b[1;33m,\u001b[0m \u001b[1;33m**\u001b[0m\u001b[0mfunc_kwargs\u001b[0m\u001b[1;33m)\u001b[0m\u001b[1;33m\u001b[0m\u001b[1;33m\u001b[0m\u001b[0m\n\u001b[0m\u001b[0;32m   1000\u001b[0m \u001b[1;33m\u001b[0m\u001b[0m\n\u001b[0;32m   1001\u001b[0m       \u001b[1;31m# invariant: `func_outputs` contains only Tensors, CompositeTensors,\u001b[0m\u001b[1;33m\u001b[0m\u001b[1;33m\u001b[0m\u001b[1;33m\u001b[0m\u001b[0m\n",
      "\u001b[1;32m~\\AppData\\Roaming\\Python\\Python38\\site-packages\\tensorflow\\python\\eager\\def_function.py\u001b[0m in \u001b[0;36mwrapped_fn\u001b[1;34m(*args, **kwds)\u001b[0m\n\u001b[0;32m    670\u001b[0m         \u001b[1;31m# the function a weak reference to itself to avoid a reference cycle.\u001b[0m\u001b[1;33m\u001b[0m\u001b[1;33m\u001b[0m\u001b[1;33m\u001b[0m\u001b[0m\n\u001b[0;32m    671\u001b[0m         \u001b[1;32mwith\u001b[0m \u001b[0mOptionalXlaContext\u001b[0m\u001b[1;33m(\u001b[0m\u001b[0mcompile_with_xla\u001b[0m\u001b[1;33m)\u001b[0m\u001b[1;33m:\u001b[0m\u001b[1;33m\u001b[0m\u001b[1;33m\u001b[0m\u001b[0m\n\u001b[1;32m--> 672\u001b[1;33m           \u001b[0mout\u001b[0m \u001b[1;33m=\u001b[0m \u001b[0mweak_wrapped_fn\u001b[0m\u001b[1;33m(\u001b[0m\u001b[1;33m)\u001b[0m\u001b[1;33m.\u001b[0m\u001b[0m__wrapped__\u001b[0m\u001b[1;33m(\u001b[0m\u001b[1;33m*\u001b[0m\u001b[0margs\u001b[0m\u001b[1;33m,\u001b[0m \u001b[1;33m**\u001b[0m\u001b[0mkwds\u001b[0m\u001b[1;33m)\u001b[0m\u001b[1;33m\u001b[0m\u001b[1;33m\u001b[0m\u001b[0m\n\u001b[0m\u001b[0;32m    673\u001b[0m         \u001b[1;32mreturn\u001b[0m \u001b[0mout\u001b[0m\u001b[1;33m\u001b[0m\u001b[1;33m\u001b[0m\u001b[0m\n\u001b[0;32m    674\u001b[0m \u001b[1;33m\u001b[0m\u001b[0m\n",
      "\u001b[1;32m~\\AppData\\Roaming\\Python\\Python38\\site-packages\\tensorflow\\python\\framework\\func_graph.py\u001b[0m in \u001b[0;36mwrapper\u001b[1;34m(*args, **kwargs)\u001b[0m\n\u001b[0;32m    984\u001b[0m           \u001b[1;32mexcept\u001b[0m \u001b[0mException\u001b[0m \u001b[1;32mas\u001b[0m \u001b[0me\u001b[0m\u001b[1;33m:\u001b[0m  \u001b[1;31m# pylint:disable=broad-except\u001b[0m\u001b[1;33m\u001b[0m\u001b[1;33m\u001b[0m\u001b[0m\n\u001b[0;32m    985\u001b[0m             \u001b[1;32mif\u001b[0m \u001b[0mhasattr\u001b[0m\u001b[1;33m(\u001b[0m\u001b[0me\u001b[0m\u001b[1;33m,\u001b[0m \u001b[1;34m\"ag_error_metadata\"\u001b[0m\u001b[1;33m)\u001b[0m\u001b[1;33m:\u001b[0m\u001b[1;33m\u001b[0m\u001b[1;33m\u001b[0m\u001b[0m\n\u001b[1;32m--> 986\u001b[1;33m               \u001b[1;32mraise\u001b[0m \u001b[0me\u001b[0m\u001b[1;33m.\u001b[0m\u001b[0mag_error_metadata\u001b[0m\u001b[1;33m.\u001b[0m\u001b[0mto_exception\u001b[0m\u001b[1;33m(\u001b[0m\u001b[0me\u001b[0m\u001b[1;33m)\u001b[0m\u001b[1;33m\u001b[0m\u001b[1;33m\u001b[0m\u001b[0m\n\u001b[0m\u001b[0;32m    987\u001b[0m             \u001b[1;32melse\u001b[0m\u001b[1;33m:\u001b[0m\u001b[1;33m\u001b[0m\u001b[1;33m\u001b[0m\u001b[0m\n\u001b[0;32m    988\u001b[0m               \u001b[1;32mraise\u001b[0m\u001b[1;33m\u001b[0m\u001b[1;33m\u001b[0m\u001b[0m\n",
      "\u001b[1;31mValueError\u001b[0m: in user code:\n\n    C:\\Users\\shans\\AppData\\Roaming\\Python\\Python38\\site-packages\\keras\\engine\\training.py:1298 test_function  *\n        return step_function(self, iterator)\n    C:\\Users\\shans\\AppData\\Roaming\\Python\\Python38\\site-packages\\keras\\engine\\training.py:1282 run_step  *\n        outputs = model.test_step(data)\n    C:\\Users\\shans\\AppData\\Roaming\\Python\\Python38\\site-packages\\keras\\engine\\training.py:1241 test_step  *\n        y_pred = self(x, training=False)\n    C:\\Users\\shans\\AppData\\Roaming\\Python\\Python38\\site-packages\\keras\\engine\\base_layer.py:989 __call__  *\n        input_spec.assert_input_compatibility(self.input_spec, inputs, self.name)\n    C:\\Users\\shans\\AppData\\Roaming\\Python\\Python38\\site-packages\\keras\\engine\\input_spec.py:248 assert_input_compatibility  *\n        raise ValueError(\n\n    ValueError: Input 0 of layer sequential is incompatible with the layer: expected axis -1 of input shape to have value 19 but received input with shape (None, 1)\n"
     ]
    }
   ],
   "source": [
    "from sklearn.metrics import r2_score\n",
    "from sklearn.metrics import mean_squared_error\n",
    "from sklearn.metrics import explained_variance_score\n",
    "\n",
    "print(model.score(train_y, pred_train))\n",
    "\n",
    "print(\"Train R2 score: {:.2f}\".format(r2_score(train_y, pred_train)))\n",
    "print(\"Test R2 score: {:.2f}\".format(r2_score(test_y, pred_test)))\n",
    "print(\"Train mse : {:e}\".format(mean_squared_error(train_y, pred_train)))\n",
    "print(\"Test mse : {:e}\".format(mean_squared_error(test_y, pred_test)))\n",
    "print(\"Train explained variance score : {:e}\".format(explained_variance_score(train_y, pred_train)))\n",
    "print(\"Test explained variance score : {:e}\".format(explained_variance_score(test_y, pred_test)))"
   ]
  },
  {
   "cell_type": "code",
   "execution_count": null,
   "metadata": {
    "scrolled": true
   },
   "outputs": [],
   "source": [
    "from sklearn.metrics import r2_score\n",
    "import keras\n",
    "\n",
    "class r2_score(keras.metrics.Metric):\n",
    "    def __init__(self, name='r2_score', **kwargs):\n",
    "        super(r2_score, self).__init__(name=name, **kwargs)\n",
    "        self.r2 = 0.0\n",
    "        \n",
    "    def update_state(self, y_true, y_pred, sample_weight=None):\n",
    "        #y_pred = tf.reshape(rtf.argmax(y_pred, axis=1), shape=(-1, 1))\n",
    "        values = r2_score(y_true, y_pred, sample_weight)\n",
    "        self.r2 = values\n",
    "    \n",
    "    def result(self):\n",
    "        return self.r2\n",
    "    \n",
    "    def reset_states(self):\n",
    "        self.r2.assign(0.0)"
   ]
  }
 ],
 "metadata": {
  "kernelspec": {
   "display_name": "Python 3",
   "language": "python",
   "name": "python3"
  },
  "language_info": {
   "codemirror_mode": {
    "name": "ipython",
    "version": 3
   },
   "file_extension": ".py",
   "mimetype": "text/x-python",
   "name": "python",
   "nbconvert_exporter": "python",
   "pygments_lexer": "ipython3",
   "version": "3.8.8"
  }
 },
 "nbformat": 4,
 "nbformat_minor": 4
}
